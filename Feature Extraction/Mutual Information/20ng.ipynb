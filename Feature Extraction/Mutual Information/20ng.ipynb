{
 "cells": [
  {
   "cell_type": "code",
   "execution_count": 1,
   "metadata": {},
   "outputs": [],
   "source": [
    "from sklearn.datasets import fetch_20newsgroups\n",
    "from sklearn.feature_extraction.text import TfidfVectorizer\n",
    "from sklearn.feature_selection import SelectKBest, chi2, mutual_info_classif\n",
    "from sklearn.linear_model import LogisticRegression\n",
    "from sklearn.tree import DecisionTreeClassifier\n",
    "import numpy as np"
   ]
  },
  {
   "cell_type": "code",
   "execution_count": 2,
   "metadata": {},
   "outputs": [],
   "source": [
    "def l2_logistic_regression(train_data, test_data, train_labels, test_labels):\n",
    "    \n",
    "    # Train model\n",
    "    model = LogisticRegression(penalty='l2', random_state=42)\n",
    "    model.fit(train_data, train_labels)\n",
    "\n",
    "    # Test model\n",
    "    y_train_pred = model.predict(train_data)\n",
    "    y_test_pred = model.predict(test_data)\n",
    "\n",
    "    # Evaluate model\n",
    "    print('\\nLogistic Regression - \\nTrain Accuracy: ', round(np.sum(y_train_pred == train_labels) / train_data.shape[0], 4))\n",
    "    print('Test Accuracy: ', round(np.sum(y_test_pred == test_labels) / test_data.shape[0], 4))"
   ]
  },
  {
   "cell_type": "code",
   "execution_count": 3,
   "metadata": {},
   "outputs": [],
   "source": [
    "def decision_tree_classifier(train_data, test_data, train_labels, test_labels):\n",
    "\n",
    "    # Train model\n",
    "    model = DecisionTreeClassifier(random_state=42)\n",
    "    model.fit(train_data, train_labels)\n",
    "    \n",
    "    # Test model\n",
    "    y_train_pred = model.predict(train_data)\n",
    "    y_test_pred = model.predict(test_data)\n",
    "\n",
    "    # Evaluate model\n",
    "    print('\\nDecision Tree - \\nTrain Accuracy: ', round(np.sum(y_train_pred == train_labels) / train_data.shape[0], 4))\n",
    "    print('Test Accuracy: ', round(np.sum(y_test_pred == test_labels) / test_data.shape[0], 4))"
   ]
  },
  {
   "cell_type": "code",
   "execution_count": 4,
   "metadata": {},
   "outputs": [
    {
     "name": "stdout",
     "output_type": "stream",
     "text": [
      "11314\n",
      "7532\n",
      "11314\n",
      "7532\n"
     ]
    }
   ],
   "source": [
    "# Fetch data\n",
    "ng_train = fetch_20newsgroups(subset='train')\n",
    "ng_test = fetch_20newsgroups(subset='test')\n",
    "\n",
    "# Training and testing data\n",
    "X_train = ng_train.data\n",
    "X_test = ng_test.data\n",
    "\n",
    "# Set of label names for training and testing data\n",
    "# ng_train.target_names\n",
    "# ng_test.target_names\n",
    "\n",
    "# Training and testing labels, where each label is associated with a number corresponding to the index in target_names\n",
    "# ng_train.target\n",
    "# ng_test.target\n",
    "\n",
    "# Training and testing labels\n",
    "y_train = []\n",
    "y_test = []\n",
    "\n",
    "for i in range(len(X_train)):\n",
    "    y_train.append(ng_train.target_names[ng_train.target[i]])\n",
    "for i in range(len(X_test)):\n",
    "    y_test.append(ng_test.target_names[ng_test.target[i]])\n",
    "\n",
    "print(len(X_train))\n",
    "print(len(X_test))\n",
    "print(len(y_train))\n",
    "print(len(y_test))"
   ]
  },
  {
   "cell_type": "code",
   "execution_count": 5,
   "metadata": {},
   "outputs": [
    {
     "name": "stdout",
     "output_type": "stream",
     "text": [
      "(11314, 129796)\n",
      "(7532, 129796)\n"
     ]
    }
   ],
   "source": [
    "# Converting text to vectors\n",
    "tfidf = TfidfVectorizer(stop_words='english')\n",
    "tfidf.fit(X_train)\n",
    "vect_X_train = tfidf.transform(X_train)\n",
    "vect_X_test = tfidf.transform(X_test)\n",
    "\n",
    "print(vect_X_train.shape)\n",
    "print(vect_X_test.shape)"
   ]
  },
  {
   "cell_type": "code",
   "execution_count": 6,
   "metadata": {},
   "outputs": [
    {
     "name": "stdout",
     "output_type": "stream",
     "text": [
      "\n",
      "Logistic Regression - \n",
      "Train Accuracy:  0.9746\n",
      "Test Accuracy:  0.8298\n",
      "\n",
      "Decision Tree - \n",
      "Train Accuracy:  0.9999\n",
      "Test Accuracy:  0.5678\n"
     ]
    }
   ],
   "source": [
    "l2_logistic_regression(vect_X_train, vect_X_test, y_train, y_test)\n",
    "decision_tree_classifier(vect_X_train, vect_X_test, y_train, y_test)"
   ]
  },
  {
   "cell_type": "code",
   "execution_count": 7,
   "metadata": {},
   "outputs": [
    {
     "name": "stdout",
     "output_type": "stream",
     "text": [
      "Top 200 features:\n",
      "['subject', 'lines', 'organization', 'edu', 'writes', 'article', 'posting', 'host', 'com', 'nntp', 'university', 'like', 'just', 'don', 'know', 'think', 'does', 'distribution', 'people', 'time', 'good', 'reply', 'use', 'new', 'way', 'make', 'world', 'ca', 'say', 'want', 'thanks', 've', 'need', 'right', 'really', 'used', 'usa', 'work', 'computer', 'did', 'cs', 'problem', 'mail', 'help', 'state', 'said', 'going', 'question', 'years', 'sure', '10', 'believe', 'news', 'point', 'using', 'll', 'better', 'got', 'things', 'case', 'thing', 'let', 'doesn', 'read', 'long', '15', 'look', 'little', '20', 'year', '1993', 'probably', 'come', 'fact', '16', 'information', 'best', 'course', 'tell', 'try', 'day', 'didn', 'great', 'far', 'actually', 'lot', 'post', 'keywords', '14', 'david', 'real', 'software', 'number', 'science', '12', 'bit', 'possible', 'true', 'god', 'version', 'different', 'group', 'says', 'old', 'end', 'apr', 'high', 'public', 'having', '30', 'hard', 'mean', 'windows', 'called', 'john', 'power', 'net', 'looking', 'able', 'government', 'thought', 'wrote', '17', 'wrong', 'run', 'systems', 'research', 'maybe', 'isn', 'line', '19', 'set', '13', 'second', 'internet', 'seen', 'bad', 'doing', 'available', 'trying', '11', 'yes', 'email', '18', 'life', 'access', 'quite', 'reason', 'problems', 'opinions', 'non', 'technology', 'away', 'message', 'place', '25', 'support', 'big', 'getting', 'following', 'free', 'org', 'cc', 'heard', '24', 'man', 'program', 'center', 'times', 'today', 'idea', 'order', 'kind', 'won', 'person', '21', '93', 'example', 'makes', 'start', 'remember', 'means', 'drive', 'ago', 'given', 'phone', 'info', 'data', '22', 'ask', 'interested', 'law', 'uucp', 'pretty', 'department', 'send', 'space', 'left', 'hope', 'home']\n",
      "\n",
      "Logistic Regression - \n",
      "Train Accuracy:  0.5057\n",
      "Test Accuracy:  0.3663\n",
      "\n",
      "Decision Tree - \n",
      "Train Accuracy:  0.9992\n",
      "Test Accuracy:  0.2322\n"
     ]
    }
   ],
   "source": [
    "K = 200\n",
    "model = SelectKBest(mutual_info_classif, k=K)\n",
    "model.fit(vect_X_train, y_train)\n",
    "importances = model.scores_      # Scores of each feature\n",
    "\n",
    "indices = np.argsort(importances)[::-1]\n",
    "features = tfidf.get_feature_names()\n",
    "\n",
    "# Store top k features\n",
    "new_features = []\n",
    "print('Top ' + str(K) + ' features:')\n",
    "for f in range(K):\n",
    "    new_features.append(features[indices[f]])\n",
    "print(new_features)\n",
    "\n",
    "# Convert train and test data to vectors based on k features\n",
    "new_tidf = TfidfVectorizer(stop_words='english', vocabulary=new_features)\n",
    "new_tidf.fit(X_train)\n",
    "new_vect_X_train = new_tidf.transform(X_train)\n",
    "new_vect_X_test = new_tidf.transform(X_test)\n",
    "\n",
    "# Perform classification on data with k features\n",
    "l2_logistic_regression(new_vect_X_train, new_vect_X_test, y_train, y_test)\n",
    "decision_tree_classifier(new_vect_X_train, new_vect_X_test, y_train, y_test)"
   ]
  },
  {
   "cell_type": "code",
   "execution_count": null,
   "metadata": {},
   "outputs": [],
   "source": []
  }
 ],
 "metadata": {
  "kernelspec": {
   "display_name": "Python 3",
   "language": "python",
   "name": "python3"
  },
  "language_info": {
   "codemirror_mode": {
    "name": "ipython",
    "version": 3
   },
   "file_extension": ".py",
   "mimetype": "text/x-python",
   "name": "python",
   "nbconvert_exporter": "python",
   "pygments_lexer": "ipython3",
   "version": "3.6.4"
  }
 },
 "nbformat": 4,
 "nbformat_minor": 2
}
