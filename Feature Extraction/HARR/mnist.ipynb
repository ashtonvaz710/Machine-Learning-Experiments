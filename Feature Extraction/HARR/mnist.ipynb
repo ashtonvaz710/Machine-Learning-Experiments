{
 "cells": [
  {
   "cell_type": "code",
   "execution_count": 1,
   "metadata": {},
   "outputs": [],
   "source": [
    "from sklearn.datasets import fetch_mldata\n",
    "from sklearn.model_selection import train_test_split\n",
    "from sklearn.linear_model import LogisticRegression\n",
    "from sklearn.tree import DecisionTreeClassifier\n",
    "from pprint import pprint\n",
    "import numpy as np\n",
    "import matplotlib.pyplot as plt\n",
    "import matplotlib.patches as patches"
   ]
  },
  {
   "cell_type": "code",
   "execution_count": 2,
   "metadata": {},
   "outputs": [],
   "source": [
    "def l2_logistic_regression(train_data, test_data, train_labels, test_labels):\n",
    "    \n",
    "    # Train model\n",
    "    model = LogisticRegression(penalty='l2', random_state=42)\n",
    "    model.fit(train_data, train_labels)    \n",
    "    \n",
    "    # Test model\n",
    "    y_train_pred = model.predict(train_data)\n",
    "    y_test_pred = model.predict(test_data)\n",
    "\n",
    "    # Evaluate model\n",
    "    print('\\nLogistic Regression - \\nTrain Accuracy: ', round(np.sum(y_train_pred == train_labels) / train_data.shape[0], 4))\n",
    "    print('Test Accuracy: ', round(np.sum(y_test_pred == test_labels) / test_data.shape[0], 4))"
   ]
  },
  {
   "cell_type": "code",
   "execution_count": 3,
   "metadata": {},
   "outputs": [],
   "source": [
    "def decision_tree_classifier(train_data, test_data, train_labels, test_labels):\n",
    "\n",
    "    # Train model\n",
    "    model = DecisionTreeClassifier(random_state=42)\n",
    "    model.fit(train_data, train_labels)\n",
    "\n",
    "    # Test model\n",
    "    y_train_pred = model.predict(train_data)\n",
    "    y_test_pred = model.predict(test_data)\n",
    "\n",
    "    # Evaluate model\n",
    "    print('\\nDecision Tree - \\nTrain Accuracy: ', round(np.sum(y_train_pred == train_labels) / train_data.shape[0], 4))\n",
    "    print('Test Accuracy: ', round(np.sum(y_test_pred == test_labels) / test_data.shape[0], 4))"
   ]
  },
  {
   "cell_type": "code",
   "execution_count": 4,
   "metadata": {},
   "outputs": [],
   "source": [
    "# Fetch data\n",
    "mnist_dataset = fetch_mldata('MNIST original')\n",
    "mnist_data = mnist_dataset.data\n",
    "mnist_labels = mnist_dataset.target"
   ]
  },
  {
   "cell_type": "code",
   "execution_count": 5,
   "metadata": {},
   "outputs": [],
   "source": [
    "def generate_rectangles():\n",
    "    rectangles = []\n",
    "    i = 0\n",
    "    \n",
    "    while i < 100:\n",
    "        \n",
    "        # Generate random rectangle\n",
    "        new_rectangle = [[np.random.randint(27), np.random.randint(27)], [np.random.randint(27), np.random.randint(27)]]\n",
    "        \n",
    "        # Skip if rectangle already in list or if rectangle area not between 130 and 170\n",
    "        if new_rectangle in rectangles or get_rectangle_area(new_rectangle) < 130 or get_rectangle_area(new_rectangle) > 170:\n",
    "            continue\n",
    "       \n",
    "        # Append to list of rectangles\n",
    "        rectangles.append(new_rectangle)\n",
    "        i += 1\n",
    "    \n",
    "    return rectangles"
   ]
  },
  {
   "cell_type": "code",
   "execution_count": 6,
   "metadata": {},
   "outputs": [],
   "source": [
    "def get_rectangle_area(rectangle):\n",
    "    # (x2 - x1) * (y2 - y1)\n",
    "    return ((abs(rectangle[1][0] - rectangle[0][0])) * (abs(rectangle[1][1] - rectangle[0][1])))"
   ]
  },
  {
   "cell_type": "code",
   "execution_count": 7,
   "metadata": {},
   "outputs": [],
   "source": [
    "def black(rectangle):\n",
    "    \n",
    "    black_matrix = np.zeros((rectangle.shape[0], rectangle.shape[1]))\n",
    "\n",
    "    for i in range(rectangle.shape[0]):\n",
    "        if rectangle[i][0] > 0:\n",
    "            black_matrix[i][0] = black_matrix[i-1][0] + 1 if i > 0 else 1\n",
    "        \n",
    "    for j in range(rectangle.shape[1]):\n",
    "        if rectangle[0][j] > 0:\n",
    "            black_matrix[0][j] = black_matrix[0][j-1] + 1 if j > 0 else 1\n",
    "                \n",
    "    for i in range(1, rectangle.shape[0]):\n",
    "        for j in range(1, rectangle.shape[1]):\n",
    "            black_dij = 1 if rectangle[i][j] > 0 else 0\n",
    "            black_matrix[i][j] = black_matrix[i][j-1] + black_matrix[i-1][j] - black_matrix[i-1][j-1] + black_dij\n",
    "    \n",
    "    return black_matrix"
   ]
  },
  {
   "cell_type": "code",
   "execution_count": 8,
   "metadata": {},
   "outputs": [],
   "source": [
    "rectangles = generate_rectangles()\n",
    "new_mnist_data = np.zeros((mnist_data.shape[0], 200))\n",
    "\n",
    "for i in range(len(mnist_data)):\n",
    "    \n",
    "    black_matrix = black(mnist_data[i].reshape(28, 28))\n",
    "    j = 0\n",
    "    for rectangle in rectangles:\n",
    "        # Edges of rectangle ABCD\n",
    "        A = rectangle[0]\n",
    "        C = rectangle[1]\n",
    "        B = [rectangle[1][0], rectangle[0][1]]\n",
    "        D = [rectangle[0][0], rectangle[1][1]]\n",
    "        \n",
    "        # Mid-point of edges\n",
    "        AB = [int((A[0] + B[0]) / 2), A[1]]\n",
    "        CD = [int((C[0] + D[0]) / 2), C[1]]\n",
    "        AD = [A[0], int((A[1] + D[1]) / 2)]\n",
    "        BC = [B[0], int((B[1] + C[1]) / 2)]\n",
    "        \n",
    "        new_mnist_data[i][j] = (black_matrix[BC[0], BC[1]] - black_matrix[B[0], B[1]] - black_matrix[AD[0], AD[1]] + black_matrix[A[0], A[1]]) - (black_matrix[C[0], C[1]] - black_matrix[BC[0], BC[1]] - black_matrix[D[0], D[1]] + black_matrix[AD[0], AD[1]])\n",
    "        new_mnist_data[i][j+1] = (black_matrix[CD[0], CD[1]] - black_matrix[AB[0], AB[1]] - black_matrix[D[0], D[1]] + black_matrix[A[0], A[1]]) - (black_matrix[C[0], C[1]] - black_matrix[B[0], B[1]] - black_matrix[CD[0], CD[1]] + black_matrix[AB[0], AB[1]])\n",
    "        \n",
    "        j += 2"
   ]
  },
  {
   "cell_type": "code",
   "execution_count": 9,
   "metadata": {},
   "outputs": [
    {
     "data": {
      "image/png": "[encoded data removed]",
      "text/plain": [
       "<matplotlib.figure.Figure at 0x231c934a588>"
      ]
     },
     "metadata": {},
     "output_type": "display_data"
    }
   ],
   "source": [
    "subplot = plt.figure().add_subplot(111, aspect='equal')\n",
    "for rectangle in rectangles:\n",
    "    A = rectangle[0]\n",
    "    C = rectangle[1]\n",
    "    \n",
    "    height = C[1] - A[1]\n",
    "    width = C[0] - A[0]\n",
    "    \n",
    "    subplot.add_patch(patches.Rectangle((A[0], A[1]), width, height, fill=False))\n",
    "    plt.xlim((0, 27))\n",
    "    plt.ylim((0, 27))"
   ]
  },
  {
   "cell_type": "code",
   "execution_count": 10,
   "metadata": {},
   "outputs": [],
   "source": [
    "# Split into training and testing datasets\n",
    "X_train, X_test, y_train, y_test = train_test_split(mnist_data, mnist_labels, test_size=0.20, random_state=42)"
   ]
  },
  {
   "cell_type": "code",
   "execution_count": 11,
   "metadata": {},
   "outputs": [
    {
     "name": "stdout",
     "output_type": "stream",
     "text": [
      "\n",
      "Logistic Regression - \n",
      "Train Accuracy:  0.9327\n",
      "Test Accuracy:  0.9179\n",
      "\n",
      "Decision Tree - \n",
      "Train Accuracy:  1.0\n",
      "Test Accuracy:  0.8737\n"
     ]
    }
   ],
   "source": [
    "l2_logistic_regression(X_train, X_test, y_train, y_test)\n",
    "decision_tree_classifier(X_train, X_test, y_trai\n",
    "                         n, y_test)"
   ]
  },
  {
   "cell_type": "code",
   "execution_count": null,
   "metadata": {},
   "outputs": [],
   "source": []
  }
 ],
 "metadata": {
  "kernelspec": {
   "display_name": "Python 3",
   "language": "python",
   "name": "python3"
  },
  "language_info": {
   "codemirror_mode": {
    "name": "ipython",
    "version": 3
   },
   "file_extension": ".py",
   "mimetype": "text/x-python",
   "name": "python",
   "nbconvert_exporter": "python",
   "pygments_lexer": "ipython3",
   "version": "3.6.4"
  }
 },
 "nbformat": 4,
 "nbformat_minor": 2
}
