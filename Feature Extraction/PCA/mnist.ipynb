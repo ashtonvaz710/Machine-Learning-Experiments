{
 "cells": [
  {
   "cell_type": "code",
   "execution_count": 1,
   "metadata": {},
   "outputs": [],
   "source": [
    "from sklearn.datasets import fetch_mldata\n",
    "from sklearn.model_selection import train_test_split\n",
    "from sklearn.linear_model import LogisticRegression\n",
    "from sklearn.tree import DecisionTreeClassifier\n",
    "from sklearn.decomposition import PCA\n",
    "import numpy as np"
   ]
  },
  {
   "cell_type": "code",
   "execution_count": 2,
   "metadata": {},
   "outputs": [],
   "source": [
    "def l2_logistic_regression(train_data, test_data, train_labels, test_labels):\n",
    "    \n",
    "    # Train model\n",
    "    model = LogisticRegression(penalty='l2', random_state=42)\n",
    "    model.fit(train_data, train_labels)\n",
    "\n",
    "    # Test model\n",
    "    y_train_pred = model.predict(train_data)\n",
    "    y_test_pred = model.predict(test_data)\n",
    "\n",
    "    # Evaluate model\n",
    "    print('\\nLogistic Regression - \\nTrain Accuracy: ', round(np.sum(y_train_pred == train_labels) / train_data.shape[0], 4))\n",
    "    print('Test Accuracy: ', round(np.sum(y_test_pred == test_labels) / test_data.shape[0], 4))"
   ]
  },
  {
   "cell_type": "code",
   "execution_count": 3,
   "metadata": {},
   "outputs": [],
   "source": [
    "def decision_tree_classifier(train_data, test_data, train_labels, test_labels):\n",
    "\n",
    "    # Train model\n",
    "    model = DecisionTreeClassifier(random_state=42)\n",
    "    model.fit(train_data, train_labels)\n",
    "    \n",
    "    # Test model\n",
    "    y_train_pred = model.predict(train_data)\n",
    "    y_test_pred = model.predict(test_data)\n",
    "\n",
    "    # Evaluate model\n",
    "    print('\\nDecision Tree - \\nTrain Accuracy: ', round(np.sum(y_train_pred == train_labels) / train_data.shape[0], 4))\n",
    "    print('Test Accuracy: ', round(np.sum(y_test_pred == test_labels) / test_data.shape[0], 4))"
   ]
  },
  {
   "cell_type": "code",
   "execution_count": 4,
   "metadata": {},
   "outputs": [],
   "source": [
    "def pca(data, labels, n_components):\n",
    "\n",
    "    model = PCA(n_components=n_components)\n",
    "    model.fit(data)\n",
    "    X = model.transform(data)\n",
    "\n",
    "    # Split into training and testing datasets\n",
    "    new_X_train, new_X_test, new_y_train, new_y_test = train_test_split(X, labels, test_size=0.20, random_state=42)\n",
    "    \n",
    "    l2_logistic_regression(new_X_train, new_X_test, new_y_train, new_y_test)\n",
    "    decision_tree_classifier(new_X_train, new_X_test, new_y_train, new_y_test)"
   ]
  },
  {
   "cell_type": "code",
   "execution_count": 5,
   "metadata": {},
   "outputs": [],
   "source": [
    "def my_pca(data, d):\n",
    "    u = np.mean(data, axis=0)\n",
    "    cov = np.dot((data - u).T, (data - u)) / (data.shape[0] - 1)\n",
    "    eigen_values, eigen_vectors = np.linalg.eig(cov)\n",
    "    indices = np.argsort(abs(eigen_values))[::-1]\n",
    "\n",
    "    output = np.zeros((eigen_values.shape[0], d))\n",
    "    for i in range(eigen_values.shape[0]):\n",
    "        for j in range(d):\n",
    "            output[i][j] = eigen_vectors[i][indices[j]]\n",
    "\n",
    "    return output"
   ]
  },
  {
   "cell_type": "code",
   "execution_count": 6,
   "metadata": {},
   "outputs": [],
   "source": [
    "def run_my_pca(X_train, X_test, y_train, y_test, d):\n",
    "    \n",
    "    matrix_w = my_pca(X_train, d)\n",
    "    \n",
    "    new_X_train = np.dot(X_train, matrix_w)\n",
    "    new_X_test = np.dot(X_test, matrix_w)\n",
    "    \n",
    "    l2_logistic_regression(new_X_train, new_X_test, y_train, y_test)\n",
    "    decision_tree_classifier(new_X_train, new_X_test, y_train, y_test)"
   ]
  },
  {
   "cell_type": "code",
   "execution_count": 7,
   "metadata": {},
   "outputs": [],
   "source": [
    "# Fetch data\n",
    "mnist_dataset = fetch_mldata('MNIST original')\n",
    "mnist_data = mnist_dataset.data\n",
    "mnist_labels = mnist_dataset.target"
   ]
  },
  {
   "cell_type": "code",
   "execution_count": 8,
   "metadata": {},
   "outputs": [],
   "source": [
    "# Split into training and testing datasets\n",
    "X_train, X_test, y_train, y_test = train_test_split(mnist_data, mnist_labels, test_size=0.20, random_state=42)"
   ]
  },
  {
   "cell_type": "code",
   "execution_count": 9,
   "metadata": {},
   "outputs": [
    {
     "name": "stdout",
     "output_type": "stream",
     "text": [
      "Before PCA\n",
      "\n",
      "Logistic Regression - \n",
      "Train Accuracy:  0.9327\n",
      "Test Accuracy:  0.9179\n",
      "\n",
      "Decision Tree - \n",
      "Train Accuracy:  1.0\n",
      "Test Accuracy:  0.8737\n"
     ]
    }
   ],
   "source": [
    "print('Before PCA')\n",
    "l2_logistic_regression(X_train, X_test, y_train, y_test)\n",
    "decision_tree_classifier(X_train, X_test, y_train, y_test)"
   ]
  },
  {
   "cell_type": "code",
   "execution_count": 10,
   "metadata": {},
   "outputs": [
    {
     "name": "stdout",
     "output_type": "stream",
     "text": [
      "PCA using library\n",
      "d=5\n",
      "\n",
      "Logistic Regression - \n",
      "Train Accuracy:  0.645\n",
      "Test Accuracy:  0.6509\n",
      "\n",
      "Decision Tree - \n",
      "Train Accuracy:  1.0\n",
      "Test Accuracy:  0.6644\n",
      "--------------\n",
      "d=20\n",
      "\n",
      "Logistic Regression - \n",
      "Train Accuracy:  0.8606\n",
      "Test Accuracy:  0.8637\n",
      "\n",
      "Decision Tree - \n",
      "Train Accuracy:  1.0\n",
      "Test Accuracy:  0.8469\n",
      "--------------\n"
     ]
    }
   ],
   "source": [
    "print('PCA using library')\n",
    "for d in [5, 20]:\n",
    "    print('d=' + str(d))\n",
    "    pca(mnist_data, mnist_labels, d)\n",
    "    print('--------------')"
   ]
  },
  {
   "cell_type": "code",
   "execution_count": 11,
   "metadata": {},
   "outputs": [
    {
     "name": "stdout",
     "output_type": "stream",
     "text": [
      "PCA own implementation\n",
      "d=5\n"
     ]
    },
    {
     "name": "stderr",
     "output_type": "stream",
     "text": [
      "c:\\users\\ashton\\appdata\\local\\programs\\python\\python36\\lib\\site-packages\\ipykernel_launcher.py:10: ComplexWarning: Casting complex values to real discards the imaginary part\n",
      "  # Remove the CWD from sys.path while we load stuff.\n"
     ]
    },
    {
     "name": "stdout",
     "output_type": "stream",
     "text": [
      "\n",
      "Logistic Regression - \n",
      "Train Accuracy:  0.6449\n",
      "Test Accuracy:  0.6514\n",
      "\n",
      "Decision Tree - \n",
      "Train Accuracy:  1.0\n",
      "Test Accuracy:  0.6618\n",
      "--------------\n",
      "d=20\n",
      "\n",
      "Logistic Regression - \n",
      "Train Accuracy:  0.8596\n",
      "Test Accuracy:  0.864\n",
      "\n",
      "Decision Tree - \n",
      "Train Accuracy:  1.0\n",
      "Test Accuracy:  0.85\n",
      "--------------\n"
     ]
    }
   ],
   "source": [
    "print('PCA own implementation')\n",
    "for d in [5, 20]:\n",
    "    print('d=' + str(d))\n",
    "    run_my_pca(X_train, X_test, y_train, y_test, d)\n",
    "    print('--------------')"
   ]
  },
  {
   "cell_type": "markdown",
   "metadata": {},
   "source": [
    "# With normalizing"
   ]
  },
  {
   "cell_type": "code",
   "execution_count": 12,
   "metadata": {},
   "outputs": [
    {
     "name": "stdout",
     "output_type": "stream",
     "text": [
      "(70000, 784)\n",
      "(56000, 784)\n",
      "(14000, 784)\n"
     ]
    }
   ],
   "source": [
    "# Normalize data\n",
    "norm_mnist_data = np.divide(mnist_data, 255)\n",
    "norm_X_train = np.divide(X_train, 255)\n",
    "norm_X_test = np.divide(X_test, 255)\n",
    "\n",
    "print(norm_mnist_data.shape)\n",
    "print(norm_X_train.shape)\n",
    "print(norm_X_test.shape)"
   ]
  },
  {
   "cell_type": "code",
   "execution_count": 13,
   "metadata": {},
   "outputs": [
    {
     "name": "stdout",
     "output_type": "stream",
     "text": [
      "Before PCA\n",
      "\n",
      "Logistic Regression - \n",
      "Train Accuracy:  0.9287\n",
      "Test Accuracy:  0.9178\n",
      "\n",
      "Decision Tree - \n",
      "Train Accuracy:  1.0\n",
      "Test Accuracy:  0.8737\n"
     ]
    }
   ],
   "source": [
    "print('Before PCA')\n",
    "l2_logistic_regression(norm_X_train, norm_X_test, y_train, y_test)\n",
    "decision_tree_classifier(norm_X_train, norm_X_test, y_train, y_test)"
   ]
  },
  {
   "cell_type": "code",
   "execution_count": 14,
   "metadata": {},
   "outputs": [
    {
     "name": "stdout",
     "output_type": "stream",
     "text": [
      "PCA using library\n",
      "d=5\n",
      "\n",
      "Logistic Regression - \n",
      "Train Accuracy:  0.6449\n",
      "Test Accuracy:  0.6509\n",
      "\n",
      "Decision Tree - \n",
      "Train Accuracy:  1.0\n",
      "Test Accuracy:  0.6656\n",
      "--------------\n",
      "d=20\n",
      "\n",
      "Logistic Regression - \n",
      "Train Accuracy:  0.8608\n",
      "Test Accuracy:  0.8639\n",
      "\n",
      "Decision Tree - \n",
      "Train Accuracy:  1.0\n",
      "Test Accuracy:  0.8468\n",
      "--------------\n"
     ]
    }
   ],
   "source": [
    "print('PCA using library')\n",
    "for d in [5, 20]:\n",
    "    print('d=' + str(d))\n",
    "    pca(norm_mnist_data, mnist_labels, d)\n",
    "    print('--------------')"
   ]
  },
  {
   "cell_type": "code",
   "execution_count": 15,
   "metadata": {},
   "outputs": [
    {
     "name": "stdout",
     "output_type": "stream",
     "text": [
      "PCA own implementation\n",
      "d=5\n"
     ]
    },
    {
     "name": "stderr",
     "output_type": "stream",
     "text": [
      "c:\\users\\ashton\\appdata\\local\\programs\\python\\python36\\lib\\site-packages\\ipykernel_launcher.py:10: ComplexWarning: Casting complex values to real discards the imaginary part\n",
      "  # Remove the CWD from sys.path while we load stuff.\n"
     ]
    },
    {
     "name": "stdout",
     "output_type": "stream",
     "text": [
      "\n",
      "Logistic Regression - \n",
      "Train Accuracy:  0.6452\n",
      "Test Accuracy:  0.6527\n",
      "\n",
      "Decision Tree - \n",
      "Train Accuracy:  1.0\n",
      "Test Accuracy:  0.6618\n",
      "--------------\n",
      "d=20\n",
      "\n",
      "Logistic Regression - \n",
      "Train Accuracy:  0.861\n",
      "Test Accuracy:  0.8646\n",
      "\n",
      "Decision Tree - \n",
      "Train Accuracy:  1.0\n",
      "Test Accuracy:  0.85\n",
      "--------------\n"
     ]
    }
   ],
   "source": [
    "print('PCA own implementation')\n",
    "for d in [5, 20]:\n",
    "    print('d=' + str(d))\n",
    "    run_my_pca(norm_X_train, norm_X_test, y_train, y_test, d)\n",
    "    print('--------------')"
   ]
  },
  {
   "cell_type": "code",
   "execution_count": null,
   "metadata": {},
   "outputs": [],
   "source": []
  }
 ],
 "metadata": {
  "kernelspec": {
   "display_name": "Python 3",
   "language": "python",
   "name": "python3"
  },
  "language_info": {
   "codemirror_mode": {
    "name": "ipython",
    "version": 3
   },
   "file_extension": ".py",
   "mimetype": "text/x-python",
   "name": "python",
   "nbconvert_exporter": "python",
   "pygments_lexer": "ipython3",
   "version": "3.6.4"
  }
 },
 "nbformat": 4,
 "nbformat_minor": 2
}
