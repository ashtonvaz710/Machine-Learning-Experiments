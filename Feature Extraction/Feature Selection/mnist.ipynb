{
 "cells": [
  {
   "cell_type": "code",
   "execution_count": 1,
   "metadata": {},
   "outputs": [],
   "source": [
    "from sklearn.datasets import fetch_mldata\n",
    "from sklearn.model_selection import train_test_split\n",
    "from sklearn.linear_model import LogisticRegression\n",
    "from sklearn.tree import DecisionTreeClassifier\n",
    "import numpy as np\n",
    "import matplotlib.pyplot as plt"
   ]
  },
  {
   "cell_type": "code",
   "execution_count": 2,
   "metadata": {},
   "outputs": [],
   "source": [
    "def l2_logistic_regression(train_data, test_data, train_labels, test_labels):\n",
    "    \n",
    "    # Train model\n",
    "    model = LogisticRegression(penalty='l2', random_state=42)\n",
    "    model.fit(train_data, train_labels)    \n",
    "    \n",
    "    # Extract top features from model\n",
    "    importances = model.coef_\n",
    "    \n",
    "    for i in range(len(importances)):\n",
    "        indices = np.argsort(importances[i])[::-1]\n",
    "\n",
    "        print('\\nFeature ranking for label ' + str(i) + ':') if len(importances) > 1 else print('Feature ranking:')\n",
    "        for f in range(30):\n",
    "            print('%d. Feature %d (%f)' % (f + 1, indices[f], importances[i][indices[f]]))\n",
    "\n",
    "    # Test model\n",
    "    y_train_pred = model.predict(train_data)\n",
    "    y_test_pred = model.predict(test_data)\n",
    "\n",
    "    # Evaluate model\n",
    "    print('\\nLogistic Regression - \\nTrain Accuracy: ', round(np.sum(y_train_pred == train_labels) / train_data.shape[0], 4))\n",
    "    print('Test Accuracy: ', round(np.sum(y_test_pred == test_labels) / test_data.shape[0], 4))"
   ]
  },
  {
   "cell_type": "code",
   "execution_count": 3,
   "metadata": {},
   "outputs": [],
   "source": [
    "def decision_tree_classifier(train_data, test_data, train_labels, test_labels):\n",
    "\n",
    "    # Train model\n",
    "    for model in [\n",
    "        DecisionTreeClassifier(random_state=42), \n",
    "        DecisionTreeClassifier(random_state=42, max_depth=10), \n",
    "        DecisionTreeClassifier(random_state=42, min_samples_leaf=2), \n",
    "        DecisionTreeClassifier(random_state=42, min_samples_split=3)\n",
    "    ]:\n",
    "        \n",
    "        model.fit(train_data, train_labels)\n",
    "\n",
    "        # Extract top features from model\n",
    "        importances = model.feature_importances_\n",
    "        indices = np.argsort(importances)[::-1]\n",
    "\n",
    "        print('Feature ranking:')\n",
    "        for f in range(30):\n",
    "            print('%d. Feature %d (%f)' % (f + 1, indices[f], importances[indices[f]]))\n",
    "\n",
    "        # Test model\n",
    "        y_train_pred = model.predict(train_data)\n",
    "        y_test_pred = model.predict(test_data)\n",
    "\n",
    "        # Evaluate model\n",
    "        print('\\nDecision Tree - \\nTrain Accuracy: ', round(np.sum(y_train_pred == train_labels) / train_data.shape[0], 4))\n",
    "        print('Test Accuracy: ', round(np.sum(y_test_pred == test_labels) / test_data.shape[0], 4))\n",
    "        print('-------------------------------------------')"
   ]
  },
  {
   "cell_type": "code",
   "execution_count": 4,
   "metadata": {},
   "outputs": [],
   "source": [
    "# Fetch data\n",
    "mnist_dataset = fetch_mldata('MNIST original')\n",
    "mnist_data = mnist_dataset.data\n",
    "mnist_labels = mnist_dataset.target"
   ]
  },
  {
   "cell_type": "code",
   "execution_count": 5,
   "metadata": {},
   "outputs": [],
   "source": [
    "# Split into training and testing datasets\n",
    "X_train, X_test, y_train, y_test = train_test_split(mnist_data, mnist_labels, test_size=0.20, random_state=42)"
   ]
  },
  {
   "cell_type": "code",
   "execution_count": 6,
   "metadata": {},
   "outputs": [
    {
     "name": "stdout",
     "output_type": "stream",
     "text": [
      "\n",
      "Feature ranking for label 0:\n",
      "1. Feature 224 (0.136287)\n",
      "2. Feature 503 (0.105213)\n",
      "3. Feature 45 (0.104530)\n",
      "4. Feature 614 (0.098927)\n",
      "5. Feature 282 (0.080302)\n",
      "6. Feature 40 (0.076656)\n",
      "7. Feature 63 (0.066875)\n",
      "8. Feature 89 (0.066872)\n",
      "9. Feature 39 (0.062755)\n",
      "10. Feature 43 (0.056666)\n",
      "11. Feature 109 (0.039545)\n",
      "12. Feature 641 (0.037424)\n",
      "13. Feature 676 (0.029912)\n",
      "14. Feature 87 (0.029849)\n",
      "15. Feature 669 (0.029660)\n",
      "16. Feature 223 (0.024536)\n",
      "17. Feature 227 (0.024193)\n",
      "18. Feature 311 (0.023364)\n",
      "19. Feature 69 (0.021711)\n",
      "20. Feature 226 (0.019215)\n",
      "21. Feature 143 (0.018542)\n",
      "22. Feature 334 (0.018185)\n",
      "23. Feature 717 (0.017400)\n",
      "24. Feature 118 (0.017177)\n",
      "25. Feature 165 (0.015654)\n",
      "26. Feature 59 (0.013929)\n",
      "27. Feature 360 (0.013535)\n",
      "28. Feature 586 (0.013070)\n",
      "29. Feature 257 (0.012329)\n",
      "30. Feature 200 (0.012089)\n",
      "\n",
      "Feature ranking for label 1:\n",
      "1. Feature 641 (0.124600)\n",
      "2. Feature 307 (0.101468)\n",
      "3. Feature 359 (0.097323)\n",
      "4. Feature 670 (0.091831)\n",
      "5. Feature 312 (0.085422)\n",
      "6. Feature 256 (0.080228)\n",
      "7. Feature 418 (0.064167)\n",
      "8. Feature 281 (0.057824)\n",
      "9. Feature 363 (0.056261)\n",
      "10. Feature 395 (0.055115)\n",
      "11. Feature 114 (0.050878)\n",
      "12. Feature 535 (0.048798)\n",
      "13. Feature 416 (0.046429)\n",
      "14. Feature 697 (0.042597)\n",
      "15. Feature 306 (0.042502)\n",
      "16. Feature 174 (0.040860)\n",
      "17. Feature 67 (0.038543)\n",
      "18. Feature 586 (0.037903)\n",
      "19. Feature 389 (0.037258)\n",
      "20. Feature 583 (0.037026)\n",
      "21. Feature 531 (0.034449)\n",
      "22. Feature 498 (0.033746)\n",
      "23. Feature 333 (0.033198)\n",
      "24. Feature 361 (0.031201)\n",
      "25. Feature 258 (0.029923)\n",
      "26. Feature 396 (0.028335)\n",
      "27. Feature 564 (0.027417)\n",
      "28. Feature 472 (0.027395)\n",
      "29. Feature 698 (0.027263)\n",
      "30. Feature 43 (0.027142)\n",
      "\n",
      "Feature ranking for label 2:\n",
      "1. Feature 503 (0.065531)\n",
      "2. Feature 391 (0.049761)\n",
      "3. Feature 706 (0.045068)\n",
      "4. Feature 367 (0.040661)\n",
      "5. Feature 505 (0.036504)\n",
      "6. Feature 137 (0.034813)\n",
      "7. Feature 478 (0.029697)\n",
      "8. Feature 614 (0.026325)\n",
      "9. Feature 696 (0.026108)\n",
      "10. Feature 475 (0.024727)\n",
      "11. Feature 34 (0.024179)\n",
      "12. Feature 80 (0.023267)\n",
      "13. Feature 79 (0.021346)\n",
      "14. Feature 418 (0.020381)\n",
      "15. Feature 340 (0.020296)\n",
      "16. Feature 423 (0.019325)\n",
      "17. Feature 221 (0.019066)\n",
      "18. Feature 33 (0.017846)\n",
      "19. Feature 225 (0.017543)\n",
      "20. Feature 422 (0.017386)\n",
      "21. Feature 198 (0.016609)\n",
      "22. Feature 333 (0.015062)\n",
      "23. Feature 390 (0.014769)\n",
      "24. Feature 62 (0.013691)\n",
      "25. Feature 562 (0.013495)\n",
      "26. Feature 143 (0.013148)\n",
      "27. Feature 165 (0.013107)\n",
      "28. Feature 669 (0.012872)\n",
      "29. Feature 283 (0.012768)\n",
      "30. Feature 36 (0.012695)\n",
      "\n",
      "Feature ranking for label 3:\n",
      "1. Feature 702 (0.058488)\n",
      "2. Feature 197 (0.049327)\n",
      "3. Feature 449 (0.042734)\n",
      "4. Feature 393 (0.037224)\n",
      "5. Feature 361 (0.036919)\n",
      "6. Feature 446 (0.036699)\n",
      "7. Feature 586 (0.034844)\n",
      "8. Feature 450 (0.033077)\n",
      "9. Feature 89 (0.032212)\n",
      "10. Feature 421 (0.031394)\n",
      "11. Feature 136 (0.028530)\n",
      "12. Feature 561 (0.026960)\n",
      "13. Feature 387 (0.023432)\n",
      "14. Feature 108 (0.022700)\n",
      "15. Feature 733 (0.022043)\n",
      "16. Feature 646 (0.020987)\n",
      "17. Feature 675 (0.020399)\n",
      "18. Feature 695 (0.020090)\n",
      "19. Feature 670 (0.018627)\n",
      "20. Feature 668 (0.018223)\n",
      "21. Feature 367 (0.015480)\n",
      "22. Feature 104 (0.015315)\n",
      "23. Feature 590 (0.014370)\n",
      "24. Feature 115 (0.012862)\n",
      "25. Feature 451 (0.012728)\n",
      "26. Feature 92 (0.011033)\n",
      "27. Feature 735 (0.009986)\n",
      "28. Feature 395 (0.009955)\n",
      "29. Feature 477 (0.009940)\n",
      "30. Feature 722 (0.009849)\n",
      "\n",
      "Feature ranking for label 4:\n",
      "1. Feature 478 (0.168653)\n",
      "2. Feature 42 (0.074079)\n",
      "3. Feature 697 (0.070253)\n",
      "4. Feature 422 (0.066828)\n",
      "5. Feature 393 (0.061893)\n",
      "6. Feature 475 (0.048321)\n",
      "7. Feature 63 (0.045030)\n",
      "8. Feature 670 (0.044243)\n",
      "9. Feature 642 (0.040689)\n",
      "10. Feature 281 (0.037888)\n",
      "11. Feature 337 (0.030120)\n",
      "12. Feature 591 (0.028723)\n",
      "13. Feature 254 (0.027716)\n",
      "14. Feature 390 (0.027381)\n",
      "15. Feature 446 (0.026067)\n",
      "16. Feature 90 (0.025811)\n",
      "17. Feature 227 (0.023813)\n",
      "18. Feature 535 (0.023703)\n",
      "19. Feature 117 (0.022393)\n",
      "20. Feature 723 (0.022142)\n",
      "21. Feature 751 (0.019485)\n",
      "22. Feature 109 (0.018572)\n",
      "23. Feature 198 (0.016463)\n",
      "24. Feature 311 (0.016022)\n",
      "25. Feature 119 (0.014618)\n",
      "26. Feature 613 (0.013500)\n",
      "27. Feature 143 (0.013389)\n",
      "28. Feature 593 (0.013261)\n",
      "29. Feature 136 (0.011584)\n",
      "30. Feature 360 (0.011505)\n",
      "\n",
      "Feature ranking for label 5:\n",
      "1. Feature 88 (0.178125)\n",
      "2. Feature 390 (0.123297)\n",
      "3. Feature 362 (0.090432)\n",
      "4. Feature 724 (0.081944)\n",
      "5. Feature 361 (0.069636)\n",
      "6. Feature 392 (0.051693)\n",
      "7. Feature 79 (0.042253)\n",
      "8. Feature 642 (0.038344)\n",
      "9. Feature 394 (0.036949)\n",
      "10. Feature 587 (0.029621)\n",
      "11. Feature 332 (0.029318)\n",
      "12. Feature 198 (0.023928)\n",
      "13. Feature 416 (0.023371)\n",
      "14. Feature 91 (0.022283)\n",
      "15. Feature 422 (0.021827)\n",
      "16. Feature 170 (0.021733)\n",
      "17. Feature 143 (0.020090)\n",
      "18. Feature 333 (0.016150)\n",
      "19. Feature 670 (0.015231)\n",
      "20. Feature 424 (0.014452)\n",
      "21. Feature 90 (0.013688)\n",
      "22. Feature 304 (0.013672)\n",
      "23. Feature 306 (0.012908)\n",
      "24. Feature 669 (0.012643)\n",
      "25. Feature 646 (0.011256)\n",
      "26. Feature 279 (0.011163)\n",
      "27. Feature 109 (0.010210)\n",
      "28. Feature 395 (0.009725)\n",
      "29. Feature 734 (0.009622)\n",
      "30. Feature 704 (0.009361)\n",
      "\n",
      "Feature ranking for label 6:\n",
      "1. Feature 167 (0.128496)\n",
      "2. Feature 110 (0.094515)\n",
      "3. Feature 139 (0.087046)\n",
      "4. Feature 195 (0.071530)\n",
      "5. Feature 171 (0.058435)\n",
      "6. Feature 335 (0.047485)\n",
      "7. Feature 614 (0.037167)\n",
      "8. Feature 35 (0.036678)\n",
      "9. Feature 642 (0.032826)\n",
      "10. Feature 47 (0.031262)\n",
      "11. Feature 170 (0.023013)\n",
      "12. Feature 48 (0.022213)\n",
      "13. Feature 79 (0.022203)\n",
      "14. Feature 108 (0.022161)\n",
      "15. Feature 60 (0.021941)\n",
      "16. Feature 87 (0.021887)\n",
      "17. Feature 452 (0.021124)\n",
      "18. Feature 38 (0.020804)\n",
      "19. Feature 142 (0.018406)\n",
      "20. Feature 115 (0.017182)\n",
      "21. Feature 81 (0.017058)\n",
      "22. Feature 250 (0.016689)\n",
      "23. Feature 450 (0.016327)\n",
      "24. Feature 201 (0.014751)\n",
      "25. Feature 692 (0.013920)\n",
      "26. Feature 77 (0.013817)\n",
      "27. Feature 49 (0.012760)\n",
      "28. Feature 507 (0.012379)\n",
      "29. Feature 91 (0.012299)\n",
      "30. Feature 712 (0.011707)\n",
      "\n",
      "Feature ranking for label 7:\n",
      "1. Feature 778 (0.094772)\n",
      "2. Feature 363 (0.092697)\n",
      "3. Feature 530 (0.033022)\n",
      "4. Feature 282 (0.031714)\n",
      "5. Feature 703 (0.030078)\n",
      "6. Feature 533 (0.028828)\n",
      "7. Feature 225 (0.028726)\n",
      "8. Feature 446 (0.028107)\n",
      "9. Feature 116 (0.026907)\n",
      "10. Feature 773 (0.025748)\n",
      "11. Feature 145 (0.024052)\n",
      "12. Feature 197 (0.023350)\n",
      "13. Feature 133 (0.022689)\n",
      "14. Feature 366 (0.022505)\n",
      "15. Feature 775 (0.021336)\n",
      "16. Feature 309 (0.018169)\n",
      "17. Feature 365 (0.018095)\n",
      "18. Feature 362 (0.017963)\n",
      "19. Feature 613 (0.017567)\n",
      "20. Feature 592 (0.017442)\n",
      "21. Feature 115 (0.016831)\n",
      "22. Feature 536 (0.015162)\n",
      "23. Feature 226 (0.015090)\n",
      "24. Feature 423 (0.014311)\n",
      "25. Feature 648 (0.014253)\n",
      "26. Feature 556 (0.013865)\n",
      "27. Feature 339 (0.013571)\n",
      "28. Feature 722 (0.013345)\n",
      "29. Feature 641 (0.013188)\n",
      "30. Feature 394 (0.012999)\n",
      "\n",
      "Feature ranking for label 8:\n",
      "1. Feature 451 (0.026259)\n",
      "2. Feature 619 (0.023616)\n",
      "3. Feature 114 (0.022032)\n",
      "4. Feature 307 (0.014874)\n",
      "5. Feature 417 (0.013774)\n",
      "6. Feature 74 (0.012652)\n",
      "7. Feature 704 (0.012478)\n",
      "8. Feature 734 (0.011976)\n",
      "9. Feature 424 (0.011644)\n",
      "10. Feature 339 (0.011154)\n",
      "11. Feature 395 (0.010317)\n",
      "12. Feature 107 (0.010144)\n",
      "13. Feature 736 (0.009498)\n",
      "14. Feature 500 (0.009371)\n",
      "15. Feature 278 (0.008758)\n",
      "16. Feature 223 (0.008578)\n",
      "17. Feature 332 (0.008396)\n",
      "18. Feature 563 (0.007845)\n",
      "19. Feature 334 (0.007826)\n",
      "20. Feature 471 (0.007685)\n",
      "21. Feature 137 (0.007678)\n",
      "22. Feature 479 (0.007184)\n",
      "23. Feature 397 (0.006475)\n",
      "24. Feature 92 (0.006223)\n",
      "25. Feature 284 (0.006150)\n",
      "26. Feature 720 (0.006053)\n",
      "27. Feature 667 (0.005224)\n",
      "28. Feature 390 (0.005198)\n",
      "29. Feature 195 (0.005162)\n",
      "30. Feature 104 (0.005019)\n",
      "\n",
      "Feature ranking for label 9:\n",
      "1. Feature 725 (0.086352)\n",
      "2. Feature 119 (0.062429)\n",
      "3. Feature 702 (0.055406)\n",
      "4. Feature 504 (0.047843)\n",
      "5. Feature 777 (0.038807)\n",
      "6. Feature 732 (0.024074)\n",
      "7. Feature 562 (0.021729)\n",
      "8. Feature 446 (0.020676)\n",
      "9. Feature 620 (0.020161)\n",
      "10. Feature 752 (0.020033)\n",
      "11. Feature 751 (0.018697)\n",
      "12. Feature 255 (0.015374)\n",
      "13. Feature 612 (0.015157)\n",
      "14. Feature 666 (0.013313)\n",
      "15. Feature 228 (0.013214)\n",
      "16. Feature 585 (0.009726)\n",
      "17. Feature 199 (0.009718)\n",
      "18. Feature 676 (0.009587)\n",
      "19. Feature 667 (0.009549)\n",
      "20. Feature 697 (0.009276)\n",
      "21. Feature 721 (0.009121)\n",
      "22. Feature 310 (0.009077)\n",
      "23. Feature 479 (0.008854)\n",
      "24. Feature 695 (0.008674)\n",
      "25. Feature 734 (0.008601)\n",
      "26. Feature 526 (0.008545)\n",
      "27. Feature 619 (0.008345)\n",
      "28. Feature 705 (0.007183)\n",
      "29. Feature 640 (0.007013)\n",
      "30. Feature 594 (0.006392)\n"
     ]
    },
    {
     "name": "stdout",
     "output_type": "stream",
     "text": [
      "\n",
      "Logistic Regression - \n",
      "Train Accuracy:  0.9327\n",
      "Test Accuracy:  0.9179\n"
     ]
    }
   ],
   "source": [
    "# Logistic Regression\n",
    "\n",
    "train_data = X_train\n",
    "test_data = X_test\n",
    "train_labels = y_train\n",
    "test_labels = y_test\n",
    "\n",
    "# Train model\n",
    "model = LogisticRegression(penalty='l2', random_state=42)\n",
    "model.fit(train_data, train_labels)    \n",
    "\n",
    "importances = model.coef_   # Extract top features from model\n",
    "\n",
    "images = []   \n",
    "for i in range(len(importances)):\n",
    "    indices = np.argsort(importances[i])[::-1]\n",
    "\n",
    "    # Get top k features for every label\n",
    "    features = []\n",
    "    print('\\nFeature ranking for label ' + str(i) + ':') if len(importances) > 1 else print('Feature ranking:')\n",
    "    for f in range(30):\n",
    "        features.append(indices[f])\n",
    "        print('%d. Feature %d (%f)' % (f + 1, indices[f], importances[i][indices[f]]))\n",
    "     \n",
    "    # Transform indices of features into row-col values for numpy ndarray\n",
    "    row = []\n",
    "    col = []\n",
    "    for feature in features:\n",
    "        row.append(int(feature/28))\n",
    "        col.append(feature%28)\n",
    "      \n",
    "    # Store numpy ndarray of features into list of images\n",
    "    new_image = np.zeros((28,28))\n",
    "    for j in range(len(features)):\n",
    "        new_image[row[j]][col[j]] = 255       \n",
    "    images.append(new_image)\n",
    "\n",
    "# Test model\n",
    "y_train_pred = model.predict(train_data)\n",
    "y_test_pred = model.predict(test_data)\n",
    "\n",
    "# Evaluate model\n",
    "print('\\nLogistic Regression - \\nTrain Accuracy: ', round(np.sum(y_train_pred == train_labels) / train_data.shape[0], 4))\n",
    "print('Test Accuracy: ', round(np.sum(y_test_pred == test_labels) / test_data.shape[0], 4))"
   ]
  },
  {
   "cell_type": "code",
   "execution_count": 7,
   "metadata": {},
   "outputs": [
    {
     "name": "stdout",
     "output_type": "stream",
     "text": [
      "\n",
      "Label 0:\n"
     ]
    },
    {
     "data": {
      "image/png": "[encoded data removed]",
      "text/plain": [
       "<matplotlib.figure.Figure at 0x2bdadbad940>"
      ]
     },
     "metadata": {},
     "output_type": "display_data"
    },
    {
     "name": "stdout",
     "output_type": "stream",
     "text": [
      "\n",
      "Label 1:\n"
     ]
    },
    {
     "data": {
      "image/png": "[encoded data removed]",
      "text/plain": [
       "<matplotlib.figure.Figure at 0x2bdb4527748>"
      ]
     },
     "metadata": {},
     "output_type": "display_data"
    },
    {
     "name": "stdout",
     "output_type": "stream",
     "text": [
      "\n",
      "Label 2:\n"
     ]
    },
    {
     "data": {
      "image/png": "[encoded data removed]",
      "text/plain": [
       "<matplotlib.figure.Figure at 0x2bdb45a3f28>"
      ]
     },
     "metadata": {},
     "output_type": "display_data"
    },
    {
     "name": "stdout",
     "output_type": "stream",
     "text": [
      "\n",
      "Label 3:\n"
     ]
    },
    {
     "data": {
      "image/png": "[encoded data removed]",
      "text/plain": [
       "<matplotlib.figure.Figure at 0x2bdb4607b70>"
      ]
     },
     "metadata": {},
     "output_type": "display_data"
    },
    {
     "name": "stdout",
     "output_type": "stream",
     "text": [
      "\n",
      "Label 4:\n"
     ]
    },
    {
     "data": {
      "image/png": "[encoded data removed]",
      "text/plain": [
       "<matplotlib.figure.Figure at 0x2bdb4663d68>"
      ]
     },
     "metadata": {},
     "output_type": "display_data"
    },
    {
     "name": "stdout",
     "output_type": "stream",
     "text": [
      "\n",
      "Label 5:\n"
     ]
    },
    {
     "data": {
      "image/png": "[encoded data removed]",
      "text/plain": [
       "<matplotlib.figure.Figure at 0x2bdb468c358>"
      ]
     },
     "metadata": {},
     "output_type": "display_data"
    },
    {
     "name": "stdout",
     "output_type": "stream",
     "text": [
      "\n",
      "Label 6:\n"
     ]
    },
    {
     "data": {
      "image/png": "[encoded data removed]",
      "text/plain": [
       "<matplotlib.figure.Figure at 0x2bdb45b92b0>"
      ]
     },
     "metadata": {},
     "output_type": "display_data"
    },
    {
     "name": "stdout",
     "output_type": "stream",
     "text": [
      "\n",
      "Label 7:\n"
     ]
    },
    {
     "data": {
      "image/png": "[encoded data removed]",
      "text/plain": [
       "<matplotlib.figure.Figure at 0x2bdb462e2b0>"
      ]
     },
     "metadata": {},
     "output_type": "display_data"
    },
    {
     "name": "stdout",
     "output_type": "stream",
     "text": [
      "\n",
      "Label 8:\n"
     ]
    },
    {
     "data": {
      "image/png": "[encoded data removed]",
      "text/plain": [
       "<matplotlib.figure.Figure at 0x2bdb460be10>"
      ]
     },
     "metadata": {},
     "output_type": "display_data"
    },
    {
     "name": "stdout",
     "output_type": "stream",
     "text": [
      "\n",
      "Label 9:\n"
     ]
    },
    {
     "data": {
      "image/png": "[encoded data removed]",
      "text/plain": [
       "<matplotlib.figure.Figure at 0x2bdb46bf630>"
      ]
     },
     "metadata": {},
     "output_type": "display_data"
    }
   ],
   "source": [
    "# Print features\n",
    "for i in range(len(images)):\n",
    "    print('\\nLabel ' + str(i) + ':')\n",
    "    plt.imshow(images[i])\n",
    "    plt.show()"
   ]
  },
  {
   "cell_type": "code",
   "execution_count": 8,
   "metadata": {},
   "outputs": [
    {
     "name": "stdout",
     "output_type": "stream",
     "text": [
      "\n",
      "Feature ranking:\n",
      "1. Feature 489 (0.054079)\n",
      "2. Feature 350 (0.045175)\n",
      "3. Feature 435 (0.044980)\n",
      "4. Feature 542 (0.039893)\n",
      "5. Feature 211 (0.035058)\n",
      "6. Feature 432 (0.033236)\n",
      "7. Feature 270 (0.030666)\n",
      "8. Feature 347 (0.029399)\n",
      "9. Feature 597 (0.027551)\n",
      "10. Feature 486 (0.026733)\n",
      "11. Feature 155 (0.026241)\n",
      "12. Feature 521 (0.023522)\n",
      "13. Feature 354 (0.019036)\n",
      "14. Feature 273 (0.015969)\n",
      "15. Feature 296 (0.015357)\n",
      "16. Feature 290 (0.015035)\n",
      "17. Feature 405 (0.012132)\n",
      "18. Feature 657 (0.011417)\n",
      "19. Feature 656 (0.010171)\n",
      "20. Feature 658 (0.008892)\n",
      "21. Feature 352 (0.008856)\n",
      "22. Feature 596 (0.008363)\n",
      "23. Feature 297 (0.008182)\n",
      "24. Feature 458 (0.007894)\n",
      "25. Feature 380 (0.007691)\n",
      "26. Feature 301 (0.006798)\n",
      "27. Feature 206 (0.006754)\n",
      "28. Feature 404 (0.006506)\n",
      "29. Feature 267 (0.006470)\n",
      "30. Feature 598 (0.006051)\n",
      "\n",
      "Decision Tree - \n",
      "Train Accuracy:  1.0\n",
      "Test Accuracy:  0.8737\n",
      "\n",
      "Feature ranking:\n",
      "1. Feature 489 (0.064754)\n",
      "2. Feature 350 (0.053364)\n",
      "3. Feature 435 (0.053166)\n",
      "4. Feature 542 (0.047232)\n",
      "5. Feature 211 (0.041359)\n",
      "6. Feature 432 (0.038927)\n",
      "7. Feature 270 (0.035931)\n",
      "8. Feature 347 (0.033927)\n",
      "9. Feature 597 (0.032183)\n",
      "10. Feature 486 (0.031175)\n",
      "11. Feature 155 (0.030889)\n",
      "12. Feature 521 (0.027669)\n",
      "13. Feature 354 (0.022029)\n",
      "14. Feature 273 (0.019033)\n",
      "15. Feature 290 (0.017736)\n",
      "16. Feature 296 (0.016831)\n",
      "17. Feature 405 (0.014182)\n",
      "18. Feature 657 (0.013088)\n",
      "19. Feature 656 (0.011816)\n",
      "20. Feature 658 (0.009925)\n",
      "21. Feature 352 (0.009778)\n",
      "22. Feature 596 (0.009546)\n",
      "23. Feature 297 (0.009173)\n",
      "24. Feature 458 (0.008829)\n",
      "25. Feature 380 (0.008169)\n",
      "26. Feature 206 (0.007554)\n",
      "27. Feature 301 (0.007553)\n",
      "28. Feature 267 (0.006725)\n",
      "29. Feature 598 (0.006483)\n",
      "30. Feature 404 (0.006378)\n",
      "\n",
      "Decision Tree - \n",
      "Train Accuracy:  0.9029\n",
      "Test Accuracy:  0.8576\n",
      "\n",
      "Feature ranking:\n",
      "1. Feature 489 (0.055719)\n",
      "2. Feature 435 (0.046223)\n",
      "3. Feature 350 (0.045938)\n",
      "4. Feature 542 (0.041213)\n",
      "5. Feature 211 (0.036082)\n",
      "6. Feature 432 (0.033704)\n",
      "7. Feature 270 (0.031500)\n",
      "8. Feature 347 (0.029829)\n",
      "9. Feature 597 (0.028154)\n",
      "10. Feature 486 (0.027498)\n",
      "11. Feature 155 (0.027028)\n",
      "12. Feature 521 (0.024121)\n",
      "13. Feature 354 (0.019911)\n",
      "14. Feature 273 (0.016332)\n",
      "15. Feature 290 (0.015302)\n",
      "16. Feature 296 (0.015270)\n",
      "17. Feature 405 (0.012366)\n",
      "18. Feature 657 (0.011563)\n",
      "19. Feature 656 (0.010251)\n",
      "20. Feature 658 (0.009124)\n",
      "21. Feature 352 (0.009079)\n",
      "22. Feature 596 (0.008905)\n",
      "23. Feature 297 (0.008202)\n",
      "24. Feature 458 (0.007865)\n",
      "25. Feature 380 (0.007547)\n",
      "26. Feature 206 (0.006969)\n",
      "27. Feature 301 (0.006920)\n",
      "28. Feature 404 (0.006628)\n",
      "29. Feature 267 (0.006081)\n",
      "30. Feature 598 (0.005916)\n",
      "\n",
      "Decision Tree - \n",
      "Train Accuracy:  0.9767\n",
      "Test Accuracy:  0.872\n",
      "\n",
      "Feature ranking:\n",
      "1. Feature 489 (0.054691)\n",
      "2. Feature 435 (0.045389)\n",
      "3. Feature 350 (0.045232)\n",
      "4. Feature 542 (0.039982)\n",
      "5. Feature 211 (0.035274)\n",
      "6. Feature 432 (0.033157)\n",
      "7. Feature 270 (0.031038)\n",
      "8. Feature 347 (0.029505)\n",
      "9. Feature 597 (0.027662)\n",
      "10. Feature 486 (0.026969)\n",
      "11. Feature 155 (0.026438)\n",
      "12. Feature 521 (0.023409)\n",
      "13. Feature 354 (0.019579)\n",
      "14. Feature 273 (0.016241)\n",
      "15. Feature 296 (0.015535)\n",
      "16. Feature 290 (0.015056)\n",
      "17. Feature 405 (0.012327)\n",
      "18. Feature 657 (0.011590)\n",
      "19. Feature 656 (0.010224)\n",
      "20. Feature 352 (0.009257)\n",
      "21. Feature 596 (0.008727)\n",
      "22. Feature 658 (0.008696)\n",
      "23. Feature 297 (0.007904)\n",
      "24. Feature 458 (0.007806)\n",
      "25. Feature 380 (0.006913)\n",
      "26. Feature 301 (0.006826)\n",
      "27. Feature 206 (0.006669)\n",
      "28. Feature 404 (0.006435)\n",
      "29. Feature 210 (0.005949)\n",
      "30. Feature 267 (0.005872)\n",
      "\n",
      "Decision Tree - \n",
      "Train Accuracy:  0.9918\n",
      "Test Accuracy:  0.8724\n"
     ]
    }
   ],
   "source": [
    "# Decision Tree\n",
    "\n",
    "train_data = X_train\n",
    "test_data = X_test\n",
    "train_labels = y_train\n",
    "test_labels = y_test\n",
    "\n",
    "images = []\n",
    "\n",
    "# Train model\n",
    "model = DecisionTreeClassifier(random_state=42)\n",
    "for model in [\n",
    "    DecisionTreeClassifier(random_state=42), \n",
    "    DecisionTreeClassifier(random_state=42, max_depth=10), \n",
    "    DecisionTreeClassifier(random_state=42, min_samples_leaf=2), \n",
    "    DecisionTreeClassifier(random_state=42, min_samples_split=3)\n",
    "]:\n",
    "\n",
    "    model.fit(train_data, train_labels)    \n",
    "\n",
    "    # Extract top features from model\n",
    "    importances = model.feature_importances_\n",
    "    indices = np.argsort(importances)[::-1]\n",
    "\n",
    "    # Get top k features\n",
    "    print('\\nFeature ranking:')\n",
    "    for f in range(30):\n",
    "        print('%d. Feature %d (%f)' % (f + 1, indices[f], importances[indices[f]]))\n",
    "\n",
    "    # Transform indices of features into row-col values for numpy ndarray\n",
    "    row = []\n",
    "    col = []\n",
    "    for feature in features:\n",
    "        row.append(int(feature/28))\n",
    "        col.append(feature%28)\n",
    "\n",
    "    # Store numpy ndarray of features into list of images\n",
    "    new_image = np.zeros((28,28))\n",
    "    for j in range(len(features)):\n",
    "        new_image[row[j]][col[j]] = 255\n",
    "    images.append(new_image)\n",
    "\n",
    "    # Test model\n",
    "    y_train_pred = model.predict(train_data)\n",
    "    y_test_pred = model.predict(test_data)\n",
    "\n",
    "    # Evaluate model\n",
    "    print('\\nDecision Tree - \\nTrain Accuracy: ', round(np.sum(y_train_pred == train_labels) / train_data.shape[0], 4))\n",
    "    print('Test Accuracy: ', round(np.sum(y_test_pred == test_labels) / test_data.shape[0], 4))"
   ]
  },
  {
   "cell_type": "code",
   "execution_count": 9,
   "metadata": {},
   "outputs": [
    {
     "name": "stdout",
     "output_type": "stream",
     "text": [
      "\n",
      "Model 0:\n"
     ]
    },
    {
     "data": {
      "image/png": "[encoded data removed]",
      "text/plain": [
       "<matplotlib.figure.Figure at 0x2bdb46e4ef0>"
      ]
     },
     "metadata": {},
     "output_type": "display_data"
    },
    {
     "name": "stdout",
     "output_type": "stream",
     "text": [
      "\n",
      "Model 1:\n"
     ]
    },
    {
     "data": {
      "image/png": "[encoded data removed]",
      "text/plain": [
       "<matplotlib.figure.Figure at 0x2bdb46383c8>"
      ]
     },
     "metadata": {},
     "output_type": "display_data"
    },
    {
     "name": "stdout",
     "output_type": "stream",
     "text": [
      "\n",
      "Model 2:\n"
     ]
    },
    {
     "data": {
      "image/png": "[encoded data removed]",
      "text/plain": [
       "<matplotlib.figure.Figure at 0x2bdb47e6470>"
      ]
     },
     "metadata": {},
     "output_type": "display_data"
    },
    {
     "name": "stdout",
     "output_type": "stream",
     "text": [
      "\n",
      "Model 3:\n"
     ]
    },
    {
     "data": {
      "image/png": "[encoded data removed]",
      "text/plain": [
       "<matplotlib.figure.Figure at 0x2bdb4838240>"
      ]
     },
     "metadata": {},
     "output_type": "display_data"
    }
   ],
   "source": [
    "# Print features\n",
    "for i in range(len(images)):\n",
    "    print('\\nModel ' + str(i) + ':')\n",
    "    plt.imshow(images[i])\n",
    "    plt.show()"
   ]
  },
  {
   "cell_type": "markdown",
   "metadata": {},
   "source": [
    "# With normalizing"
   ]
  },
  {
   "cell_type": "code",
   "execution_count": 10,
   "metadata": {},
   "outputs": [
    {
     "name": "stdout",
     "output_type": "stream",
     "text": [
      "(56000, 784)\n",
      "(14000, 784)\n"
     ]
    }
   ],
   "source": [
    "# Normalize data\n",
    "norm_X_train = np.divide(X_train, 255)\n",
    "norm_X_test = np.divide(X_test, 255)\n",
    "\n",
    "print(norm_X_train.shape)\n",
    "print(norm_X_test.shape)"
   ]
  },
  {
   "cell_type": "code",
   "execution_count": 11,
   "metadata": {},
   "outputs": [
    {
     "name": "stdout",
     "output_type": "stream",
     "text": [
      "\n",
      "Feature ranking for label 0:\n",
      "1. Feature 370 (1.394298)\n",
      "2. Feature 360 (1.061827)\n",
      "3. Feature 240 (1.030077)\n",
      "4. Feature 629 (0.987393)\n",
      "5. Feature 302 (0.949120)\n",
      "6. Feature 298 (0.937117)\n",
      "7. Feature 271 (0.915193)\n",
      "8. Feature 599 (0.886705)\n",
      "9. Feature 386 (0.870052)\n",
      "10. Feature 397 (0.841767)\n",
      "11. Feature 181 (0.834608)\n",
      "12. Feature 44 (0.816965)\n",
      "13. Feature 399 (0.790582)\n",
      "14. Feature 443 (0.774148)\n",
      "15. Feature 453 (0.738666)\n",
      "16. Feature 459 (0.735327)\n",
      "17. Feature 571 (0.734635)\n",
      "18. Feature 339 (0.712098)\n",
      "19. Feature 213 (0.708584)\n",
      "20. Feature 412 (0.680513)\n",
      "21. Feature 207 (0.673358)\n",
      "22. Feature 430 (0.655356)\n",
      "23. Feature 498 (0.647473)\n",
      "24. Feature 455 (0.636013)\n",
      "25. Feature 150 (0.632082)\n",
      "26. Feature 374 (0.627477)\n",
      "27. Feature 405 (0.616978)\n",
      "28. Feature 482 (0.598433)\n",
      "29. Feature 427 (0.591389)\n",
      "30. Feature 544 (0.590691)\n",
      "\n",
      "Feature ranking for label 1:\n",
      "1. Feature 621 (2.011338)\n",
      "2. Feature 350 (1.334534)\n",
      "3. Feature 69 (0.941744)\n",
      "4. Feature 295 (0.927329)\n",
      "5. Feature 634 (0.919349)\n",
      "6. Feature 608 (0.865030)\n",
      "7. Feature 323 (0.863598)\n",
      "8. Feature 162 (0.859166)\n",
      "9. Feature 294 (0.760655)\n",
      "10. Feature 489 (0.758444)\n",
      "11. Feature 462 (0.751572)\n",
      "12. Feature 613 (0.747592)\n",
      "13. Feature 145 (0.739685)\n",
      "14. Feature 379 (0.713892)\n",
      "15. Feature 636 (0.706306)\n",
      "16. Feature 381 (0.684803)\n",
      "17. Feature 598 (0.683921)\n",
      "18. Feature 293 (0.661193)\n",
      "19. Feature 378 (0.658514)\n",
      "20. Feature 518 (0.657156)\n",
      "21. Feature 433 (0.649183)\n",
      "22. Feature 351 (0.647674)\n",
      "23. Feature 521 (0.643590)\n",
      "24. Feature 539 (0.643019)\n",
      "25. Feature 612 (0.642008)\n",
      "26. Feature 602 (0.630493)\n",
      "27. Feature 100 (0.620925)\n",
      "28. Feature 267 (0.616278)\n",
      "29. Feature 406 (0.610262)\n",
      "30. Feature 163 (0.594283)\n",
      "\n",
      "Feature ranking for label 2:\n",
      "1. Feature 446 (2.266413)\n",
      "2. Feature 418 (2.168800)\n",
      "3. Feature 390 (2.055763)\n",
      "4. Feature 474 (1.894893)\n",
      "5. Feature 501 (1.663767)\n",
      "6. Feature 391 (1.397736)\n",
      "7. Feature 333 (1.287781)\n",
      "8. Feature 696 (1.282534)\n",
      "9. Feature 584 (1.282435)\n",
      "10. Feature 313 (1.242434)\n",
      "11. Feature 257 (1.230055)\n",
      "12. Feature 473 (1.210605)\n",
      "13. Feature 361 (1.201714)\n",
      "14. Feature 557 (1.199210)\n",
      "15. Feature 509 (1.188613)\n",
      "16. Feature 502 (1.180940)\n",
      "17. Feature 529 (1.080147)\n",
      "18. Feature 389 (1.047618)\n",
      "19. Feature 425 (1.045072)\n",
      "20. Feature 454 (0.999501)\n",
      "21. Feature 693 (0.982181)\n",
      "22. Feature 118 (0.978109)\n",
      "23. Feature 388 (0.950514)\n",
      "24. Feature 528 (0.870678)\n",
      "25. Feature 611 (0.841280)\n",
      "26. Feature 585 (0.802989)\n",
      "27. Feature 444 (0.784812)\n",
      "28. Feature 530 (0.778346)\n",
      "29. Feature 198 (0.769377)\n",
      "30. Feature 567 (0.741495)\n",
      "\n",
      "Feature ranking for label 3:\n",
      "1. Feature 104 (2.011119)\n",
      "2. Feature 676 (1.369000)\n",
      "3. Feature 479 (1.266781)\n",
      "4. Feature 96 (1.105221)\n",
      "5. Feature 507 (1.062298)\n",
      "6. Feature 563 (1.056471)\n",
      "7. Feature 442 (1.045589)\n",
      "8. Feature 678 (1.004579)\n",
      "9. Feature 472 (0.998399)\n",
      "10. Feature 648 (0.980332)\n",
      "11. Feature 535 (0.978926)\n",
      "12. Feature 451 (0.978571)\n",
      "13. Feature 171 (0.944784)\n",
      "14. Feature 520 (0.939925)\n",
      "15. Feature 675 (0.928665)\n",
      "16. Feature 590 (0.914732)\n",
      "17. Feature 92 (0.871548)\n",
      "18. Feature 367 (0.859963)\n",
      "19. Feature 117 (0.815664)\n",
      "20. Feature 525 (0.806729)\n",
      "21. Feature 495 (0.798589)\n",
      "22. Feature 274 (0.794301)\n",
      "23. Feature 174 (0.776888)\n",
      "24. Feature 499 (0.755213)\n",
      "25. Feature 144 (0.750583)\n",
      "26. Feature 440 (0.716001)\n",
      "27. Feature 565 (0.694947)\n",
      "28. Feature 272 (0.687320)\n",
      "29. Feature 128 (0.686806)\n",
      "30. Feature 591 (0.684008)\n",
      "\n",
      "Feature ranking for label 4:\n",
      "1. Feature 348 (1.364854)\n",
      "2. Feature 442 (1.142549)\n",
      "3. Feature 219 (1.120119)\n",
      "4. Feature 254 (0.763508)\n",
      "5. Feature 463 (0.761232)\n",
      "6. Feature 399 (0.749315)\n",
      "7. Feature 517 (0.749033)\n",
      "8. Feature 424 (0.741955)\n",
      "9. Feature 373 (0.728388)\n",
      "10. Feature 513 (0.719115)\n",
      "11. Feature 396 (0.713307)\n",
      "12. Feature 376 (0.700539)\n",
      "13. Feature 665 (0.682236)\n",
      "14. Feature 535 (0.681138)\n",
      "15. Feature 404 (0.677994)\n",
      "16. Feature 593 (0.671702)\n",
      "17. Feature 375 (0.661475)\n",
      "18. Feature 229 (0.642785)\n",
      "19. Feature 426 (0.617570)\n",
      "20. Feature 201 (0.607736)\n",
      "21. Feature 318 (0.597546)\n",
      "22. Feature 403 (0.596942)\n",
      "23. Feature 681 (0.590096)\n",
      "24. Feature 566 (0.578879)\n",
      "25. Feature 455 (0.578089)\n",
      "26. Feature 411 (0.577618)\n",
      "27. Feature 374 (0.575728)\n",
      "28. Feature 437 (0.575302)\n",
      "29. Feature 446 (0.570171)\n",
      "30. Feature 490 (0.560929)\n",
      "\n",
      "Feature ranking for label 5:\n",
      "1. Feature 333 (3.782984)\n",
      "2. Feature 332 (2.629422)\n",
      "3. Feature 304 (2.605916)\n",
      "4. Feature 362 (2.030614)\n",
      "5. Feature 305 (1.944102)\n",
      "6. Feature 334 (1.360717)\n",
      "7. Feature 416 (1.250266)\n",
      "8. Feature 248 (1.211236)\n",
      "9. Feature 277 (1.174626)\n",
      "10. Feature 303 (1.133423)\n",
      "11. Feature 221 (1.118499)\n",
      "12. Feature 669 (0.996553)\n",
      "13. Feature 192 (0.986209)\n",
      "14. Feature 649 (0.962465)\n",
      "15. Feature 641 (0.962201)\n",
      "16. Feature 444 (0.928683)\n",
      "17. Feature 424 (0.913393)\n",
      "18. Feature 608 (0.902134)\n",
      "19. Feature 287 (0.901837)\n",
      "20. Feature 274 (0.875977)\n",
      "21. Feature 273 (0.868364)\n",
      "22. Feature 500 (0.843060)\n",
      "23. Feature 681 (0.834793)\n",
      "24. Feature 722 (0.808019)\n",
      "25. Feature 342 (0.802746)\n",
      "26. Feature 723 (0.792227)\n",
      "27. Feature 249 (0.791074)\n",
      "28. Feature 306 (0.782904)\n",
      "29. Feature 481 (0.749429)\n",
      "30. Feature 276 (0.742222)\n",
      "\n",
      "Feature ranking for label 6:\n",
      "1. Feature 387 (1.396599)\n",
      "2. Feature 77 (1.282121)\n",
      "3. Feature 108 (1.246776)\n",
      "4. Feature 69 (1.194910)\n",
      "5. Feature 414 (1.179171)\n",
      "6. Feature 459 (1.031519)\n",
      "7. Feature 601 (0.974782)\n",
      "8. Feature 201 (0.970024)\n",
      "9. Feature 78 (0.914689)\n",
      "10. Feature 331 (0.913247)\n",
      "11. Feature 79 (0.912924)\n",
      "12. Feature 74 (0.885202)\n",
      "13. Feature 40 (0.870339)\n",
      "14. Feature 516 (0.860240)\n",
      "15. Feature 574 (0.857864)\n",
      "16. Feature 543 (0.857340)\n",
      "17. Feature 91 (0.816461)\n",
      "18. Feature 92 (0.807891)\n",
      "19. Feature 486 (0.784432)\n",
      "20. Feature 403 (0.781851)\n",
      "21. Feature 161 (0.778005)\n",
      "22. Feature 66 (0.766646)\n",
      "23. Feature 370 (0.741108)\n",
      "24. Feature 544 (0.734606)\n",
      "25. Feature 64 (0.702968)\n",
      "26. Feature 631 (0.701582)\n",
      "27. Feature 313 (0.674406)\n",
      "28. Feature 542 (0.670778)\n",
      "29. Feature 605 (0.659933)\n",
      "30. Feature 602 (0.657682)\n",
      "\n",
      "Feature ranking for label 7:\n",
      "1. Feature 310 (1.709771)\n",
      "2. Feature 282 (1.451283)\n",
      "3. Feature 339 (1.325078)\n",
      "4. Feature 338 (1.299348)\n",
      "5. Feature 778 (1.241496)\n",
      "6. Feature 775 (1.235932)\n",
      "7. Feature 256 (1.150535)\n",
      "8. Feature 266 (1.079777)\n",
      "9. Feature 366 (1.064248)\n",
      "10. Feature 174 (1.020807)\n",
      "11. Feature 264 (0.984476)\n",
      "12. Feature 293 (0.974207)\n",
      "13. Feature 145 (0.956464)\n",
      "14. Feature 411 (0.943575)\n",
      "15. Feature 199 (0.940803)\n",
      "16. Feature 302 (0.915359)\n",
      "17. Feature 231 (0.905672)\n",
      "18. Feature 171 (0.891476)\n",
      "19. Feature 750 (0.858302)\n",
      "20. Feature 394 (0.847115)\n",
      "21. Feature 777 (0.844469)\n",
      "22. Feature 677 (0.794139)\n",
      "23. Feature 423 (0.793823)\n",
      "24. Feature 203 (0.784089)\n",
      "25. Feature 296 (0.757590)\n",
      "26. Feature 769 (0.743934)\n",
      "27. Feature 773 (0.708806)\n",
      "28. Feature 295 (0.706846)\n",
      "29. Feature 678 (0.699631)\n",
      "30. Feature 255 (0.683481)\n",
      "\n",
      "Feature ranking for label 8:\n",
      "1. Feature 332 (1.410849)\n",
      "2. Feature 278 (1.384281)\n",
      "3. Feature 500 (1.346042)\n",
      "4. Feature 667 (1.003654)\n",
      "5. Feature 341 (0.977626)\n",
      "6. Feature 691 (0.969320)\n",
      "7. Feature 471 (0.902238)\n",
      "8. Feature 107 (0.849032)\n",
      "9. Feature 284 (0.827901)\n",
      "10. Feature 334 (0.752468)\n",
      "11. Feature 403 (0.731381)\n",
      "12. Feature 330 (0.726559)\n",
      "13. Feature 180 (0.725589)\n",
      "14. Feature 555 (0.713777)\n",
      "15. Feature 165 (0.692766)\n",
      "16. Feature 379 (0.683641)\n",
      "17. Feature 688 (0.677257)\n",
      "18. Feature 303 (0.675546)\n",
      "19. Feature 137 (0.652535)\n",
      "20. Feature 442 (0.631984)\n",
      "21. Feature 377 (0.630403)\n",
      "22. Feature 136 (0.606765)\n",
      "23. Feature 387 (0.600276)\n",
      "24. Feature 147 (0.596840)\n",
      "25. Feature 355 (0.572459)\n",
      "26. Feature 193 (0.548410)\n",
      "27. Feature 231 (0.538841)\n",
      "28. Feature 717 (0.523797)\n",
      "29. Feature 183 (0.519775)\n",
      "30. Feature 433 (0.518352)\n",
      "\n",
      "Feature ranking for label 9:\n",
      "1. Feature 666 (1.852830)\n",
      "2. Feature 667 (1.744821)\n",
      "3. Feature 721 (1.603610)\n",
      "4. Feature 746 (1.573264)\n",
      "5. Feature 720 (1.424638)\n",
      "6. Feature 620 (1.215856)\n",
      "7. Feature 734 (1.161028)\n",
      "8. Feature 612 (1.086955)\n",
      "9. Feature 359 (1.065525)\n",
      "10. Feature 748 (1.055264)\n",
      "11. Feature 695 (1.044800)\n",
      "12. Feature 718 (0.896192)\n",
      "13. Feature 740 (0.891285)\n",
      "14. Feature 732 (0.861926)\n",
      "15. Feature 328 (0.841215)\n",
      "16. Feature 358 (0.816136)\n",
      "17. Feature 368 (0.811773)\n",
      "18. Feature 211 (0.798275)\n",
      "19. Feature 744 (0.793368)\n",
      "20. Feature 212 (0.792326)\n",
      "21. Feature 742 (0.766149)\n",
      "22. Feature 736 (0.752230)\n",
      "23. Feature 210 (0.742961)\n",
      "24. Feature 677 (0.740276)\n",
      "25. Feature 342 (0.716469)\n",
      "26. Feature 316 (0.700296)\n",
      "27. Feature 182 (0.671650)\n",
      "28. Feature 414 (0.663810)\n",
      "29. Feature 526 (0.662596)\n",
      "30. Feature 733 (0.662452)\n"
     ]
    },
    {
     "name": "stdout",
     "output_type": "stream",
     "text": [
      "\n",
      "Logistic Regression - \n",
      "Train Accuracy:  0.9287\n",
      "Test Accuracy:  0.9178\n"
     ]
    }
   ],
   "source": [
    "# Logistic Regression\n",
    "\n",
    "train_data = norm_X_train\n",
    "test_data = norm_X_test\n",
    "train_labels = y_train\n",
    "test_labels = y_test\n",
    "\n",
    "# Train model\n",
    "model = LogisticRegression(penalty='l2', random_state=42)\n",
    "model.fit(train_data, train_labels)    \n",
    "\n",
    "importances = model.coef_   # Extract top features from model\n",
    "\n",
    "images = []   \n",
    "for i in range(len(importances)):\n",
    "    indices = np.argsort(importances[i])[::-1]\n",
    "\n",
    "    # Get top k features for every label\n",
    "    features = []\n",
    "    print('\\nFeature ranking for label ' + str(i) + ':') if len(importances) > 1 else print('Feature ranking:')\n",
    "    for f in range(30):\n",
    "        features.append(indices[f])\n",
    "        print('%d. Feature %d (%f)' % (f + 1, indices[f], importances[i][indices[f]]))\n",
    "     \n",
    "    # Transform indices of features into row-col values for numpy ndarray\n",
    "    row = []\n",
    "    col = []\n",
    "    for feature in features:\n",
    "        row.append(int(feature/28))\n",
    "        col.append(feature%28)\n",
    "      \n",
    "    # Store numpy ndarray of features into list of images\n",
    "    new_image = np.zeros((28,28))\n",
    "    for j in range(len(features)):\n",
    "        new_image[row[j]][col[j]] = 255       \n",
    "    images.append(new_image)\n",
    "\n",
    "# Test model\n",
    "y_train_pred = model.predict(train_data)\n",
    "y_test_pred = model.predict(test_data)\n",
    "\n",
    "# Evaluate model\n",
    "print('\\nLogistic Regression - \\nTrain Accuracy: ', round(np.sum(y_train_pred == train_labels) / train_data.shape[0], 4))\n",
    "print('Test Accuracy: ', round(np.sum(y_test_pred == test_labels) / test_data.shape[0], 4))"
   ]
  },
  {
   "cell_type": "code",
   "execution_count": 12,
   "metadata": {},
   "outputs": [
    {
     "name": "stdout",
     "output_type": "stream",
     "text": [
      "\n",
      "Label 0:\n"
     ]
    },
    {
     "data": {
      "image/png": "[encoded data removed]",
      "text/plain": [
       "<matplotlib.figure.Figure at 0x2bdb48632e8>"
      ]
     },
     "metadata": {},
     "output_type": "display_data"
    },
    {
     "name": "stdout",
     "output_type": "stream",
     "text": [
      "\n",
      "Label 1:\n"
     ]
    },
    {
     "data": {
      "image/png": "[encoded data removed]",
      "text/plain": [
       "<matplotlib.figure.Figure at 0x2bdb9cace10>"
      ]
     },
     "metadata": {},
     "output_type": "display_data"
    },
    {
     "name": "stdout",
     "output_type": "stream",
     "text": [
      "\n",
      "Label 2:\n"
     ]
    },
    {
     "data": {
      "image/png": "[encoded data removed]",
      "text/plain": [
       "<matplotlib.figure.Figure at 0x2bdb48cdf98>"
      ]
     },
     "metadata": {},
     "output_type": "display_data"
    },
    {
     "name": "stdout",
     "output_type": "stream",
     "text": [
      "\n",
      "Label 3:\n"
     ]
    },
    {
     "data": {
      "image/png": "[encoded data removed]",
      "text/plain": [
       "<matplotlib.figure.Figure at 0x2bdb48bd668>"
      ]
     },
     "metadata": {},
     "output_type": "display_data"
    },
    {
     "name": "stdout",
     "output_type": "stream",
     "text": [
      "\n",
      "Label 4:\n"
     ]
    },
    {
     "data": {
      "image/png": "[encoded data removed]",
      "text/plain": [
       "<matplotlib.figure.Figure at 0x2bdb470c080>"
      ]
     },
     "metadata": {},
     "output_type": "display_data"
    },
    {
     "name": "stdout",
     "output_type": "stream",
     "text": [
      "\n",
      "Label 5:\n"
     ]
    },
    {
     "data": {
      "image/png": "[encoded data removed]",
      "text/plain": [
       "<matplotlib.figure.Figure at 0x2bdb467a518>"
      ]
     },
     "metadata": {},
     "output_type": "display_data"
    },
    {
     "name": "stdout",
     "output_type": "stream",
     "text": [
      "\n",
      "Label 6:\n"
     ]
    },
    {
     "data": {
      "image/png": "[encoded data removed]",
      "text/plain": [
       "<matplotlib.figure.Figure at 0x2bdb44e2940>"
      ]
     },
     "metadata": {},
     "output_type": "display_data"
    },
    {
     "name": "stdout",
     "output_type": "stream",
     "text": [
      "\n",
      "Label 7:\n"
     ]
    },
    {
     "data": {
      "image/png": "[encoded data removed]",
      "text/plain": [
       "<matplotlib.figure.Figure at 0x2bdb4826048>"
      ]
     },
     "metadata": {},
     "output_type": "display_data"
    },
    {
     "name": "stdout",
     "output_type": "stream",
     "text": [
      "\n",
      "Label 8:\n"
     ]
    },
    {
     "data": {
      "image/png": "[encoded data removed]",
      "text/plain": [
       "<matplotlib.figure.Figure at 0x2bdb9d19c50>"
      ]
     },
     "metadata": {},
     "output_type": "display_data"
    },
    {
     "name": "stdout",
     "output_type": "stream",
     "text": [
      "\n",
      "Label 9:\n"
     ]
    },
    {
     "data": {
      "image/png": "[encoded data removed]",
      "text/plain": [
       "<matplotlib.figure.Figure at 0x2bdb4705668>"
      ]
     },
     "metadata": {},
     "output_type": "display_data"
    }
   ],
   "source": [
    "# Print features\n",
    "for i in range(len(images)):\n",
    "    print('\\nLabel ' + str(i) + ':')\n",
    "    plt.imshow(images[i])\n",
    "    plt.show()"
   ]
  },
  {
   "cell_type": "code",
   "execution_count": 13,
   "metadata": {},
   "outputs": [
    {
     "name": "stdout",
     "output_type": "stream",
     "text": [
      "\n",
      "Feature ranking:\n",
      "1. Feature 489 (0.054079)\n",
      "2. Feature 350 (0.045175)\n",
      "3. Feature 435 (0.044980)\n",
      "4. Feature 542 (0.039893)\n",
      "5. Feature 211 (0.035058)\n",
      "6. Feature 432 (0.033236)\n",
      "7. Feature 270 (0.030666)\n",
      "8. Feature 347 (0.029399)\n",
      "9. Feature 597 (0.027551)\n",
      "10. Feature 486 (0.026733)\n",
      "11. Feature 155 (0.026241)\n",
      "12. Feature 521 (0.023522)\n",
      "13. Feature 354 (0.019036)\n",
      "14. Feature 273 (0.015969)\n",
      "15. Feature 296 (0.015357)\n",
      "16. Feature 290 (0.015035)\n",
      "17. Feature 405 (0.012132)\n",
      "18. Feature 657 (0.011417)\n",
      "19. Feature 656 (0.010171)\n",
      "20. Feature 658 (0.008892)\n",
      "21. Feature 352 (0.008856)\n",
      "22. Feature 596 (0.008363)\n",
      "23. Feature 297 (0.008182)\n",
      "24. Feature 458 (0.007894)\n",
      "25. Feature 380 (0.007691)\n",
      "26. Feature 301 (0.006798)\n",
      "27. Feature 206 (0.006754)\n",
      "28. Feature 404 (0.006506)\n",
      "29. Feature 267 (0.006470)\n",
      "30. Feature 598 (0.006051)\n",
      "\n",
      "Decision Tree - \n",
      "Train Accuracy:  1.0\n",
      "Test Accuracy:  0.8737\n",
      "\n",
      "Feature ranking:\n",
      "1. Feature 489 (0.064754)\n",
      "2. Feature 350 (0.053364)\n",
      "3. Feature 435 (0.053166)\n",
      "4. Feature 542 (0.047232)\n",
      "5. Feature 211 (0.041359)\n",
      "6. Feature 432 (0.038927)\n",
      "7. Feature 270 (0.035931)\n",
      "8. Feature 347 (0.033927)\n",
      "9. Feature 597 (0.032183)\n",
      "10. Feature 486 (0.031175)\n",
      "11. Feature 155 (0.030889)\n",
      "12. Feature 521 (0.027669)\n",
      "13. Feature 354 (0.022029)\n",
      "14. Feature 273 (0.019033)\n",
      "15. Feature 290 (0.017736)\n",
      "16. Feature 296 (0.016831)\n",
      "17. Feature 405 (0.014182)\n",
      "18. Feature 657 (0.013088)\n",
      "19. Feature 656 (0.011816)\n",
      "20. Feature 658 (0.009925)\n",
      "21. Feature 352 (0.009778)\n",
      "22. Feature 596 (0.009546)\n",
      "23. Feature 297 (0.009173)\n",
      "24. Feature 458 (0.008829)\n",
      "25. Feature 380 (0.008169)\n",
      "26. Feature 206 (0.007554)\n",
      "27. Feature 301 (0.007553)\n",
      "28. Feature 267 (0.006725)\n",
      "29. Feature 598 (0.006483)\n",
      "30. Feature 404 (0.006378)\n",
      "\n",
      "Decision Tree - \n",
      "Train Accuracy:  0.9029\n",
      "Test Accuracy:  0.8576\n",
      "\n",
      "Feature ranking:\n",
      "1. Feature 489 (0.055719)\n",
      "2. Feature 435 (0.046223)\n",
      "3. Feature 350 (0.045938)\n",
      "4. Feature 542 (0.041213)\n",
      "5. Feature 211 (0.036082)\n",
      "6. Feature 432 (0.033704)\n",
      "7. Feature 270 (0.031500)\n",
      "8. Feature 347 (0.029829)\n",
      "9. Feature 597 (0.028154)\n",
      "10. Feature 486 (0.027498)\n",
      "11. Feature 155 (0.027028)\n",
      "12. Feature 521 (0.024121)\n",
      "13. Feature 354 (0.019911)\n",
      "14. Feature 273 (0.016332)\n",
      "15. Feature 290 (0.015302)\n",
      "16. Feature 296 (0.015270)\n",
      "17. Feature 405 (0.012366)\n",
      "18. Feature 657 (0.011563)\n",
      "19. Feature 656 (0.010251)\n",
      "20. Feature 658 (0.009124)\n",
      "21. Feature 352 (0.009079)\n",
      "22. Feature 596 (0.008905)\n",
      "23. Feature 297 (0.008202)\n",
      "24. Feature 458 (0.007865)\n",
      "25. Feature 380 (0.007547)\n",
      "26. Feature 206 (0.006969)\n",
      "27. Feature 301 (0.006920)\n",
      "28. Feature 404 (0.006628)\n",
      "29. Feature 267 (0.006081)\n",
      "30. Feature 598 (0.005916)\n",
      "\n",
      "Decision Tree - \n",
      "Train Accuracy:  0.9767\n",
      "Test Accuracy:  0.872\n",
      "\n",
      "Feature ranking:\n",
      "1. Feature 489 (0.054691)\n",
      "2. Feature 435 (0.045389)\n",
      "3. Feature 350 (0.045232)\n",
      "4. Feature 542 (0.039982)\n",
      "5. Feature 211 (0.035274)\n",
      "6. Feature 432 (0.033157)\n",
      "7. Feature 270 (0.031038)\n",
      "8. Feature 347 (0.029505)\n",
      "9. Feature 597 (0.027662)\n",
      "10. Feature 486 (0.026969)\n",
      "11. Feature 155 (0.026438)\n",
      "12. Feature 521 (0.023409)\n",
      "13. Feature 354 (0.019579)\n",
      "14. Feature 273 (0.016241)\n",
      "15. Feature 296 (0.015535)\n",
      "16. Feature 290 (0.015056)\n",
      "17. Feature 405 (0.012327)\n",
      "18. Feature 657 (0.011590)\n",
      "19. Feature 656 (0.010224)\n",
      "20. Feature 352 (0.009257)\n",
      "21. Feature 596 (0.008727)\n",
      "22. Feature 658 (0.008696)\n",
      "23. Feature 297 (0.007904)\n",
      "24. Feature 458 (0.007806)\n",
      "25. Feature 380 (0.006913)\n",
      "26. Feature 301 (0.006826)\n",
      "27. Feature 206 (0.006669)\n",
      "28. Feature 404 (0.006435)\n",
      "29. Feature 210 (0.005949)\n",
      "30. Feature 267 (0.005872)\n",
      "\n",
      "Decision Tree - \n",
      "Train Accuracy:  0.9918\n",
      "Test Accuracy:  0.8724\n"
     ]
    }
   ],
   "source": [
    "# Decision Tree\n",
    "\n",
    "train_data = norm_X_train\n",
    "test_data = norm_X_test\n",
    "train_labels = y_train\n",
    "test_labels = y_test\n",
    "\n",
    "images = []\n",
    "\n",
    "# Train model\n",
    "model = DecisionTreeClassifier(random_state=42)\n",
    "for model in [\n",
    "    DecisionTreeClassifier(random_state=42), \n",
    "    DecisionTreeClassifier(random_state=42, max_depth=10), \n",
    "    DecisionTreeClassifier(random_state=42, min_samples_leaf=2), \n",
    "    DecisionTreeClassifier(random_state=42, min_samples_split=3)\n",
    "]:\n",
    "\n",
    "    model.fit(train_data, train_labels)    \n",
    "\n",
    "    # Extract top features from model\n",
    "    importances = model.feature_importances_\n",
    "    indices = np.argsort(importances)[::-1]\n",
    "\n",
    "    # Get top k features\n",
    "    print('\\nFeature ranking:')\n",
    "    for f in range(30):\n",
    "        print('%d. Feature %d (%f)' % (f + 1, indices[f], importances[indices[f]]))\n",
    "\n",
    "    # Transform indices of features into row-col values for numpy ndarray\n",
    "    row = []\n",
    "    col = []\n",
    "    for feature in features:\n",
    "        row.append(int(feature/28))\n",
    "        col.append(feature%28)\n",
    "\n",
    "    # Store numpy ndarray of features into list of images\n",
    "    new_image = np.zeros((28,28))\n",
    "    for j in range(len(features)):\n",
    "        new_image[row[j]][col[j]] = 255\n",
    "    images.append(new_image)\n",
    "\n",
    "    # Test model\n",
    "    y_train_pred = model.predict(train_data)\n",
    "    y_test_pred = model.predict(test_data)\n",
    "\n",
    "    # Evaluate model\n",
    "    print('\\nDecision Tree - \\nTrain Accuracy: ', round(np.sum(y_train_pred == train_labels) / train_data.shape[0], 4))\n",
    "    print('Test Accuracy: ', round(np.sum(y_test_pred == test_labels) / test_data.shape[0], 4))"
   ]
  },
  {
   "cell_type": "code",
   "execution_count": 14,
   "metadata": {
    "scrolled": true
   },
   "outputs": [
    {
     "name": "stdout",
     "output_type": "stream",
     "text": [
      "\n",
      "Model 0:\n"
     ]
    },
    {
     "data": {
      "image/png": "[encoded data removed]",
      "text/plain": [
       "<matplotlib.figure.Figure at 0x2bdb47e0b38>"
      ]
     },
     "metadata": {},
     "output_type": "display_data"
    },
    {
     "name": "stdout",
     "output_type": "stream",
     "text": [
      "\n",
      "Model 1:\n"
     ]
    },
    {
     "data": {
      "image/png": "[encoded data removed]",
      "text/plain": [
       "<matplotlib.figure.Figure at 0x2bdb46a1dd8>"
      ]
     },
     "metadata": {},
     "output_type": "display_data"
    },
    {
     "name": "stdout",
     "output_type": "stream",
     "text": [
      "\n",
      "Model 2:\n"
     ]
    },
    {
     "data": {
      "image/png": "[encoded data removed]",
      "text/plain": [
       "<matplotlib.figure.Figure at 0x2bdb4625208>"
      ]
     },
     "metadata": {},
     "output_type": "display_data"
    },
    {
     "name": "stdout",
     "output_type": "stream",
     "text": [
      "\n",
      "Model 3:\n"
     ]
    },
    {
     "data": {
      "image/png": "[encoded data removed]",
      "text/plain": [
       "<matplotlib.figure.Figure at 0x2bdb4697cf8>"
      ]
     },
     "metadata": {},
     "output_type": "display_data"
    }
   ],
   "source": [
    "# Print features\n",
    "for i in range(len(images)):\n",
    "    print('\\nModel ' + str(i) + ':')\n",
    "    plt.imshow(images[i])\n",
    "    plt.show()"
   ]
  },
  {
   "cell_type": "code",
   "execution_count": null,
   "metadata": {},
   "outputs": [],
   "source": []
  }
 ],
 "metadata": {
  "kernelspec": {
   "display_name": "Python 3",
   "language": "python",
   "name": "python3"
  },
  "language_info": {
   "codemirror_mode": {
    "name": "ipython",
    "version": 3
   },
   "file_extension": ".py",
   "mimetype": "text/x-python",
   "name": "python",
   "nbconvert_exporter": "python",
   "pygments_lexer": "ipython3",
   "version": "3.6.4"
  }
 },
 "nbformat": 4,
 "nbformat_minor": 2
}
