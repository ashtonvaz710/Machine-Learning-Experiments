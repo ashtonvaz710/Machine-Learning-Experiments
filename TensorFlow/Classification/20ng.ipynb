{
 "cells": [
  {
   "cell_type": "code",
   "execution_count": 1,
   "metadata": {},
   "outputs": [],
   "source": [
    "from __future__ import print_function\n",
    "from sklearn.datasets import fetch_20newsgroups\n",
    "from sklearn.feature_extraction.text import TfidfVectorizer\n",
    "from sklearn.feature_selection import SelectKBest, chi2\n",
    "import tensorflow as tf\n",
    "import matplotlib.pyplot as plt\n",
    "import numpy as np"
   ]
  },
  {
   "cell_type": "code",
   "execution_count": 2,
   "metadata": {},
   "outputs": [],
   "source": [
    "# Define the neural network\n",
    "def neural_net(x_dict):\n",
    "    # TF Estimator input is a dict, in case of multiple inputs\n",
    "    x = x_dict['data']\n",
    "    # Hidden fully connected layer with 256 neurons\n",
    "    layer_1 = tf.layers.dense(x, n_hidden_1)\n",
    "    # Hidden fully connected layer with 256 neurons\n",
    "    layer_2 = tf.layers.dense(layer_1, n_hidden_2)\n",
    "    # Output fully connected layer with a neuron for each class\n",
    "    out_layer = tf.layers.dense(layer_2, num_classes)\n",
    "    return out_layer"
   ]
  },
  {
   "cell_type": "code",
   "execution_count": 3,
   "metadata": {},
   "outputs": [],
   "source": [
    "# Define the model function (following TF Estimator Template)\n",
    "def model_fn(features, labels, mode):\n",
    "    \n",
    "    # Build the neural network\n",
    "    logits = neural_net(features)\n",
    "    \n",
    "    # Predictions\n",
    "    pred_classes = tf.argmax(logits, axis=1)\n",
    "    pred_probas = tf.nn.softmax(logits)\n",
    "    \n",
    "    # If prediction mode, early return\n",
    "    if mode == tf.estimator.ModeKeys.PREDICT:\n",
    "        return tf.estimator.EstimatorSpec(mode, predictions=pred_classes) \n",
    "        \n",
    "    # Define loss and optimizer\n",
    "    loss_op = tf.reduce_mean(tf.nn.sparse_softmax_cross_entropy_with_logits(\n",
    "        logits=logits, labels=tf.cast(labels, dtype=tf.int32)))\n",
    "    optimizer = tf.train.GradientDescentOptimizer(learning_rate=learning_rate)\n",
    "    train_op = optimizer.minimize(loss_op, global_step=tf.train.get_global_step())\n",
    "    \n",
    "    # Evaluate the accuracy of the model\n",
    "    acc_op = tf.metrics.accuracy(labels=labels, predictions=pred_classes)\n",
    "    \n",
    "    # TF Estimators requires to return a EstimatorSpec, that specify\n",
    "    # the different ops for training, evaluating, ...\n",
    "    estim_specs = tf.estimator.EstimatorSpec(\n",
    "      mode=mode,\n",
    "      predictions=pred_classes,\n",
    "      loss=loss_op,\n",
    "      train_op=train_op,\n",
    "      eval_metric_ops={'accuracy': acc_op})\n",
    "\n",
    "    return estim_specs"
   ]
  },
  {
   "cell_type": "code",
   "execution_count": 4,
   "metadata": {
    "scrolled": true
   },
   "outputs": [],
   "source": [
    "# Evaluate the Model\n",
    "def evaluate_model(x, y):\n",
    "    # Define the input function for evaluating\n",
    "    input_fn = tf.estimator.inputs.numpy_input_fn(x={'data': x}, y=y, batch_size=batch_size, shuffle=False)\n",
    "    \n",
    "    # Use the Estimator 'evaluate' method\n",
    "    model.evaluate(input_fn)"
   ]
  },
  {
   "cell_type": "code",
   "execution_count": 5,
   "metadata": {},
   "outputs": [],
   "source": [
    "# Predict text data\n",
    "def predict_data(text_data):\n",
    "    data = vectorizer2.transform(text_data)\n",
    "    data = data.todense()\n",
    "    \n",
    "    # Prepare the input data\n",
    "    input_fn = tf.estimator.inputs.numpy_input_fn(x={'data': data}, shuffle=False)\n",
    "\n",
    "    # Use the model to predict the images class\n",
    "    preds = list(model.predict(input_fn))\n",
    "    \n",
    "    for i in range(len(preds)):\n",
    "        print('Text:\\n', text_data[i])\n",
    "        print('Prediction Label:\\n', ng_train.target_names[preds[i]])\n",
    "        print('-------------------------------------------------------')"
   ]
  },
  {
   "cell_type": "code",
   "execution_count": 6,
   "metadata": {},
   "outputs": [
    {
     "name": "stdout",
     "output_type": "stream",
     "text": [
      "11314\n",
      "7532\n",
      "11314\n",
      "7532\n"
     ]
    }
   ],
   "source": [
    "# Fetch data\n",
    "ng_train = fetch_20newsgroups(subset='train')\n",
    "ng_test = fetch_20newsgroups(subset='test')\n",
    "\n",
    "# Training and testing data\n",
    "X_train = ng_train.data\n",
    "X_test = ng_test.data\n",
    "\n",
    "# Set of label names for training and testing data\n",
    "# ng_train.target_names\n",
    "# ng_test.target_names\n",
    "\n",
    "# Training and testing labels, where each label is associated with a number corresponding to the index in target_names\n",
    "# ng_train.target\n",
    "# ng_test.target\n",
    "\n",
    "# Training and testing labels\n",
    "y_train = []\n",
    "y_test = []\n",
    "\n",
    "for i in range(len(X_train)):\n",
    "    y_train.append(ng_train.target_names[ng_train.target[i]])\n",
    "for i in range(len(X_test)):\n",
    "    y_test.append(ng_test.target_names[ng_test.target[i]])\n",
    "\n",
    "print(len(X_train))\n",
    "print(len(X_test))\n",
    "print(len(y_train))\n",
    "print(len(y_test))"
   ]
  },
  {
   "cell_type": "code",
   "execution_count": 7,
   "metadata": {},
   "outputs": [],
   "source": [
    "# Converting text to vectors\n",
    "tfidf = TfidfVectorizer()\n",
    "tfidf.fit(X_train)\n",
    "vect_X_train = tfidf.transform(X_train)\n",
    "vect_X_test = tfidf.transform(X_test)\n",
    "\n",
    "print(vect_X_train.shape)\n",
    "print(vect_X_test.shape)"
   ]
  },
  {
   "cell_type": "code",
   "execution_count": 8,
   "metadata": {},
   "outputs": [],
   "source": [
    "# Reduce data to top K features\n",
    "K = 1000\n",
    "model = SelectKBest(chi2, K)\n",
    "\n",
    "model.fit(vect_X_train, y_train)\n",
    "importances = model.scores_      # Scores of each feature\n",
    "\n",
    "indices = np.argsort(importances)[::-1]\n",
    "features = tfidf.get_feature_names()\n",
    "\n",
    "# Store top k features\n",
    "new_features = []\n",
    "for f in range(K):\n",
    "    new_features.append(features[indices[f]])\n",
    "\n",
    "# Convert train and test data to vectors based on k features\n",
    "new_tfidf = TfidfVectorizer(stop_words='english', vocabulary=new_features)\n",
    "new_tfidf.fit(X_train)\n",
    "\n",
    "vect_X_train = new_tfidf.transform(X_train)\n",
    "vect_X_test = new_tfidf.transform(X_test)"
   ]
  },
  {
   "cell_type": "code",
   "execution_count": 9,
   "metadata": {},
   "outputs": [],
   "source": [
    "X_train = vect_X_train.todense()\n",
    "X_test = vect_X_test.todense()\n",
    "y_train = np.array(y_train)\n",
    "y_test = np.array(y_test)"
   ]
  },
  {
   "cell_type": "code",
   "execution_count": 10,
   "metadata": {},
   "outputs": [],
   "source": [
    "# Parameters\n",
    "learning_rate = 0.1\n",
    "num_steps = 1000\n",
    "batch_size = 128\n",
    "display_step = 100\n",
    "\n",
    "# Network Parameters\n",
    "n_hidden_1 = 256 # 1st layer number of neurons\n",
    "n_hidden_2 = 256 # 2nd layer number of neurons\n",
    "num_input = K # MNIST data input (img shape: 28*28)\n",
    "num_classes = 20 # MNIST total classes (0-9 digits)"
   ]
  },
  {
   "cell_type": "code",
   "execution_count": 11,
   "metadata": {},
   "outputs": [],
   "source": [
    "# Define the input function for training\n",
    "input_fn = tf.estimator.inputs.numpy_input_fn(\n",
    "    x={'data': X_train}, y=y_train,\n",
    "    batch_size=batch_size, num_epochs=None, shuffle=True)"
   ]
  },
  {
   "cell_type": "code",
   "execution_count": 12,
   "metadata": {},
   "outputs": [
    {
     "name": "stdout",
     "output_type": "stream",
     "text": [
      "INFO:tensorflow:Using default config.\n",
      "WARNING:tensorflow:Using temporary folder as model directory: C:\\Users\\Ashton\\AppData\\Local\\Temp\\tmp7eslsg_u\n",
      "INFO:tensorflow:Using config: {'_model_dir': 'C:\\\\Users\\\\Ashton\\\\AppData\\\\Local\\\\Temp\\\\tmp7eslsg_u', '_tf_random_seed': None, '_save_summary_steps': 100, '_save_checkpoints_steps': None, '_save_checkpoints_secs': 600, '_session_config': None, '_keep_checkpoint_max': 5, '_keep_checkpoint_every_n_hours': 10000, '_log_step_count_steps': 100, '_service': None, '_cluster_spec': <tensorflow.python.training.server_lib.ClusterSpec object at 0x0000025E71A124E0>, '_task_type': 'worker', '_task_id': 0, '_global_id_in_cluster': 0, '_master': '', '_evaluation_master': '', '_is_chief': True, '_num_ps_replicas': 0, '_num_worker_replicas': 1}\n"
     ]
    }
   ],
   "source": [
    "# Build the Estimator\n",
    "model = tf.estimator.Estimator(model_fn)"
   ]
  },
  {
   "cell_type": "code",
   "execution_count": 13,
   "metadata": {},
   "outputs": [
    {
     "name": "stdout",
     "output_type": "stream",
     "text": [
      "INFO:tensorflow:Calling model_fn.\n",
      "INFO:tensorflow:Done calling model_fn.\n",
      "INFO:tensorflow:Create CheckpointSaverHook.\n",
      "INFO:tensorflow:Graph was finalized.\n",
      "INFO:tensorflow:Running local_init_op.\n",
      "INFO:tensorflow:Done running local_init_op.\n",
      "INFO:tensorflow:Saving checkpoints for 1 into C:\\Users\\Ashton\\AppData\\Local\\Temp\\tmp7eslsg_u\\model.ckpt.\n",
      "INFO:tensorflow:loss = 2.997783130813092, step = 1\n",
      "INFO:tensorflow:global_step/sec: 106.08\n",
      "INFO:tensorflow:loss = 2.901840024661614, step = 101 (0.944 sec)\n",
      "INFO:tensorflow:global_step/sec: 108.781\n",
      "INFO:tensorflow:loss = 2.7273493966411824, step = 201 (0.919 sec)\n",
      "INFO:tensorflow:global_step/sec: 103.351\n",
      "INFO:tensorflow:loss = 2.4547067033405647, step = 301 (0.968 sec)\n",
      "INFO:tensorflow:global_step/sec: 96.4673\n",
      "INFO:tensorflow:loss = 2.0258074344170627, step = 401 (1.038 sec)\n",
      "INFO:tensorflow:global_step/sec: 86.8007\n",
      "INFO:tensorflow:loss = 1.634514477711623, step = 501 (1.154 sec)\n",
      "INFO:tensorflow:global_step/sec: 105.219\n",
      "INFO:tensorflow:loss = 1.1749692207836882, step = 601 (0.948 sec)\n",
      "INFO:tensorflow:global_step/sec: 108.349\n",
      "INFO:tensorflow:loss = 1.0704522167355845, step = 701 (0.922 sec)\n",
      "INFO:tensorflow:global_step/sec: 108.999\n",
      "INFO:tensorflow:loss = 1.0300358374793008, step = 801 (0.917 sec)\n",
      "INFO:tensorflow:global_step/sec: 108.005\n",
      "INFO:tensorflow:loss = 0.7970168052895297, step = 901 (0.926 sec)\n",
      "INFO:tensorflow:Saving checkpoints for 1000 into C:\\Users\\Ashton\\AppData\\Local\\Temp\\tmp7eslsg_u\\model.ckpt.\n",
      "INFO:tensorflow:Loss for final step: 0.6965815921900799.\n"
     ]
    },
    {
     "data": {
      "text/plain": [
       "<tensorflow.python.estimator.estimator.Estimator at 0x25e6f704d30>"
      ]
     },
     "execution_count": 13,
     "metadata": {},
     "output_type": "execute_result"
    }
   ],
   "source": [
    "# Train the Model\n",
    "model.train(input_fn, steps=num_steps)"
   ]
  },
  {
   "cell_type": "code",
   "execution_count": 14,
   "metadata": {},
   "outputs": [
    {
     "name": "stdout",
     "output_type": "stream",
     "text": [
      "INFO:tensorflow:Calling model_fn.\n",
      "INFO:tensorflow:Done calling model_fn.\n",
      "INFO:tensorflow:Starting evaluation at 2018-03-23-00:12:45\n",
      "INFO:tensorflow:Graph was finalized.\n",
      "INFO:tensorflow:Restoring parameters from C:\\Users\\Ashton\\AppData\\Local\\Temp\\tmp7eslsg_u\\model.ckpt-1000\n",
      "INFO:tensorflow:Running local_init_op.\n",
      "INFO:tensorflow:Done running local_init_op.\n",
      "INFO:tensorflow:Finished evaluation at 2018-03-23-00:12:45\n",
      "INFO:tensorflow:Saving dict for global step 1000: accuracy = 0.81951565, global_step = 1000, loss = 0.71911603\n"
     ]
    }
   ],
   "source": [
    "evaluate_model(X_train, y_train)"
   ]
  },
  {
   "cell_type": "code",
   "execution_count": 15,
   "metadata": {},
   "outputs": [
    {
     "name": "stdout",
     "output_type": "stream",
     "text": [
      "INFO:tensorflow:Calling model_fn.\n",
      "INFO:tensorflow:Done calling model_fn.\n",
      "INFO:tensorflow:Graph was finalized.\n",
      "INFO:tensorflow:Restoring parameters from C:\\Users\\Ashton\\AppData\\Local\\Temp\\tmp7eslsg_u\\model.ckpt-1000\n",
      "INFO:tensorflow:Running local_init_op.\n",
      "INFO:tensorflow:Done running local_init_op.\n",
      "Text:\n",
      " Discovering new species of animals is not easy\n",
      "Prediction Label:\n",
      " sci.med\n",
      "-------------------------------------------------------\n",
      "Text:\n",
      " Space exploration is my favorite past time\n",
      "Prediction Label:\n",
      " sci.space\n",
      "-------------------------------------------------------\n",
      "Text:\n",
      " I have never hit a home run\n",
      "Prediction Label:\n",
      " rec.sport.baseball\n",
      "-------------------------------------------------------\n"
     ]
    }
   ],
   "source": [
    "predict_data(['Discovering new species of animals is not easy', 'Space exploration is my favorite past time', 'I have never hit a home run'])"
   ]
  },
  {
   "cell_type": "code",
   "execution_count": 16,
   "metadata": {},
   "outputs": [
    {
     "name": "stdout",
     "output_type": "stream",
     "text": [
      "INFO:tensorflow:Calling model_fn.\n",
      "INFO:tensorflow:Done calling model_fn.\n",
      "INFO:tensorflow:Starting evaluation at 2018-03-23-00:12:46\n",
      "INFO:tensorflow:Graph was finalized.\n",
      "INFO:tensorflow:Restoring parameters from C:\\Users\\Ashton\\AppData\\Local\\Temp\\tmp7eslsg_u\\model.ckpt-1000\n",
      "INFO:tensorflow:Running local_init_op.\n",
      "INFO:tensorflow:Done running local_init_op.\n",
      "INFO:tensorflow:Finished evaluation at 2018-03-23-00:12:46\n",
      "INFO:tensorflow:Saving dict for global step 1000: accuracy = 0.7368561, global_step = 1000, loss = 0.9465906\n"
     ]
    }
   ],
   "source": [
    "evaluate_model(X_test, y_test)"
   ]
  },
  {
   "cell_type": "code",
   "execution_count": 17,
   "metadata": {},
   "outputs": [
    {
     "name": "stdout",
     "output_type": "stream",
     "text": [
      "INFO:tensorflow:Calling model_fn.\n",
      "INFO:tensorflow:Done calling model_fn.\n",
      "INFO:tensorflow:Graph was finalized.\n",
      "INFO:tensorflow:Restoring parameters from C:\\Users\\Ashton\\AppData\\Local\\Temp\\tmp7eslsg_u\\model.ckpt-1000\n",
      "INFO:tensorflow:Running local_init_op.\n",
      "INFO:tensorflow:Done running local_init_op.\n",
      "Text:\n",
      " I need some guidance in my life, I am going to Church tomorrow\n",
      "Prediction Label:\n",
      " soc.religion.christian\n",
      "-------------------------------------------------------\n",
      "Text:\n",
      " I want to sell my soul\n",
      "Prediction Label:\n",
      " misc.forsale\n",
      "-------------------------------------------------------\n",
      "Text:\n",
      " This screen is sharp and bright\n",
      "Prediction Label:\n",
      " comp.sys.mac.hardware\n",
      "-------------------------------------------------------\n"
     ]
    }
   ],
   "source": [
    "predict_data(['I need some guidance in my life, I am going to Church tomorrow', 'I want to sell my soul', 'This screen is sharp and bright'])"
   ]
  },
  {
   "cell_type": "code",
   "execution_count": null,
   "metadata": {},
   "outputs": [],
   "source": []
  }
 ],
 "metadata": {
  "kernelspec": {
   "display_name": "Python 3",
   "language": "python",
   "name": "python3"
  },
  "language_info": {
   "codemirror_mode": {
    "name": "ipython",
    "version": 3
   },
   "file_extension": ".py",
   "mimetype": "text/x-python",
   "name": "python",
   "nbconvert_exporter": "python",
   "pygments_lexer": "ipython3",
   "version": "3.6.4"
  }
 },
 "nbformat": 4,
 "nbformat_minor": 2
}
