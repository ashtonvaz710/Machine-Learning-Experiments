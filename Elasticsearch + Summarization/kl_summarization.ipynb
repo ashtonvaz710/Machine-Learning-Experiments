{
 "cells": [
  {
   "cell_type": "code",
   "execution_count": 1,
   "metadata": {},
   "outputs": [],
   "source": [
    "from elasticsearch import Elasticsearch\n",
    "from os import listdir\n",
    "from os.path import isfile, join\n",
    "from pprint import pprint\n",
    "from sklearn.datasets import fetch_20newsgroups\n",
    "from sklearn.decomposition import LatentDirichletAllocation, NMF\n",
    "from sklearn.feature_extraction.text import TfidfVectorizer, CountVectorizer\n",
    "from nltk import sent_tokenize\n",
    "from collections import Counter\n",
    "from math import log\n",
    "import numpy as np\n",
    "import requests\n",
    "import time\n",
    "import os"
   ]
  },
  {
   "cell_type": "code",
   "execution_count": 2,
   "metadata": {},
   "outputs": [],
   "source": [
    "# creates absolute path\n",
    "def abspath(path, *paths):\n",
    "    fpath = os.path.join(os.getcwd(), os.pardir, path)\n",
    "\n",
    "    for p in paths:\n",
    "        fpath = os.path.join(fpath, p)\n",
    "    return fpath"
   ]
  },
  {
   "cell_type": "code",
   "execution_count": 4,
   "metadata": {},
   "outputs": [
    {
     "name": "stdout",
     "output_type": "stream",
     "text": [
      "{\n",
      "  \"name\" : \"m9haKfx\",\n",
      "  \"cluster_name\" : \"elasticsearch\",\n",
      "  \"cluster_uuid\" : \"HBzbQIPNQfqcLDGtTuR9oQ\",\n",
      "  \"version\" : {\n",
      "    \"number\" : \"6.2.3\",\n",
      "    \"build_hash\" : \"c59ff00\",\n",
      "    \"build_date\" : \"2018-03-13T10:06:29.741383Z\",\n",
      "    \"build_snapshot\" : false,\n",
      "    \"lucene_version\" : \"7.2.1\",\n",
      "    \"minimum_wire_compatibility_version\" : \"5.6.0\",\n",
      "    \"minimum_index_compatibility_version\" : \"5.0.0\"\n",
      "  },\n",
      "  \"tagline\" : \"You Know, for Search\"\n",
      "}\n",
      "\n"
     ]
    }
   ],
   "source": [
    "# make sure ES is up and running\n",
    "res = requests.get('http://localhost:9200')\n",
    "print((res.content).decode('UTF-8'))  # .decode('UTF-8') is to decode a bytes object into a str"
   ]
  },
  {
   "cell_type": "code",
   "execution_count": 5,
   "metadata": {},
   "outputs": [],
   "source": [
    "#connect to our cluster\n",
    "es = Elasticsearch([{'host': 'localhost', 'port': 9200}])"
   ]
  },
  {
   "cell_type": "code",
   "execution_count": 6,
   "metadata": {},
   "outputs": [
    {
     "name": "stdout",
     "output_type": "stream",
     "text": [
      "('Millions of gallons of crude oil that spilled when a tanker ran aground '\n",
      " \"spread across a wildlife-rich stretch of ocean Saturday, and Alaska's chief \"\n",
      " 'environmental officer criticized cleanup efforts as too slow. The biggest '\n",
      " 'oil spill in U.S. history created a slick about seven miles long and seven '\n",
      " 'miles wide in Prince William Sound. The Coast Guard said only Reef Island '\n",
      " 'and the western edge of Bligh Island had been touched by the slick. ``This '\n",
      " \"situation, I think, was everyone's secret nightmare about what could happen \"\n",
      " \"with oil traffic in the sound,'' said Dennis Kelso, commissioner of the \"\n",
      " 'Alaska Department of Environmental Conservation. Some 240,000 barrels _ '\n",
      " \"about 10,080,000 gallons _ of crude oil from Alaska's North Slope spilled \"\n",
      " 'early Friday when the 987-foot tanker Exxon Valdez ran hard aground on Bligh '\n",
      " 'Reef, about 25 miles outside Valdez, where it had taken on a total cargo of '\n",
      " '1.2 million barrels. Initial reports indicated 270,000 barrels had spilled. '\n",
      " \"``What we have here is a major environmental catastrophe,'' said one oil \"\n",
      " 'spill expert, Richard Golob of Boston, publisher of Golob Oil Pollution '\n",
      " 'Bulletin. Golob said cleanup equipment at the site was ``grossly '\n",
      " \"inadequate'' but added that even under ideal circumstances cleanup efforts \"\n",
      " \"would not have significantly reduced the spill's impact. ``It is an enclosed \"\n",
      " \"body of water,'' he said. ``The only way for this oil to ecape out to the \"\n",
      " 'sea is by traversing the entire length of Prince William Sound with all its '\n",
      " 'islands, fjords and bays and channels. ``And during that transit, '\n",
      " \"undoubtedly a large stretch of shoreline will be contaminated,'' he said. \"\n",
      " \"Divers Saturday said they had found six to eight holes in the vessel's hull \"\n",
      " 'large enough to swim through, said Frank Iarossi, president of Exxon '\n",
      " 'Shipping Co. About 30 feet of the vessel is resting on a shelf on the reef. '\n",
      " 'Efforts to begin pumping 200,000 gallons of oil off the Exxon Valdez onto '\n",
      " 'another tanker, the Exxon Baton Rouge, were halted early Saturday when '\n",
      " 'authorities noticed that oil appeared to leaking as the pumping operation '\n",
      " \"proceeded. Eleven of 17 tanks that lie forward of the ship's masthead were \"\n",
      " 'ruptured in the accident, causing concern over removal of the oil, said '\n",
      " 'Coast Guard Lt. Ed Wieliczkiewicz. ``Whenever you start removing oil from a '\n",
      " \"vessel this size it has to be done in a controlled manner,'' Wieliczkiewicz \"\n",
      " \"said. ``If it's not ... you endanger the stability of the vessel.'' \"\n",
      " 'Wieliczkiewicz said a boom was placed around the Exxon Valdez and the Exxon '\n",
      " 'Baton Rouge to help contain oil around the vessels. He also said four '\n",
      " \"members of the Coast Guard's Pacific Strike Team from San Francisco, \"\n",
      " 'specially trained to deal with pollution and oil spills, arrived Saturday '\n",
      " 'and were helping to rig pumps and assemble equipment needed to transfer oil '\n",
      " 'to the Baton Rouge. Kelso was highly critical of what he said was a slow '\n",
      " 'response to the spill. ``The initial reponse was inadequate and '\n",
      " \"unacceptable,'' he said before a news conference Saturday. Kelso said the \"\n",
      " 'efforts should have been under way in five hours, but took much longer. '\n",
      " \"``You miss the opportunity right at the beginning and you've missed our best \"\n",
      " \"opportunity to do something.'' Kelso said Alaska has a plan for oil spills \"\n",
      " 'that calls for action within five hours of a spill. It took several hours '\n",
      " 'longer, he said, and only two of seven skimmers available to the Alyeska '\n",
      " 'Pipeline Service Co. were used at the outset. Alyeska spokesman Chuck '\n",
      " \"O'Donnel said he was satisfied with his company's actions. ``I think our \"\n",
      " \"people did an excellent job,'' he said. The spill's effect on wildlife had \"\n",
      " 'not yet been assessed, but commercial fishermen who depend on the sound for '\n",
      " 'a catch worth millions of dollars were outraged and said a key herring '\n",
      " 'spawning area had been polluted. ``The whole food chain could be affected by '\n",
      " \"the spill,'' said Alan Reichman, ocean ecology coordinator for the \"\n",
      " \"environmental group Greenpeace, in Seattle. ``There's a high concentration \"\n",
      " \"of sea otter, waterfowl, sea birds and pink salmon in that area,'' said \"\n",
      " 'Steve Goldstein, a spokesman for the Interior Department in Washington. '\n",
      " '``Some birds have already died, and we are doing our best to try to save the '\n",
      " 'fish by containing the oil to the area where it presently is and by trying '\n",
      " \"to skim it.'' Whales, porpoises and seals are also common in Prince William \"\n",
      " \"Sound. ``It's kind of like sailing through a zoo,'' said Jim Lethcoe, who \"\n",
      " 'lives on a boat in the sound and operates a sailing business. An animal '\n",
      " 'cleanup station was set up in a building at the community college in Valdez, '\n",
      " 'but volunteers there said they had no animals to work on by midafternoon. '\n",
      " 'The response to the spill also drew fire from the 12,000-member United '\n",
      " 'Fishermen of Alaska. ``We feel that this should have been the easiest oil '\n",
      " \"spill in the world to clean up,'' said Riki Ott, chairman of the \"\n",
      " \"organization's habitat committee. She noted that the spill had occurred in a \"\n",
      " 'protected area close to the Valdez marine terminal and the water was calm. '\n",
      " \"Ott said the spill had polluted Prince William Sound's primary herring \"\n",
      " 'spawning area. Fishermen also take salmon and shellfish from the sound. Last '\n",
      " 'year, they were paid about $85 million for their catches, she said. The Port '\n",
      " 'of Valdez remained closed to tanker traffic. North Slope crude oil is '\n",
      " 'shipped 800 miles through the trans-Alaska oil pipeline from Prudhoe Bay '\n",
      " 'south to Valdez for shipment aboard tankers to refineries outside Alaska. '\n",
      " 'The Coast Guard said the Exxon Valdez struck the reef when it maneuvered '\n",
      " \"outside normal tanker traffic lanes to avoid icebergs. The vessel's captain, \"\n",
      " \"Joseph Hazelwood, has worked for Exxon for 20 years, at least 10 as a ship's \"\n",
      " 'master. It was unclear if a pilot was aboard the Exxon Valdez when it '\n",
      " 'grounded. There was no decision Saturday on whether to use chemicals to '\n",
      " 'disperse the oil, but a test of the dispersal method was being conducted '\n",
      " 'Saturday afternoon, as was a test to determine whether at least some of the '\n",
      " 'crude oil could be burned. Coast Guard Cmdr. Steven McCall said National '\n",
      " 'Transportation Safety Board investigators are expected to arrive Sunday to '\n",
      " 'take over the accident probe. He said one or more blood-alcohol tests were '\n",
      " \"administered after the grounding, but he said he didn't know know how many \"\n",
      " 'people were tested or the results. McCall said the tests routinely are '\n",
      " 'administered in marine accidents involving federal jurisdiction. The Coast '\n",
      " \"Guard issued a statement late Saturday that McCall has subpoenaed the ship's \"\n",
      " 'master and two crew members. The subpoenas require them to make themselves '\n",
      " 'available to NTSB investigators arriving Sunday. The Coast Guard said the '\n",
      " 'supoenas were routine. Previously, the largest U.S. tanker spill was the '\n",
      " 'Dec. 15, 1976, grounding of the Argo Merchant tanker off the Nantucket '\n",
      " 'shoals off Massachusetts, in which 7.6 million gallons of oil spilled, Golob '\n",
      " 'said. Up to 10.7 million gallons of oil was lost on Nov. 1, 1979, when the '\n",
      " 'tanker Burmah Agate collided with another ship in Galveston Bay, Texas. '\n",
      " 'However, that oil burned as well as spilled. The largest tanker spill in '\n",
      " 'history resulted from the July 19, 1979, collision off Tobago of the '\n",
      " 'supertankers Atlantic Empress and Aegean Captain, in which 300,000 tons _ '\n",
      " 'more than 80 million gallons _ of oil was lost.')\n",
      "('From: Mamatha Devineni Ratnam <mr47+@andrew.cmu.edu>\\n'\n",
      " 'Subject: Pens fans reactions\\n'\n",
      " 'Organization: Post Office, Carnegie Mellon, Pittsburgh, PA\\n'\n",
      " 'Lines: 12\\n'\n",
      " 'NNTP-Posting-Host: po4.andrew.cmu.edu\\n'\n",
      " '\\n'\n",
      " '\\n'\n",
      " '\\n'\n",
      " 'I am sure some bashers of Pens fans are pretty confused about the lack\\n'\n",
      " 'of any kind of posts about the recent Pens massacre of the Devils. '\n",
      " 'Actually,\\n'\n",
      " 'I am  bit puzzled too and a bit relieved. However, I am going to put an end\\n'\n",
      " \"to non-PIttsburghers' relief with a bit of praise for the Pens. Man, they\\n\"\n",
      " 'are killing those Devils worse than I thought. Jagr just showed you why\\n'\n",
      " 'he is much better than his regular season stats. He is also a lot\\n'\n",
      " 'fo fun to watch in the playoffs. Bowman should let JAgr have a lot of\\n'\n",
      " 'fun in the next couple of games since the Pens are going to beat the pulp '\n",
      " 'out of Jersey anyway. I was very disappointed not to see the Islanders lose '\n",
      " 'the final\\n'\n",
      " 'regular season game.          PENS RULE!!!\\n'\n",
      " '\\n')\n"
     ]
    }
   ],
   "source": [
    "train_directory = abspath('datasets', 'DUC2001')\n",
    "train_file_locations = [train_directory + '\\\\' + f for f in listdir(train_directory) if isfile(join(train_directory, f)) and f not in ['annotations.txt', 'notes.txt']]\n",
    "\n",
    "duc_text = []\n",
    "for i in range(len(train_file_locations)):\n",
    "    duc_text.append(es.get(index='duc2001', id=i, doc_type='summaries')['_source']['doc_content'])\n",
    "pprint(duc_text[0])\n",
    "\n",
    "ng_text = []\n",
    "for i in range(len(fetch_20newsgroups(subset='all').data)):\n",
    "    ng_text.append(es.get(index='20ng', id=i, doc_type='articles')['_source']['doc_content'])\n",
    "pprint(ng_text[0])"
   ]
  },
  {
   "cell_type": "code",
   "execution_count": null,
   "metadata": {},
   "outputs": [],
   "source": [
    "# Cleaning and preprocessing\n",
    "for i in range(len(duc_text)):\n",
    "    duc_text[i] = sent_tokenize(' '.join(duc_text[i].lower().replace('\\n', ' ').replace('\\t', ' ').split()))\n",
    "\n",
    "for i in range(len(ng_text)):\n",
    "    ng_text[i] = sent_tokenize(' '.join(ng_text[i].lower().replace('\\n', ' ').replace('\\t', ' ').split()))"
   ]
  },
  {
   "cell_type": "code",
   "execution_count": null,
   "metadata": {},
   "outputs": [],
   "source": [
    "def kl_divergence(a, b):\n",
    "    a = sum(a, Counter())\n",
    "    b = sum(b, Counter())\n",
    "    kl_divergence = 0\n",
    "    for key, value in a.items():\n",
    "        if key in b:\n",
    "            kl_divergence += (value * log(value / b[key]))\n",
    "    return kl_divergence"
   ]
  },
  {
   "cell_type": "code",
   "execution_count": null,
   "metadata": {},
   "outputs": [],
   "source": [
    "def kl_summary(original_sentences, summary_length):\n",
    "    summary = []\n",
    "    indices = []\n",
    "    sentences = []\n",
    "    \n",
    "    summary_length = len(original_sentences) if summary_length > len(original_sentences) else summary_length\n",
    "    \n",
    "    for i in range(len(original_sentences)):\n",
    "        sentences.append(Counter(original_sentences[i].split()))\n",
    "        \n",
    "    for i in range(summary_length):\n",
    "        ans = {}\n",
    "        summary_counter = Counter()\n",
    "        for j in range(len(sentences)):\n",
    "            if j not in indices:\n",
    "                if len(summary) == 0:\n",
    "                    ans[j] = [indices + [j], kl_divergence(sentences, [sentences[j]])]\n",
    "            \n",
    "                else:\n",
    "                    summary_counter = Counter(' '.join(summary).split())\n",
    "                    ans[j] = [indices + [j], kl_divergence(sentences, [summary_counter + sentences[j]])]\n",
    "            \n",
    "        for key, value in ans.items():\n",
    "            min_kl = 9999\n",
    "            indices = []\n",
    "            for value in list(ans.values()):\n",
    "                if value[1] < min_kl:\n",
    "                    min_kl = value[1]\n",
    "                    indices = value[0]\n",
    "                    \n",
    "        indices.sort()\n",
    "        summary = ' '.join([original_sentences[i] for i in indices])\n",
    "    return summary"
   ]
  },
  {
   "cell_type": "code",
   "execution_count": 2,
   "metadata": {},
   "outputs": [
    {
     "ename": "NameError",
     "evalue": "name 'duc_text' is not defined",
     "output_type": "error",
     "traceback": [
      "\u001b[1;31m---------------------------------------------------------------------------\u001b[0m",
      "\u001b[1;31mNameError\u001b[0m                                 Traceback (most recent call last)",
      "\u001b[1;32m<ipython-input-2-7e0e3c4b18e1>\u001b[0m in \u001b[0;36m<module>\u001b[1;34m()\u001b[0m\n\u001b[0;32m      1\u001b[0m \u001b[0mduc_kl_summary\u001b[0m \u001b[1;33m=\u001b[0m \u001b[1;33m[\u001b[0m\u001b[1;33m]\u001b[0m\u001b[1;33m\u001b[0m\u001b[0m\n\u001b[0;32m      2\u001b[0m \u001b[0mtotal_time\u001b[0m \u001b[1;33m=\u001b[0m \u001b[1;36m0\u001b[0m\u001b[1;33m\u001b[0m\u001b[0m\n\u001b[1;32m----> 3\u001b[1;33m \u001b[1;32mfor\u001b[0m \u001b[0mi\u001b[0m \u001b[1;32min\u001b[0m \u001b[0mrange\u001b[0m\u001b[1;33m(\u001b[0m\u001b[0mlen\u001b[0m\u001b[1;33m(\u001b[0m\u001b[0mduc_text\u001b[0m\u001b[1;33m)\u001b[0m\u001b[1;33m)\u001b[0m\u001b[1;33m:\u001b[0m\u001b[1;33m\u001b[0m\u001b[0m\n\u001b[0m\u001b[0;32m      4\u001b[0m     \u001b[0mstart_time\u001b[0m \u001b[1;33m=\u001b[0m \u001b[0mtime\u001b[0m\u001b[1;33m.\u001b[0m\u001b[0mtime\u001b[0m\u001b[1;33m(\u001b[0m\u001b[1;33m)\u001b[0m\u001b[1;33m\u001b[0m\u001b[0m\n\u001b[0;32m      5\u001b[0m     \u001b[0mduc_kl_summary\u001b[0m\u001b[1;33m.\u001b[0m\u001b[0mappend\u001b[0m\u001b[1;33m(\u001b[0m\u001b[0mkl_summary\u001b[0m\u001b[1;33m(\u001b[0m\u001b[0mduc_text\u001b[0m\u001b[1;33m[\u001b[0m\u001b[0mi\u001b[0m\u001b[1;33m]\u001b[0m\u001b[1;33m,\u001b[0m \u001b[1;36m5\u001b[0m\u001b[1;33m)\u001b[0m\u001b[1;33m)\u001b[0m\u001b[1;33m\u001b[0m\u001b[0m\n",
      "\u001b[1;31mNameError\u001b[0m: name 'duc_text' is not defined"
     ]
    }
   ],
   "source": [
    "duc_kl_summary = []\n",
    "total_time = 0\n",
    "for i in range(len(duc_text)):\n",
    "    start_time = time.time()\n",
    "    duc_kl_summary.append(kl_summary(duc_text[i], 5))\n",
    "    end_time = time.time()\n",
    "    total_time += end_time - start_time\n",
    "    print(i, round((end_time - start_time), 4), len(duc_text[i]))\n",
    "    if i % 100 == 0:\n",
    "        print('-------')\n",
    "        print(total_time)\n",
    "        print('-------')\n",
    "        total_time = 0\n",
    "print('-------')\n",
    "print(total_time)\n",
    "print('-------')"
   ]
  },
  {
   "cell_type": "code",
   "execution_count": null,
   "metadata": {},
   "outputs": [],
   "source": [
    "for i in range(len(duc_text)):\n",
    "    es.update(index='duc2001', id=i, doc_type='summaries', body={'doc': {'KL_summary': duc_kl_summary[i]}})"
   ]
  },
  {
   "cell_type": "code",
   "execution_count": null,
   "metadata": {},
   "outputs": [],
   "source": [
    "ng_kl_summary = []\n",
    "for i in range(len(ng_text)):\n",
    "    print(i)\n",
    "    ng_kl_summary.append(kl_summary(ng_text[i], 5))"
   ]
  },
  {
   "cell_type": "code",
   "execution_count": null,
   "metadata": {},
   "outputs": [],
   "source": [
    "for i in range(len(ng_text)):\n",
    "    es.update(index='20ng', id=i, doc_type='articles', body={'doc': {'KL_summary': ng_kl_summary[i]}})"
   ]
  },
  {
   "cell_type": "code",
   "execution_count": null,
   "metadata": {},
   "outputs": [],
   "source": []
  },
  {
   "cell_type": "code",
   "execution_count": null,
   "metadata": {},
   "outputs": [],
   "source": []
  },
  {
   "cell_type": "code",
   "execution_count": null,
   "metadata": {},
   "outputs": [],
   "source": []
  },
  {
   "cell_type": "code",
   "execution_count": null,
   "metadata": {},
   "outputs": [],
   "source": []
  },
  {
   "cell_type": "code",
   "execution_count": null,
   "metadata": {},
   "outputs": [],
   "source": []
  },
  {
   "cell_type": "code",
   "execution_count": null,
   "metadata": {},
   "outputs": [],
   "source": []
  },
  {
   "cell_type": "code",
   "execution_count": null,
   "metadata": {},
   "outputs": [],
   "source": []
  }
 ],
 "metadata": {
  "kernelspec": {
   "display_name": "Python 3",
   "language": "python",
   "name": "python3"
  },
  "language_info": {
   "codemirror_mode": {
    "name": "ipython",
    "version": 3
   },
   "file_extension": ".py",
   "mimetype": "text/x-python",
   "name": "python",
   "nbconvert_exporter": "python",
   "pygments_lexer": "ipython3",
   "version": "3.6.4"
  }
 },
 "nbformat": 4,
 "nbformat_minor": 2
}
