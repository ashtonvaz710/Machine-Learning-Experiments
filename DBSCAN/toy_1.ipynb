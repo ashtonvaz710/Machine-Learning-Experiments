{
 "cells": [
  {
   "cell_type": "code",
   "execution_count": 1,
   "metadata": {},
   "outputs": [],
   "source": [
    "import matplotlib.pyplot as plt\n",
    "import matplotlib.pylab as plt\n",
    "from collections import Counter\n",
    "import numpy as np\n",
    "import pandas as pd\n",
    "import os"
   ]
  },
  {
   "cell_type": "code",
   "execution_count": 2,
   "metadata": {},
   "outputs": [],
   "source": [
    "# creates absolute path\n",
    "def abspath(path, *paths):\n",
    "    fpath = os.path.join(os.getcwd(), os.pardir, path)\n",
    "\n",
    "    for p in paths:\n",
    "        fpath = os.path.join(fpath, p)\n",
    "    return fpath"
   ]
  },
  {
   "cell_type": "code",
   "execution_count": 3,
   "metadata": {},
   "outputs": [],
   "source": [
    "def dbscan(data, clusters, e=7.5, min_pts=3):\n",
    "    c = 0   # Cluster label\n",
    "    for i in range(data.shape[0]):\n",
    "\n",
    "        # Skip if already assigned a cluster\n",
    "        if not pd.isnull(clusters[i]):\n",
    "            continue\n",
    "\n",
    "        # Density check - label Noise if no. of neighbors less than min_pts\n",
    "        if data[i][3] < min_pts:\n",
    "            clusters[i] = 'Noise'\n",
    "            continue\n",
    "\n",
    "        # Next cluster label\n",
    "        c = c + 1\n",
    "\n",
    "        # Add point to the new cluster\n",
    "        clusters[i] = c\n",
    "\n",
    "        # Process every point in neighborhood except the point itself\n",
    "        for j in data[i][4]:\n",
    "            j = int(j)\n",
    "            if j != i:\n",
    "\n",
    "                # Change noise point to border point \n",
    "                if clusters[j] == 'Noise':\n",
    "                    clusters[j] = c\n",
    "\n",
    "                # Skip if already assigned a cluster\n",
    "                if not pd.isnull([clusters[j]]):\n",
    "                    continue\n",
    "\n",
    "                # Add neighbor to the current cluster\n",
    "                clusters[j] = c\n",
    "\n",
    "                # Density check - add new neighbors to seed set if no. of neighbors greater than min_pts\n",
    "                if data[j][3] >= min_pts:\n",
    "                    for k in data[j][4]:\n",
    "                        if int(k) != i:\n",
    "                            data[i][3] += 1\n",
    "                            data[i][4].append(k)\n",
    "                            \n",
    "    plot_results(clusters, data)"
   ]
  },
  {
   "cell_type": "code",
   "execution_count": 4,
   "metadata": {},
   "outputs": [],
   "source": [
    "def plot_results(clusters, data):\n",
    "\n",
    "    # Convert list of clusters to dict of clusters\n",
    "    clusters_dict = {}\n",
    "    for i in range(len(clusters)):\n",
    "        clusters_dict.setdefault(clusters[i], []).append(i)\n",
    "    \n",
    "    # Plot results\n",
    "    a_list = [] # Cluster 1\n",
    "    b_list = [] # Cluster 2\n",
    "    c_list = [] # Cluster 3\n",
    "    d_list = [] # Cluster Noise\n",
    "    \n",
    "    for key,value in clusters_dict.items():\n",
    "        for v in value:\n",
    "            if key == 1:\n",
    "                a_list.append(data[:, [1,2]][v])\n",
    "            if key == 2:\n",
    "                b_list.append(data[:, [1,2]][v])\n",
    "            if key == 3:\n",
    "                c_list.append(data[:, [1,2]][v])\n",
    "            if key == 'Noise':\n",
    "                d_list.append(data[:, [1,2]][v])\n",
    "\n",
    "    x1, y1 = zip(*a_list) # unpack a list of pairs into two tuples\n",
    "    x2, y2 = zip(*b_list)\n",
    "    x3, y3 = zip(*c_list)\n",
    "    x4, y4 = zip(*d_list)\n",
    "    \n",
    "    plt.plot(x1, y1, 'ro')\n",
    "    plt.plot(x2, y2, 'bo')\n",
    "    plt.plot(x3, y3, 'go')\n",
    "    plt.plot(x4, y4, 'yo')\n",
    "    plt.show()"
   ]
  },
  {
   "cell_type": "code",
   "execution_count": 5,
   "metadata": {},
   "outputs": [
    {
     "name": "stdout",
     "output_type": "stream",
     "text": [
      "(80, 6)\n"
     ]
    },
    {
     "data": {
      "image/png": "[encoded data removed]",
      "text/plain": [
       "<matplotlib.figure.Figure at 0x19460c681d0>"
      ]
     },
     "metadata": {},
     "output_type": "display_data"
    }
   ],
   "source": [
    "dataset_path = abspath('datasets', 'dbscan.csv')\n",
    "dbscan_dataset = pd.read_csv(dataset_path, sep=',', header=0)\n",
    "dbscan_dataset = dbscan_dataset.values\n",
    "\n",
    "# Change type of list of neighbors from string to list of strings\n",
    "for db in dbscan_dataset:\n",
    "    db[5] = db[5].split(',')\n",
    "\n",
    "print(dbscan_dataset.shape)\n",
    "\n",
    "clusters = dbscan_dataset[:, 0]\n",
    "data = dbscan_dataset[:, range(1, dbscan_dataset.shape[1])]\n",
    "\n",
    "x1, y1 = zip(*data[:, [1,2]]) # unpack a list of pairs into two tuples\n",
    "plt.plot(x1, y1, 'yo')\n",
    "plt.show()"
   ]
  },
  {
   "cell_type": "code",
   "execution_count": 6,
   "metadata": {},
   "outputs": [
    {
     "data": {
      "image/png": "[encoded data removed]",
      "text/plain": [
       "<matplotlib.figure.Figure at 0x19460b77a20>"
      ]
     },
     "metadata": {},
     "output_type": "display_data"
    }
   ],
   "source": [
    "dbscan(data, clusters)"
   ]
  },
  {
   "cell_type": "code",
   "execution_count": null,
   "metadata": {},
   "outputs": [],
   "source": []
  }
 ],
 "metadata": {
  "kernelspec": {
   "display_name": "Python 3",
   "language": "python",
   "name": "python3"
  },
  "language_info": {
   "codemirror_mode": {
    "name": "ipython",
    "version": 3
   },
   "file_extension": ".py",
   "mimetype": "text/x-python",
   "name": "python",
   "nbconvert_exporter": "python",
   "pygments_lexer": "ipython3",
   "version": "3.6.4"
  }
 },
 "nbformat": 4,
 "nbformat_minor": 2
}
