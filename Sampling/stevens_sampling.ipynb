{
 "cells": [
  {
   "cell_type": "code",
   "execution_count": 1,
   "metadata": {},
   "outputs": [],
   "source": [
    "from scipy.stats import multivariate_normal\n",
    "from pprint import pprint\n",
    "import numpy as np\n",
    "import matplotlib.pyplot as plt\n",
    "from collections import Counter"
   ]
  },
  {
   "cell_type": "code",
   "execution_count": 2,
   "metadata": {},
   "outputs": [
    {
     "data": {
      "image/png": "[encoded data removed]",
      "text/plain": [
       "<matplotlib.figure.Figure at 0x1d3e8ddcba8>"
      ]
     },
     "metadata": {},
     "output_type": "display_data"
    }
   ],
   "source": [
    "# Generate non-uniform distribution\n",
    "mu = 0.5\n",
    "cov = 0.1\n",
    "M = 3000   # no. of samples\n",
    "N = 200    # sample size (size of each bin)\n",
    "distribution = np.random.normal(loc=mu, scale=cov, size=M)\n",
    "plt.bar([i for i in range(M)], distribution)\n",
    "plt.show()"
   ]
  },
  {
   "cell_type": "code",
   "execution_count": 3,
   "metadata": {},
   "outputs": [
    {
     "data": {
      "image/png": "[encoded data removed]",
      "text/plain": [
       "<matplotlib.figure.Figure at 0x1d3e034fda0>"
      ]
     },
     "metadata": {},
     "output_type": "display_data"
    }
   ],
   "source": [
    "# Sort the distribution in reverse order of probabilities\n",
    "distribution = distribution / sum(distribution)     # Normalize the distribution (sum of probabilities add to 1)\n",
    "sorted_distribution_indices = np.argsort(distribution)[::-1]\n",
    "sorted_distribution = np.sort(distribution)[::-1]   # Sort distribution in reverse order\n",
    "plt.bar([i for i in range(M)], sorted_distribution)\n",
    "plt.show()"
   ]
  },
  {
   "cell_type": "code",
   "execution_count": 4,
   "metadata": {},
   "outputs": [
    {
     "data": {
      "image/png": "[encoded data removed]",
      "text/plain": [
       "<matplotlib.figure.Figure at 0x1d3edca15f8>"
      ]
     },
     "metadata": {},
     "output_type": "display_data"
    }
   ],
   "source": [
    "# Divide the data into bins\n",
    "bins = {}\n",
    "bins_indices = {}\n",
    "for i in range(0, M, N):\n",
    "    bins[int(i/N)] = sorted_distribution[i:i+N]\n",
    "    bins_indices[int(i/N)] = sorted_distribution_indices[i:i+N]\n",
    "\n",
    "# Calculate the mean probability of each bin\n",
    "bins_prob = {}\n",
    "for key, value in bins.items():\n",
    "    bins_prob[key] = sum(value) / len(value)\n",
    "\n",
    "# Plot its distribution\n",
    "bins_distribution = np.zeros((M))\n",
    "k = 0\n",
    "for i in range(len(bins_prob)):\n",
    "    for j in range(N):\n",
    "        bins_distribution[k] = bins_prob[i]\n",
    "        k+=1\n",
    "        \n",
    "plt.bar([i for i in range(M)], bins_distribution)        \n",
    "plt.show()"
   ]
  },
  {
   "cell_type": "code",
   "execution_count": 5,
   "metadata": {},
   "outputs": [
    {
     "name": "stdout",
     "output_type": "stream",
     "text": [
      "Counter({0: 25, 5: 18, 1: 18, 9: 17, 8: 15, 4: 13, 6: 13, 3: 13, 11: 13, 10: 12, 7: 10, 13: 10, 2: 10, 12: 7, 14: 6})\n"
     ]
    }
   ],
   "source": [
    "# Get the probability distribution of the mean probabilities for every bin (by normalizing)\n",
    "p = []\n",
    "for prob in list(bins_prob.values()):\n",
    "    p.append(prob/sum(bins_prob.values()))\n",
    "    \n",
    "# Select bins randomly with replacement\n",
    "selected_bins = []\n",
    "for i in range(N):\n",
    "    selected_bins.append(np.random.choice(list(bins_prob.keys()), p=p, replace=True))\n",
    "selected_bins = Counter(selected_bins)\n",
    "print(selected_bins)"
   ]
  },
  {
   "cell_type": "code",
   "execution_count": 6,
   "metadata": {},
   "outputs": [
    {
     "name": "stdout",
     "output_type": "stream",
     "text": [
      "[2658, 685, 1801, 64, 209, 2629, 2337, 1854, 1709, 2986, 245, 936, 233, 2943, 177, 59, 296, 924, 2055, 446, 1492, 2074, 2998, 1646, 2588, 1935, 1952, 1867, 1960, 1817, 2713, 2637, 2739, 1221, 2119, 600, 2156, 182, 2072, 339, 534, 1326, 2911, 1772, 2227, 165, 2013, 1064, 311, 1253, 2836, 1114, 2667, 2301, 925, 2213, 2655, 236, 2936, 65, 351, 2622, 100, 1830, 1281, 2610, 2557, 1787, 584, 2146, 1905, 1626, 2842, 2814, 1858, 33, 1818, 832, 357, 2035, 1572, 2668, 560, 1365, 2245, 2158, 2111, 1972, 275, 166, 1767, 77, 1617, 662, 2671, 1153, 2016, 358, 61, 707, 1750, 1896, 2010, 2902, 278, 2071, 1457, 2118, 897, 336, 2528, 1554, 1847, 2834, 795, 1506, 2688, 2217, 2664, 1797, 2356, 2538, 1265, 626, 1983, 1441, 1118, 2653, 2853, 1454, 1878, 2456, 1994, 2703, 34, 1155, 1979, 903, 1521, 2176, 1012, 1211, 2323, 2675, 1322, 909, 2205, 1346, 2365, 1011, 99, 2117, 764, 2030, 23, 2993, 2496, 29, 112, 194, 2587, 1323, 465, 997, 142, 1745, 1799, 2288, 1007, 516, 2448, 1106, 2412, 2962, 2518, 946, 2406, 2975, 1571, 2093, 1488, 270, 1314, 2534, 2384, 1459, 718, 1437, 2125, 2705, 1307, 619, 1641, 2541, 1499, 870, 1643, 967, 1465, 217]\n"
     ]
    }
   ],
   "source": [
    "# Select indices from every bin corresponding to selected_bins\n",
    "selected_indices = []\n",
    "for key, value in selected_bins.items():\n",
    "    selected_indices.append(np.random.choice(list(bins_indices[key]), size=value, replace=False))\n",
    "selected_indices = [item for sublist in selected_indices for item in sublist]\n",
    "print(selected_indices)"
   ]
  },
  {
   "cell_type": "code",
   "execution_count": 7,
   "metadata": {},
   "outputs": [],
   "source": [
    "selected_indices_prob = []\n",
    "selected_indices_bin_prob = []\n",
    "for i in range(M):\n",
    "    if sorted_distribution_indices[i] in selected_indices:\n",
    "        selected_indices_prob.append(sorted_distribution[i])\n",
    "    else:\n",
    "        selected_indices_prob.append(0.0)\n",
    "    if sorted_distribution_indices[i] in selected_indices:\n",
    "        for key, value in bins_indices.items():\n",
    "            if sorted_distribution_indices[i] in value.tolist():\n",
    "                selected_indices_bin_prob.append(bins_prob[key])\n",
    "    else:\n",
    "        selected_indices_bin_prob.append(0.0)"
   ]
  },
  {
   "cell_type": "code",
   "execution_count": 8,
   "metadata": {},
   "outputs": [
    {
     "data": {
      "image/png": "[encoded data removed]",
      "text/plain": [
       "<matplotlib.figure.Figure at 0x1d3ec4afa90>"
      ]
     },
     "metadata": {},
     "output_type": "display_data"
    }
   ],
   "source": [
    "plt.bar([i for i in range(M)], bins_distribution)\n",
    "plt.bar([i for i in range(M)], selected_indices_bin_prob)\n",
    "plt.show()"
   ]
  },
  {
   "cell_type": "code",
   "execution_count": 9,
   "metadata": {},
   "outputs": [
    {
     "data": {
      "image/png": "[encoded data removed]",
      "text/plain": [
       "<matplotlib.figure.Figure at 0x1d3ec0bad68>"
      ]
     },
     "metadata": {},
     "output_type": "display_data"
    }
   ],
   "source": [
    "plt.bar([i for i in range(M)], sorted_distribution)\n",
    "plt.bar([i for i in range(M)], selected_indices_prob)\n",
    "plt.show()"
   ]
  },
  {
   "cell_type": "code",
   "execution_count": 10,
   "metadata": {},
   "outputs": [
    {
     "data": {
      "image/png": "[encoded data removed]",
      "text/plain": [
       "<matplotlib.figure.Figure at 0x1d3ec04a198>"
      ]
     },
     "metadata": {},
     "output_type": "display_data"
    }
   ],
   "source": [
    "plt.bar([i for i in range(M)], selected_indices_bin_prob)\n",
    "plt.show()"
   ]
  },
  {
   "cell_type": "code",
   "execution_count": 11,
   "metadata": {},
   "outputs": [
    {
     "data": {
      "image/png": "[encoded data removed]",
      "text/plain": [
       "<matplotlib.figure.Figure at 0x1d3ef668a20>"
      ]
     },
     "metadata": {},
     "output_type": "display_data"
    }
   ],
   "source": [
    "plt.bar([i for i in range(M)], selected_indices_prob)\n",
    "plt.show()"
   ]
  },
  {
   "cell_type": "code",
   "execution_count": null,
   "metadata": {},
   "outputs": [],
   "source": []
  }
 ],
 "metadata": {
  "kernelspec": {
   "display_name": "Python 3",
   "language": "python",
   "name": "python3"
  },
  "language_info": {
   "codemirror_mode": {
    "name": "ipython",
    "version": 3
   },
   "file_extension": ".py",
   "mimetype": "text/x-python",
   "name": "python",
   "nbconvert_exporter": "python",
   "pygments_lexer": "ipython3",
   "version": "3.6.4"
  }
 },
 "nbformat": 4,
 "nbformat_minor": 2
}
