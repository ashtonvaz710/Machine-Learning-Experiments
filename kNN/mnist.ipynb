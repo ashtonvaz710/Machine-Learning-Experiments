{
 "cells": [
  {
   "cell_type": "code",
   "execution_count": 1,
   "metadata": {},
   "outputs": [],
   "source": [
    "from sklearn.datasets import fetch_mldata\n",
    "from sklearn.model_selection import train_test_split\n",
    "from sklearn.metrics.pairwise import euclidean_distances, cosine_distances\n",
    "from sklearn.metrics import accuracy_score\n",
    "import matplotlib.pyplot as plt\n",
    "import numpy as np"
   ]
  },
  {
   "cell_type": "code",
   "execution_count": 2,
   "metadata": {},
   "outputs": [],
   "source": [
    "# distance matrix is test x train \n",
    "def knn(k, distance_matrix, train_labels, test_labels):\n",
    "\n",
    "    predicted_labels = []       # List of predicted labels for test set \n",
    "    for i in range(distance_matrix.shape[0]):\n",
    "          \n",
    "        # Store indices of sorted neighbors\n",
    "        neighbors = np.argsort(distance_matrix[i])\n",
    "            \n",
    "        # Store labels of k nearest neighbors\n",
    "        k_nearest_labels = []   \n",
    "        for j in range(k):\n",
    "            k_nearest_labels.append(train_labels[neighbors[j]])\n",
    "\n",
    "        # Store value of the max no. of k_nearest_labels\n",
    "        predicted_labels.append(max(k_nearest_labels, key=k_nearest_labels.count))\n",
    "\n",
    "    # Print accuracy\n",
    "    if type(test_labels).__name__ == 'ndarray':\n",
    "        print('k=%d:' % (k), str(round(accuracy_score(test_labels, np.asarray(predicted_labels)) * 100, 2)), '%')\n",
    "    else:\n",
    "        try:\n",
    "            print('k=%d:' % (k), str(round(accuracy_score(test_labels, predicted_labels) * 100, 2)), '%')\n",
    "        except:\n",
    "            print('ndarray and list are the only accepted types for test_labels')"
   ]
  },
  {
   "cell_type": "code",
   "execution_count": 3,
   "metadata": {},
   "outputs": [],
   "source": [
    "# distance matrix is test x train \n",
    "def find_k_nearest_neighbors(idx, k, distance_matrix, train_labels, test_labels):\n",
    "\n",
    "    # Store indices of sorted neighbors\n",
    "    neighbors = np.argsort(distance_matrix[idx])\n",
    "\n",
    "    # Store labels of k nearest neighbors\n",
    "    k_nearest_labels = []   \n",
    "    for j in range(k):\n",
    "        k_nearest_labels.append(train_labels[neighbors[j]])\n",
    "\n",
    "    # Store value of the max no. of k_nearest_labels\n",
    "    predicted_label = max(k_nearest_labels, key=k_nearest_labels.count)\n",
    "\n",
    "    print('\\nLabels of neighbors')\n",
    "    print(k_nearest_labels)\n",
    "    print('Predicted Label')\n",
    "    print(predicted_label)\n",
    "    print('Correct Label')\n",
    "    print(test_labels[idx])"
   ]
  },
  {
   "cell_type": "code",
   "execution_count": 4,
   "metadata": {},
   "outputs": [],
   "source": [
    "# Fetch data\n",
    "mnist_dataset = fetch_mldata('MNIST original')\n",
    "mnist_data = mnist_dataset.data\n",
    "mnist_labels = mnist_dataset.target"
   ]
  },
  {
   "cell_type": "code",
   "execution_count": 5,
   "metadata": {},
   "outputs": [],
   "source": [
    "# Split into training and testing datasets\n",
    "X_train, X_test, y_train, y_test = train_test_split(mnist_data, mnist_labels, test_size=0.20, random_state=42)"
   ]
  },
  {
   "cell_type": "code",
   "execution_count": 6,
   "metadata": {},
   "outputs": [
    {
     "name": "stdout",
     "output_type": "stream",
     "text": [
      "(14000, 56000)\n"
     ]
    }
   ],
   "source": [
    "# Euclidean distance matrix\n",
    "mnist_euclidean_distances = euclidean_distances(X_test, X_train)\n",
    "print(mnist_euclidean_distances.shape)"
   ]
  },
  {
   "cell_type": "code",
   "execution_count": 7,
   "metadata": {},
   "outputs": [
    {
     "name": "stdout",
     "output_type": "stream",
     "text": [
      "(14000, 56000)\n"
     ]
    }
   ],
   "source": [
    "# Cosine distance matrix\n",
    "mnist_cosine_distances = cosine_distances(X_test, X_train)\n",
    "print(mnist_cosine_distances.shape)"
   ]
  },
  {
   "cell_type": "code",
   "execution_count": 8,
   "metadata": {},
   "outputs": [
    {
     "name": "stdout",
     "output_type": "stream",
     "text": [
      "-------------------------------------------------\n",
      "Using Euclidean distances ....\n",
      "-------------------------------------------------\n",
      "k=3: 97.4 %\n",
      "-------------------------------------------------\n",
      "Using Cosine distances ....\n",
      "-------------------------------------------------\n",
      "k=3: 97.8 %\n"
     ]
    }
   ],
   "source": [
    "k_list = [3]\n",
    "\n",
    "print('-------------------------------------------------')\n",
    "print('Using Euclidean distances ....')\n",
    "print('-------------------------------------------------')\n",
    "for k in k_list:\n",
    "    knn(k, distance_matrix=mnist_euclidean_distances, train_labels=y_train, test_labels=y_test)\n",
    "    \n",
    "print('-------------------------------------------------')\n",
    "print('Using Cosine distances ....')\n",
    "print('-------------------------------------------------')\n",
    "for k in k_list:\n",
    "    knn(k, distance_matrix=mnist_cosine_distances, train_labels=y_train, test_labels=y_test)"
   ]
  },
  {
   "cell_type": "code",
   "execution_count": 9,
   "metadata": {},
   "outputs": [
    {
     "name": "stdout",
     "output_type": "stream",
     "text": [
      "-------------------------------------------------\n",
      "The number ....\n",
      "-------------------------------------------------\n"
     ]
    },
    {
     "data": {
      "image/png": "[encoded data removed]",
      "text/plain": [
       "<matplotlib.figure.Figure at 0x2059bb18d30>"
      ]
     },
     "metadata": {},
     "output_type": "display_data"
    },
    {
     "name": "stdout",
     "output_type": "stream",
     "text": [
      "-------------------------------------------------\n",
      "Using Euclidean distances ....\n",
      "-------------------------------------------------\n",
      "\n",
      "Labels of neighbors\n",
      "[3.0, 3.0, 3.0, 3.0, 3.0]\n",
      "Predicted Label\n",
      "3.0\n",
      "Correct Label\n",
      "3.0\n",
      "-------------------------------------------------\n",
      "Using Cosine distances ....\n",
      "-------------------------------------------------\n",
      "\n",
      "Labels of neighbors\n",
      "[3.0, 3.0, 3.0, 3.0, 3.0]\n",
      "Predicted Label\n",
      "3.0\n",
      "Correct Label\n",
      "3.0\n"
     ]
    }
   ],
   "source": [
    "k_list = [5]\n",
    "idx = np.random.randint(1, X_test.shape[0]+1)   # Random index from train data\n",
    "\n",
    "print('-------------------------------------------------')\n",
    "print('The number ....')\n",
    "print('-------------------------------------------------')\n",
    "plt.imshow(np.reshape(X_test[idx], [28, 28]), cmap='gray')\n",
    "plt.show()\n",
    "print('-------------------------------------------------')\n",
    "print('Using Euclidean distances ....')\n",
    "print('-------------------------------------------------')\n",
    "for k in k_list:\n",
    "    find_k_nearest_neighbors(idx, k, distance_matrix=mnist_euclidean_distances, train_labels=y_train, test_labels=y_test)\n",
    "\n",
    "print('-------------------------------------------------')\n",
    "print('Using Cosine distances ....')\n",
    "print('-------------------------------------------------')\n",
    "for k in k_list:\n",
    "    find_k_nearest_neighbors(idx, k, distance_matrix=mnist_cosine_distances, train_labels=y_train, test_labels=y_test)"
   ]
  },
  {
   "cell_type": "markdown",
   "metadata": {},
   "source": [
    "# With normalizing"
   ]
  },
  {
   "cell_type": "code",
   "execution_count": 10,
   "metadata": {},
   "outputs": [
    {
     "name": "stdout",
     "output_type": "stream",
     "text": [
      "(56000, 784)\n",
      "(14000, 784)\n"
     ]
    }
   ],
   "source": [
    "# Normalize data\n",
    "norm_X_train = np.divide(X_train, 255)\n",
    "norm_X_test = np.divide(X_test, 255)\n",
    "\n",
    "print(norm_X_train.shape)\n",
    "print(norm_X_test.shape)"
   ]
  },
  {
   "cell_type": "code",
   "execution_count": 11,
   "metadata": {},
   "outputs": [
    {
     "name": "stdout",
     "output_type": "stream",
     "text": [
      "(14000, 56000)\n"
     ]
    }
   ],
   "source": [
    "# Euclidean distance matrix\n",
    "norm_mnist_euclidean_distances = euclidean_distances(norm_X_test, norm_X_train)\n",
    "print(norm_mnist_euclidean_distances.shape)"
   ]
  },
  {
   "cell_type": "code",
   "execution_count": 12,
   "metadata": {},
   "outputs": [
    {
     "name": "stdout",
     "output_type": "stream",
     "text": [
      "(14000, 56000)\n"
     ]
    }
   ],
   "source": [
    "# Cosine distance matrix\n",
    "norm_mnist_cosine_distances = cosine_distances(norm_X_test, norm_X_train)\n",
    "print(norm_mnist_cosine_distances.shape)"
   ]
  },
  {
   "cell_type": "code",
   "execution_count": 13,
   "metadata": {},
   "outputs": [
    {
     "name": "stdout",
     "output_type": "stream",
     "text": [
      "-------------------------------------------------\n",
      "Using Euclidean distances ....\n",
      "-------------------------------------------------\n",
      "k=3: 97.4 %\n",
      "-------------------------------------------------\n",
      "Using Cosine distances ....\n",
      "-------------------------------------------------\n",
      "k=3: 97.8 %\n"
     ]
    }
   ],
   "source": [
    "k_list = [3]\n",
    "\n",
    "print('-------------------------------------------------')\n",
    "print('Using Euclidean distances ....')\n",
    "print('-------------------------------------------------')\n",
    "for k in k_list:\n",
    "    knn(k, distance_matrix=norm_mnist_euclidean_distances, train_labels=y_train, test_labels=y_test)\n",
    "    \n",
    "print('-------------------------------------------------')\n",
    "print('Using Cosine distances ....')\n",
    "print('-------------------------------------------------')\n",
    "for k in k_list:\n",
    "    knn(k, distance_matrix=norm_mnist_cosine_distances, train_labels=y_train, test_labels=y_test)"
   ]
  },
  {
   "cell_type": "code",
   "execution_count": 14,
   "metadata": {},
   "outputs": [
    {
     "name": "stdout",
     "output_type": "stream",
     "text": [
      "-------------------------------------------------\n",
      "The number ....\n",
      "-------------------------------------------------\n"
     ]
    },
    {
     "data": {
      "image/png": "[encoded data removed]",
      "text/plain": [
       "<matplotlib.figure.Figure at 0x2059bb64668>"
      ]
     },
     "metadata": {},
     "output_type": "display_data"
    },
    {
     "name": "stdout",
     "output_type": "stream",
     "text": [
      "-------------------------------------------------\n",
      "Using Euclidean distances ....\n",
      "-------------------------------------------------\n",
      "\n",
      "Labels of neighbors\n",
      "[0.0, 0.0, 0.0, 0.0, 0.0]\n",
      "Predicted Label\n",
      "0.0\n",
      "Correct Label\n",
      "0.0\n",
      "-------------------------------------------------\n",
      "Using Cosine distances ....\n",
      "-------------------------------------------------\n",
      "\n",
      "Labels of neighbors\n",
      "[0.0, 0.0, 0.0, 0.0, 0.0]\n",
      "Predicted Label\n",
      "0.0\n",
      "Correct Label\n",
      "0.0\n"
     ]
    }
   ],
   "source": [
    "k_list = [5]\n",
    "idx = np.random.randint(1, X_test.shape[0]+1)   # Random index from train data\n",
    "\n",
    "print('-------------------------------------------------')\n",
    "print('The number ....')\n",
    "print('-------------------------------------------------')\n",
    "plt.imshow(np.reshape(X_test[idx], [28, 28]), cmap='gray')\n",
    "plt.show()\n",
    "print('-------------------------------------------------')\n",
    "print('Using Euclidean distances ....')\n",
    "print('-------------------------------------------------')\n",
    "for k in k_list:\n",
    "    find_k_nearest_neighbors(idx, k, distance_matrix=norm_mnist_euclidean_distances, train_labels=y_train, test_labels=y_test)\n",
    "\n",
    "print('-------------------------------------------------')\n",
    "print('Using Cosine distances ....')\n",
    "print('-------------------------------------------------')\n",
    "for k in k_list:\n",
    "    find_k_nearest_neighbors(idx, k, distance_matrix=norm_mnist_cosine_distances, train_labels=y_train, test_labels=y_test)"
   ]
  },
  {
   "cell_type": "code",
   "execution_count": null,
   "metadata": {},
   "outputs": [],
   "source": []
  }
 ],
 "metadata": {
  "kernelspec": {
   "display_name": "Python 3",
   "language": "python",
   "name": "python3"
  },
  "language_info": {
   "codemirror_mode": {
    "name": "ipython",
    "version": 3
   },
   "file_extension": ".py",
   "mimetype": "text/x-python",
   "name": "python",
   "nbconvert_exporter": "python",
   "pygments_lexer": "ipython3",
   "version": "3.6.4"
  }
 },
 "nbformat": 4,
 "nbformat_minor": 2
}
