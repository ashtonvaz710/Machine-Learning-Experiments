{
 "cells": [
  {
   "cell_type": "code",
   "execution_count": 1,
   "metadata": {},
   "outputs": [],
   "source": [
    "from sklearn.datasets import fetch_20newsgroups\n",
    "from sklearn.feature_extraction.text import TfidfVectorizer\n",
    "from sklearn.metrics.pairwise import euclidean_distances, cosine_distances\n",
    "from sklearn.metrics import accuracy_score\n",
    "import numpy as np"
   ]
  },
  {
   "cell_type": "code",
   "execution_count": 2,
   "metadata": {},
   "outputs": [],
   "source": [
    "# distance matrix is test x train \n",
    "def knn(k, distance_matrix, train_labels, test_labels):\n",
    "\n",
    "    predicted_labels = []       # List of predicted labels for test set \n",
    "    for i in range(distance_matrix.shape[0]):\n",
    "          \n",
    "        # Store indices of sorted neighbors\n",
    "        neighbors = np.argsort(distance_matrix[i])\n",
    "            \n",
    "        # Store labels of k nearest neighbors\n",
    "        k_nearest_labels = []   \n",
    "        for j in range(k):\n",
    "            k_nearest_labels.append(train_labels[neighbors[j]])\n",
    "\n",
    "        # Store value of the max no. of k_nearest_labels\n",
    "        predicted_labels.append(max(k_nearest_labels, key=k_nearest_labels.count))\n",
    "\n",
    "    # Print accuracy\n",
    "    if type(test_labels).__name__ == 'ndarray':\n",
    "        print('k=%d:' % (k), str(round(accuracy_score(test_labels, np.asarray(predicted_labels)) * 100, 2)), '%')\n",
    "    else:\n",
    "        try:\n",
    "            print('k=%d:' % (k), str(round(accuracy_score(test_labels, predicted_labels) * 100, 2)), '%')\n",
    "        except:\n",
    "            print('ndarray and list are the only accepted types for test_labels')"
   ]
  },
  {
   "cell_type": "code",
   "execution_count": 3,
   "metadata": {},
   "outputs": [],
   "source": [
    "# distance matrix is test x train \n",
    "def find_k_nearest_neighbors(idx, k, distance_matrix, train_labels, test_labels):\n",
    "\n",
    "    # Store indices of sorted neighbors\n",
    "    neighbors = np.argsort(distance_matrix[idx])\n",
    "\n",
    "    # Store labels of k nearest neighbors\n",
    "    k_nearest_labels = []   \n",
    "    for j in range(k):\n",
    "        k_nearest_labels.append(train_labels[neighbors[j]])\n",
    "\n",
    "    # Store value of the max no. of k_nearest_labels\n",
    "    predicted_label = max(k_nearest_labels, key=k_nearest_labels.count)\n",
    "\n",
    "    print('\\nLabels of neighbors')\n",
    "    print(k_nearest_labels)\n",
    "    print('Predicted Label')\n",
    "    print(predicted_label)\n",
    "    print('Correct Label')\n",
    "    print(test_labels[idx])"
   ]
  },
  {
   "cell_type": "code",
   "execution_count": 4,
   "metadata": {},
   "outputs": [
    {
     "name": "stdout",
     "output_type": "stream",
     "text": [
      "11314\n",
      "7532\n",
      "11314\n",
      "7532\n"
     ]
    }
   ],
   "source": [
    "# Fetch data\n",
    "ng_train = fetch_20newsgroups(subset='train')\n",
    "ng_test = fetch_20newsgroups(subset='test')\n",
    "\n",
    "# Training and testing data\n",
    "X_train = ng_train.data\n",
    "X_test = ng_test.data\n",
    "\n",
    "# Set of label names for training and testing data\n",
    "# ng_train.target_names\n",
    "# ng_test.target_names\n",
    "\n",
    "# Training and testing labels, where each label is associated with a number corresponding to the index in target_names\n",
    "# ng_train.target\n",
    "# ng_test.target\n",
    "\n",
    "# Training and testing labels\n",
    "y_train = []\n",
    "y_test = []\n",
    "\n",
    "for i in range(len(X_train)):\n",
    "    y_train.append(ng_train.target_names[ng_train.target[i]])\n",
    "for i in range(len(X_test)):\n",
    "    y_test.append(ng_test.target_names[ng_test.target[i]])\n",
    "\n",
    "print(len(X_train))\n",
    "print(len(X_test))\n",
    "print(len(y_train))\n",
    "print(len(y_test))"
   ]
  },
  {
   "cell_type": "code",
   "execution_count": 5,
   "metadata": {},
   "outputs": [
    {
     "name": "stdout",
     "output_type": "stream",
     "text": [
      "(11314, 130107)\n",
      "(7532, 130107)\n"
     ]
    }
   ],
   "source": [
    "# Converting text to vectors\n",
    "tfidf = TfidfVectorizer()\n",
    "tfidf.fit(X_train)\n",
    "vect_X_train = tfidf.transform(X_train)\n",
    "vect_X_test = tfidf.transform(X_test)\n",
    "\n",
    "print(vect_X_train.shape)\n",
    "print(vect_X_test.shape)"
   ]
  },
  {
   "cell_type": "code",
   "execution_count": 6,
   "metadata": {},
   "outputs": [
    {
     "name": "stdout",
     "output_type": "stream",
     "text": [
      "(7532, 11314)\n"
     ]
    }
   ],
   "source": [
    "# Euclidean distance matrix\n",
    "ng_euclidean_distances = euclidean_distances(vect_X_test, vect_X_train)\n",
    "print(ng_euclidean_distances.shape)"
   ]
  },
  {
   "cell_type": "code",
   "execution_count": 7,
   "metadata": {},
   "outputs": [
    {
     "name": "stdout",
     "output_type": "stream",
     "text": [
      "(7532, 11314)\n"
     ]
    }
   ],
   "source": [
    "# Cosine distance matrix\n",
    "ng_cosine_distances = cosine_distances(vect_X_test, vect_X_train)\n",
    "print(ng_cosine_distances.shape)"
   ]
  },
  {
   "cell_type": "code",
   "execution_count": 8,
   "metadata": {},
   "outputs": [
    {
     "name": "stdout",
     "output_type": "stream",
     "text": [
      "-------------------------------------------------\n",
      "Using Euclidean distances ....\n",
      "-------------------------------------------------\n",
      "k=3: 67.91 %\n",
      "k=5: 67.55 %\n",
      "k=10: 66.8 %\n",
      "-------------------------------------------------\n",
      "Using Cosine distances ....\n",
      "-------------------------------------------------\n",
      "k=3: 67.91 %\n",
      "k=5: 67.55 %\n",
      "k=10: 66.8 %\n"
     ]
    }
   ],
   "source": [
    "k_list = [3, 5, 10]\n",
    "\n",
    "print('-------------------------------------------------')\n",
    "print('Using Euclidean distances ....')\n",
    "print('-------------------------------------------------')\n",
    "for k in k_list:\n",
    "    knn(k, distance_matrix=ng_euclidean_distances, train_labels=y_train, test_labels=y_test)\n",
    "\n",
    "print('-------------------------------------------------')\n",
    "print('Using Cosine distances ....')\n",
    "print('-------------------------------------------------')\n",
    "for k in k_list:\n",
    "    knn(k, distance_matrix=ng_cosine_distances, train_labels=y_train, test_labels=y_test)"
   ]
  },
  {
   "cell_type": "code",
   "execution_count": 9,
   "metadata": {},
   "outputs": [
    {
     "name": "stdout",
     "output_type": "stream",
     "text": [
      "-------------------------------------------------\n",
      "The text ....\n",
      "-------------------------------------------------\n",
      "From: berryh@huey.udel.edu (John Berryhill, Ph.D.)\n",
      "Subject: Re: The earth also pollutes......\n",
      "Nntp-Posting-Host: huey.udel.edu\n",
      "Organization: little scraps of paper, mostly\n",
      "Lines: 13\n",
      "\n",
      "\n",
      "People *die* of natural causes, too.  We hear all this bellyaching over\n",
      "things like murder and war while Mother Nature is killing people all of\n",
      "the time.\n",
      "\n",
      "In fact, more people die of natural causes than due to the conscious\n",
      "actions of other people.  So, what's a few murders here and there?\n",
      "\n",
      "\n",
      "-- \n",
      "\n",
      "                                              John Berryhill\n",
      "\n",
      "\n",
      "-------------------------------------------------\n",
      "Using Euclidean distances ....\n",
      "-------------------------------------------------\n",
      "\n",
      "Labels of neighbors\n",
      "['sci.med', 'sci.electronics', 'sci.electronics', 'talk.politics.misc', 'alt.atheism']\n",
      "Predicted Label\n",
      "sci.electronics\n",
      "Correct Label\n",
      "talk.politics.misc\n",
      "-------------------------------------------------\n",
      "Using Cosine distances ....\n",
      "-------------------------------------------------\n",
      "\n",
      "Labels of neighbors\n",
      "['sci.med', 'sci.electronics', 'sci.electronics', 'talk.politics.misc', 'alt.atheism']\n",
      "Predicted Label\n",
      "sci.electronics\n",
      "Correct Label\n",
      "talk.politics.misc\n"
     ]
    }
   ],
   "source": [
    "k_list = [5]\n",
    "idx = np.random.randint(1, len(X_test)+1)   # Random index from train data\n",
    "\n",
    "print('-------------------------------------------------')\n",
    "print('The text ....')\n",
    "print('-------------------------------------------------')\n",
    "print(X_test[idx])\n",
    "\n",
    "print('-------------------------------------------------')\n",
    "print('Using Euclidean distances ....')\n",
    "print('-------------------------------------------------')\n",
    "for k in k_list:\n",
    "    find_k_nearest_neighbors(idx, k, distance_matrix=ng_euclidean_distances, train_labels=y_train, test_labels=y_test)\n",
    "\n",
    "print('-------------------------------------------------')\n",
    "print('Using Cosine distances ....')\n",
    "print('-------------------------------------------------')\n",
    "for k in k_list:\n",
    "    find_k_nearest_neighbors(idx, k, distance_matrix=ng_cosine_distances, train_labels=y_train, test_labels=y_test)"
   ]
  },
  {
   "cell_type": "code",
   "execution_count": null,
   "metadata": {},
   "outputs": [],
   "source": []
  }
 ],
 "metadata": {
  "kernelspec": {
   "display_name": "Python 3",
   "language": "python",
   "name": "python3"
  },
  "language_info": {
   "codemirror_mode": {
    "name": "ipython",
    "version": 3
   },
   "file_extension": ".py",
   "mimetype": "text/x-python",
   "name": "python",
   "nbconvert_exporter": "python",
   "pygments_lexer": "ipython3",
   "version": "3.6.4"
  }
 },
 "nbformat": 4,
 "nbformat_minor": 2
}
