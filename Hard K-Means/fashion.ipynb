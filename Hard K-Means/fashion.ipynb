{
 "cells": [
  {
   "cell_type": "code",
   "execution_count": 1,
   "metadata": {},
   "outputs": [],
   "source": [
    "from sklearn.metrics.pairwise import euclidean_distances, cosine_distances\n",
    "from pprint import pprint\n",
    "from random import randrange\n",
    "from scipy.sparse import csr_matrix,vstack\n",
    "from collections import Counter\n",
    "import numpy as np\n",
    "import scipy\n",
    "import os"
   ]
  },
  {
   "cell_type": "code",
   "execution_count": 2,
   "metadata": {},
   "outputs": [],
   "source": [
    "# creates absolute path\n",
    "def abspath(path, *paths):\n",
    "    fpath = os.path.join(os.getcwd(), os.pardir, path)\n",
    "\n",
    "    for p in paths:\n",
    "        fpath = os.path.join(fpath, p)\n",
    "    return fpath"
   ]
  },
  {
   "cell_type": "code",
   "execution_count": 3,
   "metadata": {},
   "outputs": [],
   "source": [
    "# K = no of cluster\n",
    "# d = distance measurement - 'c' for cosine, 'e' for euclidean\n",
    "def hard_kmeans(K, d, data, labels):\n",
    "    max_iterations = 200\n",
    "    centroids = []        # List of centroids\n",
    "    cluster = {}          # {index of centroid: [mnist samples]}\n",
    "    cluster_labels = {}   # {index of centroid: [mnist lables]}\n",
    "    cluster_index = {}    # {index of centroid: [mnist indices]}\n",
    "    iterations = 0\n",
    "    N = data.shape[0]\n",
    "    \n",
    "    # Assume K centroids (by random)\n",
    "    for i in range(K):\n",
    "        centroids.append(data[randrange(0, N - 1)])\n",
    "\n",
    "    print('K=%d' % (K))\n",
    "    \n",
    "    while(1):\n",
    "        \n",
    "        # Convert list of csr matrices to a 2d csr matrix\n",
    "        centroids = vstack(centroids) if type(data).__name__ == 'csr_matrix' else centroids\n",
    "        \n",
    "        # Compute distance matrix\n",
    "        if d == 'c':\n",
    "            distance_matrix = cosine_distances(data, centroids)\n",
    "        else:\n",
    "            distance_matrix = euclidean_distances(data, centroids)\n",
    "\n",
    "        # E step - compute memberships given centroids\n",
    "        cluster = {}\n",
    "        cluster_labels = {}\n",
    "        cluster_index = {}\n",
    "        for i in range(N):\n",
    "            cluster.setdefault(np.argmin(distance_matrix[i]), []).append(data[i])\n",
    "            cluster_labels.setdefault(np.argmin(distance_matrix[i]), []).append(labels[i])\n",
    "            cluster_index.setdefault(np.argmin(distance_matrix[i]), []).append(i)\n",
    "\n",
    "        # Store the current centroids before the M step\n",
    "        prev_centroids = []\n",
    "        for k in cluster:\n",
    "            prev_centroids.append(centroids[k])\n",
    "\n",
    "        # M step - compute centroids given memberships\n",
    "        centroids = []\n",
    "        for k in cluster:\n",
    "            # np.mean(vstack(cluster[k]), axis=0) returns a number, csr_matrix() converts it to a csr matrix\n",
    "            centroids.append(csr_matrix(np.mean(vstack(cluster[k]), axis=0))) if type(data).__name__ == 'csr_matrix' else centroids.append(np.mean(cluster[k], axis=0))\n",
    "\n",
    "        iterations += 1\n",
    "        \n",
    "        # Termination conditions - on convergence, else after a fixed number of iterations \n",
    "        if np.array_equal(centroids, prev_centroids): #allclose , atol=1e-2\n",
    "            print('Iteration', iterations,': CONVERGED!')\n",
    "            break\n",
    "\n",
    "        if iterations == max_iterations:\n",
    "            print('Iteration', iterations,': max reached')\n",
    "            break\n",
    "            \n",
    "    # Store list of labels as a Counter\n",
    "    for key,value in cluster_labels.items():\n",
    "        cluster_labels[key] = Counter(value)\n",
    "\n",
    "    # Calculate purity\n",
    "    purity = 0\n",
    "    for cluster in cluster_labels:\n",
    "        purity += max(cluster_labels[cluster].values())\n",
    "    purity /= N\n",
    "    \n",
    "    # Calculate gini index\n",
    "    gini_index = 0\n",
    "    for key,value in cluster_labels.items():\n",
    "        gini = 0\n",
    "        for k,v in value.items():\n",
    "            gini += (v / sum(cluster_labels[key].values())) ** 2\n",
    "        gini_index += 1 - gini\n",
    "    gini_index /= K\n",
    "    \n",
    "    # Final result\n",
    "    print('Purity -', round(purity, 4), 'Gini Index -', round(gini_index, 4), '\\n')"
   ]
  },
  {
   "cell_type": "code",
   "execution_count": 4,
   "metadata": {},
   "outputs": [
    {
     "name": "stdout",
     "output_type": "stream",
     "text": [
      "(60000, 785)\n",
      "(10000, 785)\n"
     ]
    }
   ],
   "source": [
    "# Fetch data\n",
    "fashion_train_path = abspath('datasets', 'fashion-mnist_train.csv')\n",
    "fashion_test_path = abspath('datasets', 'fashion-mnist_test.csv')\n",
    "\n",
    "fashion_train_dataset = np.loadtxt(open(fashion_train_path, 'rb'), delimiter=',', skiprows=1)\n",
    "fashion_test_dataset = np.loadtxt(open(fashion_test_path, 'rb'), delimiter=',', skiprows=1)\n",
    "\n",
    "print(fashion_train_dataset.shape)\n",
    "print(fashion_test_dataset.shape)"
   ]
  },
  {
   "cell_type": "code",
   "execution_count": 5,
   "metadata": {},
   "outputs": [
    {
     "name": "stdout",
     "output_type": "stream",
     "text": [
      "(60000, 784)\n",
      "(60000,)\n",
      "(10000, 784)\n",
      "(10000,)\n"
     ]
    }
   ],
   "source": [
    "# Data and labels\n",
    "fashion_train_data = fashion_train_dataset[:, list(range(1, fashion_train_dataset.shape[1]))]\n",
    "fashion_train_labels = fashion_train_dataset[:, 0]\n",
    "fashion_test_data = fashion_test_dataset[:, list(range(1, fashion_test_dataset.shape[1]))]\n",
    "fashion_test_labels = fashion_test_dataset[:, 0]\n",
    "\n",
    "print(fashion_train_data.shape)\n",
    "print(fashion_train_labels.shape)\n",
    "print(fashion_test_data.shape)\n",
    "print(fashion_test_labels.shape)"
   ]
  },
  {
   "cell_type": "code",
   "execution_count": 6,
   "metadata": {},
   "outputs": [
    {
     "name": "stdout",
     "output_type": "stream",
     "text": [
      "Without Normalizing - Train Data\n",
      "-------------------------------------------------\n",
      "Using Euclidean distances ....\n",
      "-------------------------------------------------\n",
      "K=5\n",
      "Iteration 46 : CONVERGED!\n",
      "Purity - 0.4107 Gini Index - 0.6934 \n",
      "\n",
      "K=10\n",
      "Iteration 94 : CONVERGED!\n",
      "Purity - 0.5795 Gini Index - 0.5343 \n",
      "\n",
      "K=20\n",
      "Iteration 192 : CONVERGED!\n",
      "Purity - 0.6602 Gini Index - 0.4166 \n",
      "\n",
      "-------------------------------------------------\n",
      "Using Cosine distances ....\n",
      "-------------------------------------------------\n",
      "K=5\n",
      "Iteration 22 : CONVERGED!\n",
      "Purity - 0.374 Gini Index - 0.6445 \n",
      "\n",
      "K=10\n",
      "Iteration 84 : CONVERGED!\n",
      "Purity - 0.5858 Gini Index - 0.4653 \n",
      "\n",
      "K=20\n",
      "Iteration 81 : CONVERGED!\n",
      "Purity - 0.6481 Gini Index - 0.4266 \n",
      "\n"
     ]
    }
   ],
   "source": [
    "k_list = [5, 10, 20]\n",
    "\n",
    "print('Without Normalizing - Train Data')\n",
    "print('-------------------------------------------------')\n",
    "print('Using Euclidean distances ....')\n",
    "print('-------------------------------------------------')\n",
    "for k in k_list:\n",
    "    hard_kmeans(k, d='e', data=fashion_train_data, labels=fashion_train_labels)\n",
    "\n",
    "print('-------------------------------------------------')\n",
    "print('Using Cosine distances ....')\n",
    "print('-------------------------------------------------')\n",
    "for k in k_list:\n",
    "    hard_kmeans(k, d='c', data=fashion_train_data, labels=fashion_train_labels)"
   ]
  },
  {
   "cell_type": "code",
   "execution_count": 7,
   "metadata": {},
   "outputs": [
    {
     "name": "stdout",
     "output_type": "stream",
     "text": [
      "Without Normalizing - Test Data\n",
      "-------------------------------------------------\n",
      "Using Euclidean distances ....\n",
      "-------------------------------------------------\n",
      "K=5\n",
      "Iteration 29 : CONVERGED!\n",
      "Purity - 0.4125 Gini Index - 0.6911 \n",
      "\n",
      "K=10\n",
      "Iteration 68 : CONVERGED!\n",
      "Purity - 0.573 Gini Index - 0.5155 \n",
      "\n",
      "K=20\n",
      "Iteration 24 : CONVERGED!\n",
      "Purity - 0.6657 Gini Index - 0.4115 \n",
      "\n",
      "-------------------------------------------------\n",
      "Using Cosine distances ....\n",
      "-------------------------------------------------\n",
      "K=5\n",
      "Iteration 35 : CONVERGED!\n",
      "Purity - 0.4551 Gini Index - 0.647 \n",
      "\n",
      "K=10\n",
      "Iteration 58 : CONVERGED!\n",
      "Purity - 0.6155 Gini Index - 0.4177 \n",
      "\n",
      "K=20\n",
      "Iteration 64 : CONVERGED!\n",
      "Purity - 0.6531 Gini Index - 0.396 \n",
      "\n"
     ]
    }
   ],
   "source": [
    "k_list = [5, 10, 20]\n",
    "\n",
    "print('Without Normalizing - Test Data')\n",
    "print('-------------------------------------------------')\n",
    "print('Using Euclidean distances ....')\n",
    "print('-------------------------------------------------')\n",
    "for k in k_list:\n",
    "    hard_kmeans(k, d='e', data=fashion_test_data, labels=fashion_test_labels)\n",
    "\n",
    "print('-------------------------------------------------')\n",
    "print('Using Cosine distances ....')\n",
    "print('-------------------------------------------------')\n",
    "for k in k_list:\n",
    "    hard_kmeans(k, d='c', data=fashion_test_data, labels=fashion_test_labels)"
   ]
  },
  {
   "cell_type": "markdown",
   "metadata": {},
   "source": [
    "# With normalizing"
   ]
  },
  {
   "cell_type": "code",
   "execution_count": 8,
   "metadata": {},
   "outputs": [],
   "source": [
    "# Normalize data\n",
    "norm_fashion_train_data = np.divide(fashion_train_data, 255)\n",
    "norm_fashion_test_data = np.divide(fashion_test_data, 255)"
   ]
  },
  {
   "cell_type": "code",
   "execution_count": 9,
   "metadata": {},
   "outputs": [
    {
     "name": "stdout",
     "output_type": "stream",
     "text": [
      "With Normalizing - Train Data\n",
      "-------------------------------------------------\n",
      "Using Euclidean distances ....\n",
      "-------------------------------------------------\n",
      "K=5\n",
      "Iteration 35 : CONVERGED!\n",
      "Purity - 0.3818 Gini Index - 0.6964 \n",
      "\n",
      "K=10\n",
      "Iteration 74 : CONVERGED!\n",
      "Purity - 0.6029 Gini Index - 0.46 \n",
      "\n",
      "K=20\n",
      "Iteration 121 : CONVERGED!\n",
      "Purity - 0.6512 Gini Index - 0.4114 \n",
      "\n",
      "-------------------------------------------------\n",
      "Using Cosine distances ....\n",
      "-------------------------------------------------\n",
      "K=5\n",
      "Iteration 18 : CONVERGED!\n",
      "Purity - 0.4583 Gini Index - 0.645 \n",
      "\n",
      "K=10\n",
      "Iteration 44 : CONVERGED!\n",
      "Purity - 0.5988 Gini Index - 0.4764 \n",
      "\n",
      "K=20\n",
      "Iteration 73 : CONVERGED!\n",
      "Purity - 0.6414 Gini Index - 0.3914 \n",
      "\n"
     ]
    }
   ],
   "source": [
    "k_list = [5, 10, 20]\n",
    "\n",
    "print('With Normalizing - Train Data')\n",
    "print('-------------------------------------------------')\n",
    "print('Using Euclidean distances ....')\n",
    "print('-------------------------------------------------')\n",
    "for k in k_list:\n",
    "    hard_kmeans(k, d='e', data=norm_fashion_train_data, labels=fashion_train_labels)\n",
    "\n",
    "print('-------------------------------------------------')\n",
    "print('Using Cosine distances ....')\n",
    "print('-------------------------------------------------')\n",
    "for k in k_list:\n",
    "    hard_kmeans(k, d='c', data=norm_fashion_train_data, labels=fashion_train_labels)"
   ]
  },
  {
   "cell_type": "code",
   "execution_count": 10,
   "metadata": {},
   "outputs": [
    {
     "name": "stdout",
     "output_type": "stream",
     "text": [
      "With Normalizing - Test Data\n",
      "-------------------------------------------------\n",
      "Using Euclidean distances ....\n",
      "-------------------------------------------------\n",
      "K=5\n",
      "Iteration 35 : CONVERGED!\n",
      "Purity - 0.377 Gini Index - 0.7053 \n",
      "\n",
      "K=10\n",
      "Iteration 33 : CONVERGED!\n",
      "Purity - 0.6078 Gini Index - 0.4567 \n",
      "\n",
      "K=20\n",
      "Iteration 39 : CONVERGED!\n",
      "Purity - 0.6568 Gini Index - 0.4364 \n",
      "\n",
      "-------------------------------------------------\n",
      "Using Cosine distances ....\n",
      "-------------------------------------------------\n",
      "K=5\n",
      "Iteration 20 : CONVERGED!\n",
      "Purity - 0.4561 Gini Index - 0.5484 \n",
      "\n",
      "K=10\n",
      "Iteration 58 : CONVERGED!\n",
      "Purity - 0.6159 Gini Index - 0.4171 \n",
      "\n",
      "K=20\n",
      "Iteration 43 : CONVERGED!\n",
      "Purity - 0.6717 Gini Index - 0.4012 \n",
      "\n"
     ]
    }
   ],
   "source": [
    "k_list = [5, 10, 20]\n",
    "\n",
    "print('With Normalizing - Test Data')\n",
    "print('-------------------------------------------------')\n",
    "print('Using Euclidean distances ....')\n",
    "print('-------------------------------------------------')\n",
    "for k in k_list:\n",
    "    hard_kmeans(k, d='e', data=norm_fashion_test_data, labels=fashion_test_labels)\n",
    "\n",
    "print('-------------------------------------------------')\n",
    "print('Using Cosine distances ....')\n",
    "print('-------------------------------------------------')\n",
    "for k in k_list:\n",
    "    hard_kmeans(k, d='c', data=norm_fashion_test_data, labels=fashion_test_labels)"
   ]
  },
  {
   "cell_type": "code",
   "execution_count": null,
   "metadata": {},
   "outputs": [],
   "source": []
  }
 ],
 "metadata": {
  "kernelspec": {
   "display_name": "Python 3",
   "language": "python",
   "name": "python3"
  },
  "language_info": {
   "codemirror_mode": {
    "name": "ipython",
    "version": 3
   },
   "file_extension": ".py",
   "mimetype": "text/x-python",
   "name": "python",
   "nbconvert_exporter": "python",
   "pygments_lexer": "ipython3",
   "version": "3.6.4"
  }
 },
 "nbformat": 4,
 "nbformat_minor": 2
}
