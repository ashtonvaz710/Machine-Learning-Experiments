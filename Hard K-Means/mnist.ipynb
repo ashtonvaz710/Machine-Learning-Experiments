{
 "cells": [
  {
   "cell_type": "code",
   "execution_count": 1,
   "metadata": {},
   "outputs": [],
   "source": [
    "from sklearn.datasets import fetch_mldata\n",
    "from sklearn.metrics.pairwise import euclidean_distances, cosine_distances\n",
    "from random import randrange\n",
    "from scipy.sparse import csr_matrix,vstack\n",
    "from collections import Counter\n",
    "import numpy as np\n",
    "import scipy"
   ]
  },
  {
   "cell_type": "code",
   "execution_count": 2,
   "metadata": {},
   "outputs": [],
   "source": [
    "# K = no of cluster\n",
    "# d = distance measurement - 'c' for cosine, 'e' for euclidean\n",
    "def hard_kmeans(K, d, data, labels):\n",
    "    max_iterations = 200\n",
    "    centroids = []        # List of centroids\n",
    "    cluster = {}          # {index of centroid: [mnist samples]}\n",
    "    cluster_labels = {}   # {index of centroid: [mnist lables]}\n",
    "    cluster_index = {}    # {index of centroid: [mnist indices]}\n",
    "    iterations = 0\n",
    "    N = data.shape[0]\n",
    "    \n",
    "    # Assume K centroids (by random)\n",
    "    for i in range(K):\n",
    "        centroids.append(data[randrange(0, N - 1)])\n",
    "\n",
    "    print('K=%d' % (K))\n",
    "    \n",
    "    while(1):\n",
    "        \n",
    "        # Convert list of csr matrices to a 2d csr matrix\n",
    "        centroids = vstack(centroids) if type(data).__name__ == 'csr_matrix' else centroids\n",
    "        \n",
    "        # Compute distance matrix\n",
    "        if d == 'c':\n",
    "            distance_matrix = cosine_distances(data, centroids)\n",
    "        else:\n",
    "            distance_matrix = euclidean_distances(data, centroids)\n",
    "\n",
    "        # E step - compute memberships given centroids\n",
    "        cluster = {}\n",
    "        cluster_labels = {}\n",
    "        cluster_index = {}\n",
    "        for i in range(N):\n",
    "            cluster.setdefault(np.argmin(distance_matrix[i]), []).append(data[i])\n",
    "            cluster_labels.setdefault(np.argmin(distance_matrix[i]), []).append(labels[i])\n",
    "            cluster_index.setdefault(np.argmin(distance_matrix[i]), []).append(i)\n",
    "\n",
    "        # Store the current centroids before the M step\n",
    "        prev_centroids = []\n",
    "        for k in cluster:\n",
    "            prev_centroids.append(centroids[k])\n",
    "\n",
    "        # M step - compute centroids given memberships\n",
    "        centroids = []\n",
    "        for k in cluster:\n",
    "            # np.mean(vstack(cluster[k]), axis=0) returns a number, csr_matrix() converts it to a csr matrix\n",
    "            centroids.append(csr_matrix(np.mean(vstack(cluster[k]), axis=0))) if type(data).__name__ == 'csr_matrix' else centroids.append(np.mean(cluster[k], axis=0))\n",
    "\n",
    "        iterations += 1\n",
    "        \n",
    "        # Termination conditions - on convergence, else after a fixed number of iterations \n",
    "        if np.array_equal(centroids, prev_centroids): #allclose , atol=1e-2\n",
    "            print('Iteration', iterations,': CONVERGED!')\n",
    "            break\n",
    "\n",
    "        if iterations == max_iterations:\n",
    "            print('Iteration', iterations,': max reached')\n",
    "            break\n",
    "            \n",
    "    # Store list of labels as a Counter\n",
    "    for key,value in cluster_labels.items():\n",
    "        cluster_labels[key] = Counter(value)\n",
    "\n",
    "    # Calculate purity\n",
    "    purity = 0\n",
    "    for cluster in cluster_labels:\n",
    "        purity += max(cluster_labels[cluster].values())\n",
    "    purity /= N\n",
    "    \n",
    "    # Calculate gini index\n",
    "    gini_index = 0\n",
    "    for key,value in cluster_labels.items():\n",
    "        gini = 0\n",
    "        for k,v in value.items():\n",
    "            gini += (v / sum(cluster_labels[key].values())) ** 2\n",
    "        gini_index += 1 - gini\n",
    "    gini_index /= K\n",
    "    \n",
    "    # Final result\n",
    "    print('Purity -', round(purity, 4), 'Gini Index -', round(gini_index, 4), '\\n')"
   ]
  },
  {
   "cell_type": "code",
   "execution_count": 3,
   "metadata": {},
   "outputs": [
    {
     "name": "stdout",
     "output_type": "stream",
     "text": [
      "(70000, 784)\n",
      "(70000,)\n"
     ]
    }
   ],
   "source": [
    "# Fetch data\n",
    "mnist_dataset = fetch_mldata('mnist original')\n",
    "\n",
    "# Data and labels\n",
    "mnist_data = mnist_dataset.data\n",
    "mnist_labels = mnist_dataset.target\n",
    "\n",
    "print(mnist_data.shape)\n",
    "print(mnist_labels.shape)"
   ]
  },
  {
   "cell_type": "code",
   "execution_count": 4,
   "metadata": {},
   "outputs": [
    {
     "name": "stdout",
     "output_type": "stream",
     "text": [
      "Without Normalizing\n",
      "-------------------------------------------------\n",
      "Using Euclidean distances ....\n",
      "-------------------------------------------------\n",
      "K=5\n",
      "Iteration 36 : CONVERGED!\n",
      "Purity - 0.3901 Gini Index - 0.7282 \n",
      "\n",
      "K=10\n",
      "Iteration 44 : CONVERGED!\n",
      "Purity - 0.5982 Gini Index - 0.4653 \n",
      "\n",
      "K=20\n",
      "Iteration 74 : CONVERGED!\n",
      "Purity - 0.7146 Gini Index - 0.3622 \n",
      "\n",
      "-------------------------------------------------\n",
      "Using Cosine distances ....\n",
      "-------------------------------------------------\n",
      "K=5\n",
      "Iteration 75 : CONVERGED!\n",
      "Purity - 0.3933 Gini Index - 0.7044 \n",
      "\n",
      "K=10\n",
      "Iteration 122 : CONVERGED!\n",
      "Purity - 0.6018 Gini Index - 0.4887 \n",
      "\n",
      "K=20\n",
      "Iteration 66 : CONVERGED!\n",
      "Purity - 0.7307 Gini Index - 0.3705 \n",
      "\n"
     ]
    }
   ],
   "source": [
    "k_list = [5, 10, 20]\n",
    "\n",
    "print('Without Normalizing')\n",
    "print('-------------------------------------------------')\n",
    "print('Using Euclidean distances ....')\n",
    "print('-------------------------------------------------')\n",
    "for k in k_list:\n",
    "    hard_kmeans(k, d='e', data=mnist_data, labels=mnist_labels)\n",
    "\n",
    "print('-------------------------------------------------')\n",
    "print('Using Cosine distances ....')\n",
    "print('-------------------------------------------------')\n",
    "for k in k_list:\n",
    "    hard_kmeans(k, d='c', data=mnist_data, labels=mnist_labels)"
   ]
  },
  {
   "cell_type": "markdown",
   "metadata": {},
   "source": [
    "# With normalizing"
   ]
  },
  {
   "cell_type": "code",
   "execution_count": 5,
   "metadata": {},
   "outputs": [
    {
     "name": "stdout",
     "output_type": "stream",
     "text": [
      "(70000, 784)\n"
     ]
    }
   ],
   "source": [
    "# Normalize data\n",
    "norm_mnist_data = np.divide(mnist_data, 255)\n",
    "print(norm_mnist_data.shape)"
   ]
  },
  {
   "cell_type": "code",
   "execution_count": 6,
   "metadata": {},
   "outputs": [
    {
     "name": "stdout",
     "output_type": "stream",
     "text": [
      "With Normalizing\n",
      "-------------------------------------------------\n",
      "Using Euclidean distances ....\n",
      "-------------------------------------------------\n",
      "K=5\n",
      "Iteration 64 : CONVERGED!\n",
      "Purity - 0.39 Gini Index - 0.7283 \n",
      "\n",
      "K=10\n",
      "Iteration 55 : CONVERGED!\n",
      "Purity - 0.5914 Gini Index - 0.4955 \n",
      "\n",
      "K=20\n",
      "Iteration 144 : CONVERGED!\n",
      "Purity - 0.7047 Gini Index - 0.352 \n",
      "\n",
      "-------------------------------------------------\n",
      "Using Cosine distances ....\n",
      "-------------------------------------------------\n",
      "K=5\n",
      "Iteration 37 : CONVERGED!\n",
      "Purity - 0.4641 Gini Index - 0.6118 \n",
      "\n",
      "K=10\n",
      "Iteration 187 : CONVERGED!\n",
      "Purity - 0.6037 Gini Index - 0.4783 \n",
      "\n",
      "K=20\n",
      "Iteration 82 : CONVERGED!\n",
      "Purity - 0.7304 Gini Index - 0.3748 \n",
      "\n"
     ]
    }
   ],
   "source": [
    "k_list = [5, 10, 20]\n",
    "\n",
    "print('With Normalizing')\n",
    "print('-------------------------------------------------')\n",
    "print('Using Euclidean distances ....')\n",
    "print('-------------------------------------------------')\n",
    "for k in k_list:\n",
    "    hard_kmeans(k, d='e', data=norm_mnist_data, labels=mnist_labels)\n",
    "\n",
    "print('-------------------------------------------------')\n",
    "print('Using Cosine distances ....')\n",
    "print('-------------------------------------------------')\n",
    "for k in k_list:\n",
    "    hard_kmeans(k, d='c', data=norm_mnist_data, labels=mnist_labels)"
   ]
  }
 ],
 "metadata": {
  "kernelspec": {
   "display_name": "Python 3",
   "language": "python",
   "name": "python3"
  },
  "language_info": {
   "codemirror_mode": {
    "name": "ipython",
    "version": 3
   },
   "file_extension": ".py",
   "mimetype": "text/x-python",
   "name": "python",
   "nbconvert_exporter": "python",
   "pygments_lexer": "ipython3",
   "version": "3.6.4"
  }
 },
 "nbformat": 4,
 "nbformat_minor": 2
}
