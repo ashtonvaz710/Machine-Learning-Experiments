{
 "cells": [
  {
   "cell_type": "code",
   "execution_count": 8,
   "metadata": {},
   "outputs": [],
   "source": [
    "from sklearn.datasets import fetch_20newsgroups\n",
    "from sklearn.feature_extraction.text import TfidfVectorizer\n",
    "from sklearn.metrics.pairwise import euclidean_distances, cosine_distances\n",
    "from scipy.sparse import csr_matrix,vstack\n",
    "from collections import Counter\n",
    "from random import randrange\n",
    "import numpy as np\n",
    "import scipy"
   ]
  },
  {
   "cell_type": "code",
   "execution_count": 6,
   "metadata": {},
   "outputs": [],
   "source": [
    "# K = no of cluster\n",
    "# d = distance measurement - 'c' for cosine, 'e' for euclidean\n",
    "def hard_kmeans(K, d, data, labels):\n",
    "    max_iterations = 200\n",
    "    centroids = []        # List of centroids\n",
    "    cluster = {}          # {index of centroid: [mnist samples]}\n",
    "    cluster_labels = {}   # {index of centroid: [mnist lables]}\n",
    "    cluster_index = {}    # {index of centroid: [mnist indices]}\n",
    "    iterations = 0\n",
    "    N = data.shape[0]\n",
    "    \n",
    "    # Assume K centroids (by random)\n",
    "    for i in range(K):\n",
    "        centroids.append(data[randrange(0, N - 1)])\n",
    "\n",
    "    print('K=%d' % (K))\n",
    "    \n",
    "    while(1):\n",
    "        \n",
    "        # Convert list of csr matrices to a 2d csr matrix\n",
    "        centroids = vstack(centroids) if type(data).__name__ == 'csr_matrix' else centroids\n",
    "        \n",
    "        # Compute distance matrix\n",
    "        if d == 'c':\n",
    "            distance_matrix = cosine_distances(data, centroids)\n",
    "        else:\n",
    "            distance_matrix = euclidean_distances(data, centroids)\n",
    "\n",
    "        # E step - compute memberships given centroids\n",
    "        cluster = {}\n",
    "        cluster_labels = {}\n",
    "        cluster_index = {}\n",
    "        for i in range(N):\n",
    "            cluster.setdefault(np.argmin(distance_matrix[i]), []).append(data[i])\n",
    "            cluster_labels.setdefault(np.argmin(distance_matrix[i]), []).append(labels[i])\n",
    "            cluster_index.setdefault(np.argmin(distance_matrix[i]), []).append(i)\n",
    "\n",
    "        # Store the current centroids before the M step\n",
    "        prev_centroids = []\n",
    "        for k in cluster:\n",
    "            prev_centroids.append(centroids[k])\n",
    "\n",
    "        # M step - compute centroids given memberships\n",
    "        centroids = []\n",
    "        for k in cluster:\n",
    "            # np.mean(vstack(cluster[k]), axis=0) returns a number, csr_matrix() converts it to a csr matrix\n",
    "            centroids.append(csr_matrix(np.mean(vstack(cluster[k]), axis=0))) if type(data).__name__ == 'csr_matrix' else centroids.append(np.mean(cluster[k], axis=0))\n",
    "\n",
    "        iterations += 1\n",
    "        \n",
    "        # Termination conditions - on convergence, else after a fixed number of iterations \n",
    "        if np.array_equal(centroids, prev_centroids): #allclose , atol=1e-2\n",
    "            print('Iteration', iterations,': CONVERGED!')\n",
    "            break\n",
    "\n",
    "        if iterations == max_iterations:\n",
    "            print('Iteration', iterations,': max reached')\n",
    "            break\n",
    "            \n",
    "    # Store list of labels as a Counter\n",
    "    for key,value in cluster_labels.items():\n",
    "        cluster_labels[key] = Counter(value)\n",
    "\n",
    "    # Calculate purity\n",
    "    purity = 0\n",
    "    for cluster in cluster_labels:\n",
    "        purity += max(cluster_labels[cluster].values())\n",
    "    purity /= N\n",
    "    \n",
    "    # Calculate gini index\n",
    "    gini_index = 0\n",
    "    for key,value in cluster_labels.items():\n",
    "        gini = 0\n",
    "        for k,v in value.items():\n",
    "            gini += (v / sum(cluster_labels[key].values())) ** 2\n",
    "        gini_index += 1 - gini\n",
    "    gini_index /= K\n",
    "    \n",
    "    # Final result\n",
    "    print('Purity -', round(purity, 4), 'Gini Index -', round(gini_index, 4), '\\n')"
   ]
  },
  {
   "cell_type": "code",
   "execution_count": 3,
   "metadata": {},
   "outputs": [
    {
     "name": "stdout",
     "output_type": "stream",
     "text": [
      "18846\n",
      "18846\n"
     ]
    }
   ],
   "source": [
    "# Fetch data\n",
    "ng_all = fetch_20newsgroups(subset='all')\n",
    "\n",
    "# Data and labels\n",
    "ng_data = ng_all.data\n",
    "\n",
    "ng_labels = []\n",
    "for i in range(len(ng_data)):\n",
    "    ng_labels.append(ng_all.target_names[ng_all.target[i]])\n",
    "\n",
    "print(len(ng_data))\n",
    "print(len(ng_labels))"
   ]
  },
  {
   "cell_type": "code",
   "execution_count": 4,
   "metadata": {},
   "outputs": [
    {
     "name": "stdout",
     "output_type": "stream",
     "text": [
      "(18846, 173451)\n"
     ]
    }
   ],
   "source": [
    "# Converting text to vectors\n",
    "tfidf = TfidfVectorizer(stop_words='english')\n",
    "vect_ng_all = tfidf.fit_transform(ng_all.data)\n",
    "print(vect_ng_all.shape)"
   ]
  },
  {
   "cell_type": "code",
   "execution_count": null,
   "metadata": {},
   "outputs": [
    {
     "name": "stdout",
     "output_type": "stream",
     "text": [
      "-------------------------------------------------\n",
      "Using Euclidean distances ....\n",
      "-------------------------------------------------\n",
      "K=10\n"
     ]
    },
    {
     "name": "stderr",
     "output_type": "stream",
     "text": [
      "c:\\users\\ashton\\appdata\\local\\programs\\python\\python36\\lib\\site-packages\\scipy\\sparse\\compressed.py:226: SparseEfficiencyWarning: Comparing sparse matrices using == is inefficient, try using != instead.\n",
      "  \" != instead.\", SparseEfficiencyWarning)\n"
     ]
    },
    {
     "name": "stdout",
     "output_type": "stream",
     "text": [
      "Iteration 200 : max reached\n",
      "Purity - 0.2896 Gini Index - 0.6675 \n",
      "\n",
      "K=20\n"
     ]
    }
   ],
   "source": [
    "k_list = [10, 20, 40]\n",
    "\n",
    "print('-------------------------------------------------')\n",
    "print('Using Euclidean distances ....')\n",
    "print('-------------------------------------------------')\n",
    "for k in k_list:\n",
    "    hard_kmeans(k, d='e', data=vect_ng_all, labels=ng_labels)\n",
    "\n",
    "print('-------------------------------------------------')\n",
    "print('Using Cosine distances ....')\n",
    "print('-------------------------------------------------')\n",
    "for k in k_list:\n",
    "    hard_kmeans(k, d='c', data=vect_ng_all, labels=ng_labels)"
   ]
  },
  {
   "cell_type": "code",
   "execution_count": null,
   "metadata": {},
   "outputs": [],
   "source": []
  }
 ],
 "metadata": {
  "kernelspec": {
   "display_name": "Python 3",
   "language": "python",
   "name": "python3"
  },
  "language_info": {
   "codemirror_mode": {
    "name": "ipython",
    "version": 3
   },
   "file_extension": ".py",
   "mimetype": "text/x-python",
   "name": "python",
   "nbconvert_exporter": "python",
   "pygments_lexer": "ipython3",
   "version": "3.6.4"
  }
 },
 "nbformat": 4,
 "nbformat_minor": 2
}
