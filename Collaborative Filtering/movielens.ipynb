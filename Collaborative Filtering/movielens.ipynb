{
 "cells": [
  {
   "cell_type": "code",
   "execution_count": 1,
   "metadata": {},
   "outputs": [],
   "source": [
    "from os import listdir\n",
    "from os.path import isfile, join\n",
    "from pprint import pprint\n",
    "from collections import Counter\n",
    "from sklearn.metrics.pairwise import cosine_distances, euclidean_distances\n",
    "from sklearn.metrics import accuracy_score, mean_squared_error\n",
    "import matplotlib.pyplot as plt\n",
    "import numpy as np\n",
    "import random\n",
    "import os"
   ]
  },
  {
   "cell_type": "code",
   "execution_count": 2,
   "metadata": {},
   "outputs": [],
   "source": [
    "# creates absolute path\n",
    "def abspath(path, *paths):\n",
    "    fpath = os.path.join(os.getcwd(), os.pardir, path)\n",
    "\n",
    "    for p in paths:\n",
    "        fpath = os.path.join(fpath, p)\n",
    "    return fpath"
   ]
  },
  {
   "cell_type": "code",
   "execution_count": 3,
   "metadata": {},
   "outputs": [
    {
     "name": "stdout",
     "output_type": "stream",
     "text": [
      "(100000, 4)\n",
      "(943, 5)\n",
      "(90570, 4)\n",
      "(9430, 4)\n",
      "(90570, 4)\n",
      "(9430, 4)\n",
      "(1682, 23)\n"
     ]
    }
   ],
   "source": [
    "train_directory = abspath('datasets', 'ml-100k')\n",
    "train_file_locations = [train_directory + '\\\\' + f for f in listdir(train_directory) if isfile(join(train_directory, f)) and f not in ['annotations.txt', 'notes.txt']]\n",
    "\n",
    "def retrieve_file_contents(filename, delimiter=' '):\n",
    "    data = []\n",
    "    with open(train_directory + r'\\\\' + filename) as f:\n",
    "        for line in f.readlines():\n",
    "            line = line.replace('\\n', ' ').replace('\\t', ' ').strip().split(delimiter)\n",
    "            if '' in line:\n",
    "                line.remove('')  # Only remove first occurence of '' that occurs in the list\n",
    "            data.append(line)\n",
    "    return data\n",
    "    \n",
    "u_data = np.array(retrieve_file_contents('u.data'))\n",
    "u_user = np.array(retrieve_file_contents('u.user', delimiter='|'))\n",
    "ua_base = np.array(retrieve_file_contents('ua.base'))\n",
    "ua_test = np.array(retrieve_file_contents('ua.test'))\n",
    "ub_base = np.array(retrieve_file_contents('ub.base'))\n",
    "ub_test = np.array(retrieve_file_contents('ub.test'))\n",
    "u_item = np.array(retrieve_file_contents('u.item', delimiter='|'))\n",
    "\n",
    "print(u_data.shape)\n",
    "print(u_user.shape)\n",
    "print(ua_base.shape)\n",
    "print(ua_test.shape)\n",
    "print(ub_base.shape)\n",
    "print(ub_test.shape)\n",
    "print(u_item.shape)"
   ]
  },
  {
   "cell_type": "code",
   "execution_count": 4,
   "metadata": {},
   "outputs": [],
   "source": [
    "def get_ratings_matrix(u_data):\n",
    "    ratings_matrix = u_data[:, [0,1,2]]\n",
    "    return ratings_matrix\n",
    "\n",
    "ratings_matrix = get_ratings_matrix(u_data)"
   ]
  },
  {
   "cell_type": "code",
   "execution_count": 5,
   "metadata": {},
   "outputs": [],
   "source": [
    "def get_utility_matrix(u_data):\n",
    "    utility_matrix = np.zeros((u_user.shape[0], u_item.shape[0]))\n",
    "    for data in u_data:\n",
    "        utility_matrix[int(data[0]) - 1][int(data[1]) - 1] = data[2]\n",
    "    return utility_matrix\n",
    "\n",
    "utility_matrix = get_utility_matrix(u_data)"
   ]
  },
  {
   "cell_type": "code",
   "execution_count": 6,
   "metadata": {},
   "outputs": [],
   "source": [
    "def get_user_sim_matrix(utility_matrix, distance_metric='e'):\n",
    "    user_sim_matrix = np.zeros((u_user.shape[0], u_user.shape[0]))\n",
    "    for i in range(u_user.shape[0]):\n",
    "        for j in range(u_user.shape[0]):\n",
    "            if distance_metric == 'e':\n",
    "                user_sim_matrix[i][j] = euclidean_distances([utility_matrix[i]], [utility_matrix[j]]) \n",
    "            elif distance_metric == 'c':\n",
    "                user_sim_matrix[i][j] = cosine_distances([utility_matrix[i]], [utility_matrix[j]]) \n",
    "    return user_sim_matrix\n",
    "\n",
    "euclidean_user_sim_matrix = get_user_sim_matrix(utility_matrix, distance_metric='e')\n",
    "cosine_user_sim_matrix = get_user_sim_matrix(utility_matrix, distance_metric='c')"
   ]
  },
  {
   "cell_type": "code",
   "execution_count": 7,
   "metadata": {},
   "outputs": [],
   "source": [
    "def get_row_idx(total_size, test_size=100):\n",
    "\n",
    "    # Sample out 'TEST_SIZE' number of indices\n",
    "    row_idx = np.zeros((test_size))\n",
    "    i = 0\n",
    "    while i < test_size:\n",
    "        r = random.randrange(0, total_size)\n",
    "        if r not in row_idx:\n",
    "            row_idx[i] = r\n",
    "            i += 1\n",
    "    row_idx = row_idx.astype(int)\n",
    "\n",
    "    return row_idx\n",
    "\n",
    "row_idx = get_row_idx(u_data.shape[0], test_size=100)\n",
    "test_data = u_data[row_idx[:, None], [0,1]]\n",
    "test_labels = u_data[row_idx[:, None], [2]]\n",
    "test_labels = test_labels.astype(np.int)"
   ]
  },
  {
   "cell_type": "code",
   "execution_count": 8,
   "metadata": {},
   "outputs": [],
   "source": [
    "def knn(K, distance_matrix, utility_matrix, test_data, test_labels):\n",
    "\n",
    "    predicted_labels = []       # List of predicted labels for test set \n",
    "    for data in test_data:\n",
    "        \n",
    "        i = int(data[0]) - 1\n",
    "        movie_id = int(data[1]) - 1\n",
    "        \n",
    "        # Store indices of sorted neighbors\n",
    "        neighbors = np.argsort(distance_matrix[i])\n",
    "        neighbors = np.delete(neighbors, np.argwhere(neighbors == i))\n",
    "\n",
    "        # Store labels of k nearest neighbors\n",
    "        weighted_avg = 0\n",
    "        den = 0\n",
    "        for j in range(K):\n",
    "            if utility_matrix[neighbors[j]][movie_id] != 0.0:\n",
    "                weighted_avg += utility_matrix[neighbors[j]][movie_id] * distance_matrix[i][neighbors[j]]\n",
    "                den += distance_matrix[i][neighbors[j]]\n",
    "        weighted_avg = weighted_avg / den if int(den) != 0 else 0.0    \n",
    "        predicted_labels.append([int(weighted_avg)])\n",
    "    predicted_labels = np.asarray(predicted_labels)\n",
    "    \n",
    "    return predicted_labels"
   ]
  },
  {
   "cell_type": "code",
   "execution_count": 1,
   "metadata": {},
   "outputs": [],
   "source": [
    "def get_rmse(predicted_labels, test_labels):\n",
    "    rmse = mean_squared_error(predicted_labels, test_labels) ** 0.5\n",
    "    return rmse"
   ]
  },
  {
   "cell_type": "code",
   "execution_count": 9,
   "metadata": {},
   "outputs": [
    {
     "data": {
      "image/png": "[encoded data removed]",
      "text/plain": [
       "<matplotlib.figure.Figure at 0x1d924659f60>"
      ]
     },
     "metadata": {},
     "output_type": "display_data"
    }
   ],
   "source": [
    "# Without normalizing, euclidean distances\n",
    "rmse = []\n",
    "for i in range(1, 50):\n",
    "    rmse.append(get_rmse(knn(i, euclidean_user_sim_matrix, utility_matrix, test_data, test_labels), test_labels))\n",
    "\n",
    "plt.plot(rmse)\n",
    "plt.show()\n",
    "\n",
    "print(get_rmse(knn(50, euclidean_user_sim_matrix, utility_matrix, test_data, test_labels), test_labels))"
   ]
  },
  {
   "cell_type": "code",
   "execution_count": 10,
   "metadata": {},
   "outputs": [
    {
     "data": {
      "image/png": "[encoded data removed]",
      "text/plain": [
       "<matplotlib.figure.Figure at 0x1d9246599b0>"
      ]
     },
     "metadata": {},
     "output_type": "display_data"
    }
   ],
   "source": [
    "# Without normalizing, cosine distances\n",
    "rmse = []\n",
    "for i in range(1, 50):\n",
    "    rmse.append(get_rmse(knn(i, cosine_user_sim_matrix, utility_matrix, test_data, test_labels), test_labels))\n",
    "\n",
    "plt.plot(rmse)\n",
    "plt.show()\n",
    "\n",
    "print(get_rmse(knn(50, cosine_user_sim_matrix, utility_matrix, test_data, test_labels), test_labels))"
   ]
  },
  {
   "cell_type": "code",
   "execution_count": null,
   "metadata": {},
   "outputs": [],
   "source": [
    ""
   ]
  }
 ],
 "metadata": {
  "kernelspec": {
   "display_name": "Python 3",
   "language": "python",
   "name": "python3"
  },
  "language_info": {
   "codemirror_mode": {
    "name": "ipython",
    "version": 3.0
   },
   "file_extension": ".py",
   "mimetype": "text/x-python",
   "name": "python",
   "nbconvert_exporter": "python",
   "pygments_lexer": "ipython3",
   "version": "3.6.4"
  }
 },
 "nbformat": 4,
 "nbformat_minor": 0
}