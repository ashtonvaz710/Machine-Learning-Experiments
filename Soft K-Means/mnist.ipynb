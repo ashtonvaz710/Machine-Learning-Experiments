{
 "cells": [
  {
   "cell_type": "code",
   "execution_count": 1,
   "metadata": {},
   "outputs": [],
   "source": [
    "from sklearn.mixture import GaussianMixture\n",
    "from sklearn.datasets import fetch_mldata\n",
    "from collections import Counter\n",
    "import numpy as np\n",
    "import os"
   ]
  },
  {
   "cell_type": "code",
   "execution_count": 2,
   "metadata": {},
   "outputs": [],
   "source": [
    "def evaluation_metrics(pred_labels, true_labels):\n",
    "    N = len(pred_labels)\n",
    "    \n",
    "    cluster_labels = {}\n",
    "    for i in range(len(pred_labels)):\n",
    "        cluster_labels.setdefault(pred_labels[i], []).append(true_labels[i])\n",
    "\n",
    "    K = len(cluster_labels)\n",
    "\n",
    "    # Store list of labels as a Counter\n",
    "    for key,value in cluster_labels.items():\n",
    "        cluster_labels[key] = Counter(value)\n",
    "\n",
    "    # Calculate purity\n",
    "    purity = 0\n",
    "    for cluster in cluster_labels:\n",
    "        purity += max(cluster_labels[cluster].values())\n",
    "    purity /= N\n",
    "\n",
    "    # Calculate gini index\n",
    "    gini_index = 0\n",
    "    for key,value in cluster_labels.items():\n",
    "        gini = 0\n",
    "        for k,v in value.items():\n",
    "            gini += (v / sum(cluster_labels[key].values())) ** 2\n",
    "        gini_index += 1 - gini\n",
    "    gini_index /= K\n",
    "\n",
    "    # Final result\n",
    "    print('Purity -', round(purity, 4), 'Gini Index -', round(gini_index, 4), '\\n')"
   ]
  },
  {
   "cell_type": "code",
   "execution_count": 3,
   "metadata": {},
   "outputs": [
    {
     "name": "stdout",
     "output_type": "stream",
     "text": [
      "(70000, 784)\n",
      "(70000,)\n"
     ]
    }
   ],
   "source": [
    "# Fetch data\n",
    "mnist_dataset = fetch_mldata('mnist original')\n",
    "\n",
    "# Data and labels\n",
    "mnist_data = mnist_dataset.data\n",
    "mnist_labels = mnist_dataset.target\n",
    "\n",
    "print(mnist_data.shape)\n",
    "print(mnist_labels.shape)"
   ]
  },
  {
   "cell_type": "code",
   "execution_count": 4,
   "metadata": {},
   "outputs": [
    {
     "name": "stdout",
     "output_type": "stream",
     "text": [
      "Without Normalizing\n",
      "Purity - 0.3765 Gini Index - 0.6833 \n",
      "\n"
     ]
    }
   ],
   "source": [
    "print('Without Normalizing')\n",
    "model = GaussianMixture(n_components=10, covariance_type='diag', init_params='kmeans', max_iter=200)\n",
    "model.fit(mnist_data)\n",
    "\n",
    "pred_train_labels = model.predict(mnist_data)\n",
    "evaluation_metrics(pred_train_labels, mnist_labels)"
   ]
  },
  {
   "cell_type": "code",
   "execution_count": 5,
   "metadata": {},
   "outputs": [
    {
     "name": "stdout",
     "output_type": "stream",
     "text": [
      "(70000, 784)\n"
     ]
    }
   ],
   "source": [
    "# Normalize data\n",
    "norm_mnist_data = np.divide(mnist_data, 255)\n",
    "print(norm_mnist_data.shape)"
   ]
  },
  {
   "cell_type": "code",
   "execution_count": 6,
   "metadata": {},
   "outputs": [
    {
     "name": "stdout",
     "output_type": "stream",
     "text": [
      "With Normalizing\n",
      "Purity - 0.4111 Gini Index - 0.7102 \n",
      "\n"
     ]
    }
   ],
   "source": [
    "print('With Normalizing')\n",
    "model = GaussianMixture(n_components=10, covariance_type='diag', init_params='kmeans', max_iter=200)\n",
    "model.fit(norm_mnist_data)\n",
    "\n",
    "pred_test_labels = model.predict(norm_mnist_data)\n",
    "evaluation_metrics(pred_test_labels, mnist_labels)"
   ]
  },
  {
   "cell_type": "code",
   "execution_count": null,
   "metadata": {},
   "outputs": [],
   "source": []
  }
 ],
 "metadata": {
  "kernelspec": {
   "display_name": "Python 3",
   "language": "python",
   "name": "python3"
  },
  "language_info": {
   "codemirror_mode": {
    "name": "ipython",
    "version": 3
   },
   "file_extension": ".py",
   "mimetype": "text/x-python",
   "name": "python",
   "nbconvert_exporter": "python",
   "pygments_lexer": "ipython3",
   "version": "3.6.4"
  }
 },
 "nbformat": 4,
 "nbformat_minor": 2
}
