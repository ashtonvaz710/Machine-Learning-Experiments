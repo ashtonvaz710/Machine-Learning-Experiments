{
 "cells": [
  {
   "cell_type": "code",
   "execution_count": 1,
   "metadata": {},
   "outputs": [],
   "source": [
    "from sklearn.mixture import GaussianMixture\n",
    "from collections import Counter\n",
    "import numpy as np\n",
    "import os"
   ]
  },
  {
   "cell_type": "code",
   "execution_count": 2,
   "metadata": {},
   "outputs": [],
   "source": [
    "# creates absolute path\n",
    "def abspath(path, *paths):\n",
    "    fpath = os.path.join(os.getcwd(), os.pardir, path)\n",
    "\n",
    "    for p in paths:\n",
    "        fpath = os.path.join(fpath, p)\n",
    "    return fpath"
   ]
  },
  {
   "cell_type": "code",
   "execution_count": 3,
   "metadata": {},
   "outputs": [],
   "source": [
    "def evaluation_metrics(pred_labels, true_labels):\n",
    "    N = len(pred_labels)\n",
    "    \n",
    "    cluster_labels = {}\n",
    "    for i in range(len(pred_labels)):\n",
    "        cluster_labels.setdefault(pred_labels[i], []).append(true_labels[i])\n",
    "\n",
    "    K = len(cluster_labels)\n",
    "\n",
    "    # Store list of labels as a Counter\n",
    "    for key,value in cluster_labels.items():\n",
    "        cluster_labels[key] = Counter(value)\n",
    "\n",
    "    # Calculate purity\n",
    "    purity = 0\n",
    "    for cluster in cluster_labels:\n",
    "        purity += max(cluster_labels[cluster].values())\n",
    "    purity /= N\n",
    "\n",
    "    # Calculate gini index\n",
    "    gini_index = 0\n",
    "    for key,value in cluster_labels.items():\n",
    "        gini = 0\n",
    "        for k,v in value.items():\n",
    "            gini += (v / sum(cluster_labels[key].values())) ** 2\n",
    "        gini_index += 1 - gini\n",
    "    gini_index /= K\n",
    "\n",
    "    # Final result\n",
    "    print('Purity -', round(purity, 4), 'Gini Index -', round(gini_index, 4), '\\n')"
   ]
  },
  {
   "cell_type": "code",
   "execution_count": 4,
   "metadata": {},
   "outputs": [
    {
     "name": "stdout",
     "output_type": "stream",
     "text": [
      "(60000, 785)\n",
      "(10000, 785)\n"
     ]
    }
   ],
   "source": [
    "# Fetch data\n",
    "fashion_train_path = abspath('datasets', 'fashion-mnist_train.csv')\n",
    "fashion_test_path = abspath('datasets', 'fashion-mnist_test.csv')\n",
    "\n",
    "fashion_train_dataset = np.loadtxt(open(fashion_train_path, 'rb'), delimiter=',', skiprows=1)\n",
    "fashion_test_dataset = np.loadtxt(open(fashion_test_path, 'rb'), delimiter=',', skiprows=1)\n",
    "\n",
    "print(fashion_train_dataset.shape)\n",
    "print(fashion_test_dataset.shape)"
   ]
  },
  {
   "cell_type": "code",
   "execution_count": 5,
   "metadata": {},
   "outputs": [
    {
     "name": "stdout",
     "output_type": "stream",
     "text": [
      "(60000, 784)\n",
      "(60000,)\n",
      "(10000, 784)\n",
      "(10000,)\n"
     ]
    }
   ],
   "source": [
    "# Data and labels\n",
    "fashion_train_data = fashion_train_dataset[:, list(range(1, fashion_train_dataset.shape[1]))]\n",
    "fashion_train_labels = fashion_train_dataset[:, 0]\n",
    "fashion_test_data = fashion_test_dataset[:, list(range(1, fashion_test_dataset.shape[1]))]\n",
    "fashion_test_labels = fashion_test_dataset[:, 0]\n",
    "\n",
    "print(fashion_train_data.shape)\n",
    "print(fashion_train_labels.shape)\n",
    "print(fashion_test_data.shape)\n",
    "print(fashion_test_labels.shape)"
   ]
  },
  {
   "cell_type": "code",
   "execution_count": 6,
   "metadata": {},
   "outputs": [
    {
     "name": "stdout",
     "output_type": "stream",
     "text": [
      "Without Normalizing - Train Data\n",
      "Purity - 0.4513 Gini Index - 0.5619 \n",
      "\n"
     ]
    }
   ],
   "source": [
    "print('Without Normalizing - Train Data')\n",
    "model = GaussianMixture(n_components=10, covariance_type='diag', init_params='kmeans', max_iter=200)\n",
    "model.fit(fashion_train_data)\n",
    "\n",
    "pred_train_labels = model.predict(fashion_train_data)\n",
    "evaluation_metrics(pred_train_labels, fashion_train_labels)"
   ]
  },
  {
   "cell_type": "code",
   "execution_count": 7,
   "metadata": {},
   "outputs": [
    {
     "name": "stdout",
     "output_type": "stream",
     "text": [
      "Without Normalizing - Test Data\n",
      "Purity - 0.4691 Gini Index - 0.5798 \n",
      "\n"
     ]
    }
   ],
   "source": [
    "print('Without Normalizing - Test Data')\n",
    "model = GaussianMixture(n_components=10, covariance_type='diag', init_params='kmeans', max_iter=200)\n",
    "model.fit(fashion_test_data)\n",
    "\n",
    "pred_train_labels = model.predict(fashion_test_data)\n",
    "evaluation_metrics(pred_train_labels, fashion_test_labels)"
   ]
  },
  {
   "cell_type": "code",
   "execution_count": 8,
   "metadata": {},
   "outputs": [],
   "source": [
    "# Normalize data\n",
    "norm_fashion_train_data = np.divide(fashion_train_data, 255)\n",
    "norm_fashion_test_data = np.divide(fashion_test_data, 255)"
   ]
  },
  {
   "cell_type": "code",
   "execution_count": 9,
   "metadata": {},
   "outputs": [
    {
     "name": "stdout",
     "output_type": "stream",
     "text": [
      "With Normalizing - Train Data\n",
      "Purity - 0.5208 Gini Index - 0.5509 \n",
      "\n"
     ]
    }
   ],
   "source": [
    "print('With Normalizing - Train Data')\n",
    "model = GaussianMixture(n_components=10, covariance_type='diag', init_params='kmeans', max_iter=200)\n",
    "model.fit(norm_fashion_train_data)\n",
    "\n",
    "pred_train_labels = model.predict(norm_fashion_train_data)\n",
    "evaluation_metrics(pred_train_labels, fashion_train_labels)"
   ]
  },
  {
   "cell_type": "code",
   "execution_count": 10,
   "metadata": {},
   "outputs": [
    {
     "name": "stdout",
     "output_type": "stream",
     "text": [
      "With Normalizing - Test Data\n",
      "Purity - 0.4794 Gini Index - 0.5924 \n",
      "\n"
     ]
    }
   ],
   "source": [
    "print('With Normalizing - Test Data')\n",
    "model = GaussianMixture(n_components=10, covariance_type='diag', init_params='kmeans', max_iter=200)\n",
    "model.fit(norm_fashion_test_data)\n",
    "\n",
    "pred_test_labels = model.predict(norm_fashion_test_data)\n",
    "evaluation_metrics(pred_test_labels, fashion_test_labels)"
   ]
  },
  {
   "cell_type": "code",
   "execution_count": null,
   "metadata": {},
   "outputs": [],
   "source": []
  }
 ],
 "metadata": {
  "kernelspec": {
   "display_name": "Python 3",
   "language": "python",
   "name": "python3"
  },
  "language_info": {
   "codemirror_mode": {
    "name": "ipython",
    "version": 3
   },
   "file_extension": ".py",
   "mimetype": "text/x-python",
   "name": "python",
   "nbconvert_exporter": "python",
   "pygments_lexer": "ipython3",
   "version": "3.6.4"
  }
 },
 "nbformat": 4,
 "nbformat_minor": 2
}
