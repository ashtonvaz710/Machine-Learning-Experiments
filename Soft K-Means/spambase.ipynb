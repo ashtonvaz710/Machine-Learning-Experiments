{
 "cells": [
  {
   "cell_type": "code",
   "execution_count": 1,
   "metadata": {},
   "outputs": [],
   "source": [
    "from sklearn.mixture import GaussianMixture\n",
    "from collections import Counter\n",
    "import numpy as np\n",
    "import os"
   ]
  },
  {
   "cell_type": "code",
   "execution_count": 2,
   "metadata": {},
   "outputs": [],
   "source": [
    "# creates absolute path\n",
    "def abspath(path, *paths):\n",
    "    fpath = os.path.join(os.getcwd(), os.pardir, path)\n",
    "\n",
    "    for p in paths:\n",
    "        fpath = os.path.join(fpath, p)\n",
    "    return fpath"
   ]
  },
  {
   "cell_type": "code",
   "execution_count": 3,
   "metadata": {},
   "outputs": [],
   "source": [
    "def evaluation_metrics(pred_labels, true_labels):\n",
    "    N = len(pred_labels)\n",
    "    \n",
    "    cluster_labels = {}\n",
    "    for i in range(len(pred_labels)):\n",
    "        cluster_labels.setdefault(pred_labels[i], []).append(true_labels[i])\n",
    "\n",
    "    K = len(cluster_labels)\n",
    "\n",
    "    # Store list of labels as a Counter\n",
    "    for key,value in cluster_labels.items():\n",
    "        cluster_labels[key] = Counter(value)\n",
    "\n",
    "    # Calculate purity\n",
    "    purity = 0\n",
    "    for cluster in cluster_labels:\n",
    "        purity += max(cluster_labels[cluster].values())\n",
    "    purity /= N\n",
    "\n",
    "    # Calculate gini index\n",
    "    gini_index = 0\n",
    "    for key,value in cluster_labels.items():\n",
    "        gini = 0\n",
    "        for k,v in value.items():\n",
    "            gini += (v / sum(cluster_labels[key].values())) ** 2\n",
    "        gini_index += 1 - gini\n",
    "    gini_index /= K\n",
    "\n",
    "    # Final result\n",
    "    print('Purity -', round(purity, 4), 'Gini Index -', round(gini_index, 4), '\\n')"
   ]
  },
  {
   "cell_type": "code",
   "execution_count": 4,
   "metadata": {},
   "outputs": [
    {
     "name": "stdout",
     "output_type": "stream",
     "text": [
      "C:\\Users\\Ashton\\Documents\\GitHub\\Machine-Learning-Experiments\\Soft K-Means\\..\\datasets\\spambase.data\n",
      "(4601, 58)\n",
      "(4601, 57)\n",
      "(4601,)\n"
     ]
    }
   ],
   "source": [
    "# Fetch data\n",
    "spambase_path = abspath('datasets', 'spambase.data')\n",
    "print(spambase_path)\n",
    "spambase_dataset = np.loadtxt(open(spambase_path, 'rb'), delimiter=',')\n",
    "\n",
    "# Data and labels\n",
    "spambase_data = spambase_dataset[:, list(range(0, spambase_dataset.shape[1] - 1))]\n",
    "spambase_labels = spambase_dataset[:, spambase_dataset.shape[1] - 1]\n",
    "\n",
    "print(spambase_dataset.shape)\n",
    "print(spambase_data.shape)\n",
    "print(spambase_labels.shape)"
   ]
  },
  {
   "cell_type": "code",
   "execution_count": 5,
   "metadata": {},
   "outputs": [
    {
     "name": "stdout",
     "output_type": "stream",
     "text": [
      "Purity - 0.7485 Gini Index - 0.3076 \n",
      "\n"
     ]
    }
   ],
   "source": [
    "model = GaussianMixture(n_components=2, covariance_type='diag', init_params='kmeans', max_iter=200)\n",
    "model.fit(spambase_data)\n",
    "\n",
    "pred_labels = model.predict(spambase_data)\n",
    "evaluation_metrics(pred_labels, spambase_labels)"
   ]
  },
  {
   "cell_type": "code",
   "execution_count": null,
   "metadata": {},
   "outputs": [],
   "source": []
  }
 ],
 "metadata": {
  "kernelspec": {
   "display_name": "Python 3",
   "language": "python",
   "name": "python3"
  },
  "language_info": {
   "codemirror_mode": {
    "name": "ipython",
    "version": 3
   },
   "file_extension": ".py",
   "mimetype": "text/x-python",
   "name": "python",
   "nbconvert_exporter": "python",
   "pygments_lexer": "ipython3",
   "version": "3.6.4"
  }
 },
 "nbformat": 4,
 "nbformat_minor": 2
}
