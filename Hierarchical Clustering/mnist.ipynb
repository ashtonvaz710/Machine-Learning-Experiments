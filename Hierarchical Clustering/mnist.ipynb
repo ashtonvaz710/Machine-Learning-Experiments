{
 "cells": [
  {
   "cell_type": "code",
   "execution_count": 1,
   "metadata": {},
   "outputs": [],
   "source": [
    "from sklearn.datasets import fetch_mldata\n",
    "from sklearn.metrics.pairwise import euclidean_distances, cosine_distances\n",
    "from sklearn.cluster import AgglomerativeClustering\n",
    "from pprint import pprint\n",
    "from collections import Counter\n",
    "from random import randrange\n",
    "import numpy as np"
   ]
  },
  {
   "cell_type": "code",
   "execution_count": 2,
   "metadata": {},
   "outputs": [],
   "source": [
    "def evaluation_metrics(pred_labels, true_labels=None):\n",
    "    if true_labels is not None:\n",
    "        N = len(pred_labels)\n",
    "\n",
    "        cluster_labels = {}\n",
    "        for i in range(len(pred_labels)):\n",
    "            cluster_labels.setdefault(pred_labels[i], []).append(true_labels[i])\n",
    "\n",
    "        cluster_labels.pop('Noise', None)\n",
    "        K = len(cluster_labels)\n",
    "\n",
    "        # Store list of labels as a Counter\n",
    "        for key,value in cluster_labels.items():\n",
    "            cluster_labels[key] = Counter(value)\n",
    "\n",
    "        # Calculate purity\n",
    "        purity = 0\n",
    "        for cluster in cluster_labels:\n",
    "            purity += max(cluster_labels[cluster].values())\n",
    "\n",
    "        purity /= N\n",
    "\n",
    "        # Calculate gini index\n",
    "        gini_index = 0\n",
    "        for key,value in cluster_labels.items():\n",
    "            gini = 0\n",
    "            for k,v in value.items():\n",
    "                gini += (v / sum(cluster_labels[key].values())) ** 2\n",
    "            gini_index += 1 - gini\n",
    "\n",
    "        gini_index /= K if K != 0 else 1\n",
    "\n",
    "        # Final result\n",
    "        print('Purity -', round(purity, 4), 'Gini Index -', round(gini_index, 4))\n",
    "\n",
    "    print('No. of clusters -', len(Counter(pred_labels)))\n",
    "    print(Counter(pred_labels), '\\n')"
   ]
  },
  {
   "cell_type": "code",
   "execution_count": 3,
   "metadata": {},
   "outputs": [],
   "source": [
    "# N - size of sample\n",
    "def get_samples(data, N, labels=None):\n",
    "    sampled_data = np.zeros((N, data.shape[1]))\n",
    "    \n",
    "    if labels is None:\n",
    "        for i in range(N):\n",
    "            j = randrange(0, data.shape[0] - 1)\n",
    "            sampled_data[i] = data[j]\n",
    "\n",
    "        return sampled_data\n",
    "        \n",
    "    else:\n",
    "        sampled_labels = []\n",
    "        for i in range(N):\n",
    "            j = randrange(0, data.shape[0] - 1)\n",
    "            sampled_data[i] = data[j]\n",
    "            sampled_labels.append(labels[j])\n",
    "\n",
    "        return (sampled_data, sampled_labels)"
   ]
  },
  {
   "cell_type": "code",
   "execution_count": 4,
   "metadata": {},
   "outputs": [
    {
     "name": "stdout",
     "output_type": "stream",
     "text": [
      "(70000, 784)\n",
      "(70000,)\n"
     ]
    }
   ],
   "source": [
    "# Fetch data\n",
    "mnist_dataset = fetch_mldata('mnist original')\n",
    "\n",
    "# Data and labels\n",
    "mnist_data = mnist_dataset.data\n",
    "mnist_labels = mnist_dataset.target\n",
    "\n",
    "print(mnist_data.shape)\n",
    "print(mnist_labels.shape)"
   ]
  },
  {
   "cell_type": "code",
   "execution_count": 5,
   "metadata": {},
   "outputs": [
    {
     "name": "stdout",
     "output_type": "stream",
     "text": [
      "Purity - 0.714 Gini Index - 0.2597\n",
      "No. of clusters - 10\n",
      "Counter({1: 3315, 2: 3092, 0: 3009, 3: 2764, 6: 1878, 7: 1640, 5: 1374, 4: 1302, 8: 875, 9: 751}) \n",
      "\n"
     ]
    }
   ],
   "source": [
    "# Without normalizing\n",
    "sampled_data, sampled_labels = get_samples(mnist_data, 20000, mnist_labels)\n",
    "model = AgglomerativeClustering(n_clusters=10)\n",
    "pred_labels = model.fit_predict(sampled_data)\n",
    "evaluation_metrics(pred_labels, sampled_labels)"
   ]
  },
  {
   "cell_type": "code",
   "execution_count": 6,
   "metadata": {},
   "outputs": [
    {
     "name": "stdout",
     "output_type": "stream",
     "text": [
      "(70000, 784)\n"
     ]
    }
   ],
   "source": [
    "# Normalize data\n",
    "norm_mnist_data = np.divide(mnist_data, 255)\n",
    "print(norm_mnist_data.shape)"
   ]
  },
  {
   "cell_type": "code",
   "execution_count": 7,
   "metadata": {},
   "outputs": [
    {
     "name": "stdout",
     "output_type": "stream",
     "text": [
      "Purity - 0.627 Gini Index - 0.3666\n",
      "No. of clusters - 10\n",
      "Counter({0: 3288, 3: 2711, 6: 2590, 1: 1968, 7: 1951, 5: 1896, 2: 1832, 4: 1647, 9: 1478, 8: 639}) \n",
      "\n"
     ]
    }
   ],
   "source": [
    "# With normalizing\n",
    "sampled_data, sampled_labels = get_samples(norm_mnist_data, 20000, mnist_labels)\n",
    "model = AgglomerativeClustering(n_clusters=10)\n",
    "pred_labels = model.fit(sampled_data)\n",
    "evaluation_metrics(pred_labels.labels_, sampled_labels)"
   ]
  },
  {
   "cell_type": "code",
   "execution_count": null,
   "metadata": {},
   "outputs": [],
   "source": []
  }
 ],
 "metadata": {
  "kernelspec": {
   "display_name": "Python 3",
   "language": "python",
   "name": "python3"
  },
  "language_info": {
   "codemirror_mode": {
    "name": "ipython",
    "version": 3
   },
   "file_extension": ".py",
   "mimetype": "text/x-python",
   "name": "python",
   "nbconvert_exporter": "python",
   "pygments_lexer": "ipython3",
   "version": "3.6.4"
  }
 },
 "nbformat": 4,
 "nbformat_minor": 2
}
